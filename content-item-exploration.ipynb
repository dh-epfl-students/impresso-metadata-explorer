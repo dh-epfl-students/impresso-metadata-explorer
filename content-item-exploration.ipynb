{
 "cells": [
  {
   "cell_type": "markdown",
   "metadata": {},
   "source": [
    "# Exploration of Dask"
   ]
  },
  {
   "cell_type": "code",
   "execution_count": 1,
   "metadata": {},
   "outputs": [],
   "source": [
    "from impresso_commons.utils.s3 import IMPRESSO_STORAGEOPT\n",
    "from dask import dataframe as ddf"
   ]
  },
  {
   "cell_type": "code",
   "execution_count": 2,
   "metadata": {},
   "outputs": [],
   "source": [
    "PATH = '/scratch/students/justine/'\n",
    "FILE = 's3-impresso-stats'"
   ]
  },
  {
   "cell_type": "code",
   "execution_count": 3,
   "metadata": {},
   "outputs": [],
   "source": [
    "test_df = ddf.read_csv(\n",
    "    PATH+FILE+\"/content-item-stats/*\",\n",
    "    storage_options=IMPRESSO_STORAGEOPT\n",
    ")"
   ]
  },
  {
   "cell_type": "markdown",
   "metadata": {},
   "source": [
    "## Explore dataframe"
   ]
  },
  {
   "cell_type": "markdown",
   "metadata": {},
   "source": [
    "### Snapshots"
   ]
  },
  {
   "cell_type": "code",
   "execution_count": 4,
   "metadata": {},
   "outputs": [
    {
     "data": {
      "text/html": [
       "<div>\n",
       "<style scoped>\n",
       "    .dataframe tbody tr th:only-of-type {\n",
       "        vertical-align: middle;\n",
       "    }\n",
       "\n",
       "    .dataframe tbody tr th {\n",
       "        vertical-align: top;\n",
       "    }\n",
       "\n",
       "    .dataframe thead th {\n",
       "        text-align: right;\n",
       "    }\n",
       "</style>\n",
       "<table border=\"1\" class=\"dataframe\">\n",
       "  <thead>\n",
       "    <tr style=\"text-align: right;\">\n",
       "      <th></th>\n",
       "      <th>id</th>\n",
       "      <th>year</th>\n",
       "      <th>newspaper</th>\n",
       "      <th>type</th>\n",
       "      <th>n_tokens</th>\n",
       "      <th>title_length</th>\n",
       "    </tr>\n",
       "  </thead>\n",
       "  <tbody>\n",
       "    <tr>\n",
       "      <td>0</td>\n",
       "      <td>BDC-1839-01-20-a-i0001</td>\n",
       "      <td>1839</td>\n",
       "      <td>BDC</td>\n",
       "      <td>ar</td>\n",
       "      <td>250.0</td>\n",
       "      <td>4.0</td>\n",
       "    </tr>\n",
       "    <tr>\n",
       "      <td>1</td>\n",
       "      <td>BDC-1839-01-20-a-i0002</td>\n",
       "      <td>1839</td>\n",
       "      <td>BDC</td>\n",
       "      <td>ar</td>\n",
       "      <td>758.0</td>\n",
       "      <td>NaN</td>\n",
       "    </tr>\n",
       "    <tr>\n",
       "      <td>2</td>\n",
       "      <td>BDC-1839-01-20-a-i0003</td>\n",
       "      <td>1839</td>\n",
       "      <td>BDC</td>\n",
       "      <td>ar</td>\n",
       "      <td>14.0</td>\n",
       "      <td>31.0</td>\n",
       "    </tr>\n",
       "    <tr>\n",
       "      <td>3</td>\n",
       "      <td>BDC-1839-01-20-a-i0004</td>\n",
       "      <td>1839</td>\n",
       "      <td>BDC</td>\n",
       "      <td>ar</td>\n",
       "      <td>349.0</td>\n",
       "      <td>22.0</td>\n",
       "    </tr>\n",
       "    <tr>\n",
       "      <td>4</td>\n",
       "      <td>BDC-1839-01-20-a-i0005</td>\n",
       "      <td>1839</td>\n",
       "      <td>BDC</td>\n",
       "      <td>ar</td>\n",
       "      <td>193.0</td>\n",
       "      <td>NaN</td>\n",
       "    </tr>\n",
       "  </tbody>\n",
       "</table>\n",
       "</div>"
      ],
      "text/plain": [
       "                       id  year newspaper type  n_tokens  title_length\n",
       "0  BDC-1839-01-20-a-i0001  1839       BDC   ar     250.0           4.0\n",
       "1  BDC-1839-01-20-a-i0002  1839       BDC   ar     758.0           NaN\n",
       "2  BDC-1839-01-20-a-i0003  1839       BDC   ar      14.0          31.0\n",
       "3  BDC-1839-01-20-a-i0004  1839       BDC   ar     349.0          22.0\n",
       "4  BDC-1839-01-20-a-i0005  1839       BDC   ar     193.0           NaN"
      ]
     },
     "execution_count": 4,
     "metadata": {},
     "output_type": "execute_result"
    }
   ],
   "source": [
    "test_df.head(5)"
   ]
  },
  {
   "cell_type": "code",
   "execution_count": 5,
   "metadata": {},
   "outputs": [
    {
     "data": {
      "text/html": [
       "<div>\n",
       "<style scoped>\n",
       "    .dataframe tbody tr th:only-of-type {\n",
       "        vertical-align: middle;\n",
       "    }\n",
       "\n",
       "    .dataframe tbody tr th {\n",
       "        vertical-align: top;\n",
       "    }\n",
       "\n",
       "    .dataframe thead th {\n",
       "        text-align: right;\n",
       "    }\n",
       "</style>\n",
       "<table border=\"1\" class=\"dataframe\">\n",
       "  <thead>\n",
       "    <tr style=\"text-align: right;\">\n",
       "      <th></th>\n",
       "      <th>id</th>\n",
       "      <th>year</th>\n",
       "      <th>newspaper</th>\n",
       "      <th>type</th>\n",
       "      <th>n_tokens</th>\n",
       "      <th>title_length</th>\n",
       "    </tr>\n",
       "  </thead>\n",
       "  <tbody>\n",
       "    <tr>\n",
       "      <td>173</td>\n",
       "      <td>waeschfra-1884-07-05-a-i0017</td>\n",
       "      <td>1884</td>\n",
       "      <td>waeschfra</td>\n",
       "      <td>ar</td>\n",
       "      <td>19.0</td>\n",
       "      <td>NaN</td>\n",
       "    </tr>\n",
       "    <tr>\n",
       "      <td>174</td>\n",
       "      <td>waeschfra-1884-07-05-a-i0018</td>\n",
       "      <td>1884</td>\n",
       "      <td>waeschfra</td>\n",
       "      <td>img</td>\n",
       "      <td>NaN</td>\n",
       "      <td>NaN</td>\n",
       "    </tr>\n",
       "    <tr>\n",
       "      <td>175</td>\n",
       "      <td>waeschfra-1884-07-05-a-i0019</td>\n",
       "      <td>1884</td>\n",
       "      <td>waeschfra</td>\n",
       "      <td>img</td>\n",
       "      <td>NaN</td>\n",
       "      <td>NaN</td>\n",
       "    </tr>\n",
       "    <tr>\n",
       "      <td>176</td>\n",
       "      <td>waeschfra-1884-07-05-a-i0020</td>\n",
       "      <td>1884</td>\n",
       "      <td>waeschfra</td>\n",
       "      <td>img</td>\n",
       "      <td>NaN</td>\n",
       "      <td>NaN</td>\n",
       "    </tr>\n",
       "    <tr>\n",
       "      <td>177</td>\n",
       "      <td>waeschfra-1884-07-05-a-i0021</td>\n",
       "      <td>1884</td>\n",
       "      <td>waeschfra</td>\n",
       "      <td>img</td>\n",
       "      <td>NaN</td>\n",
       "      <td>NaN</td>\n",
       "    </tr>\n",
       "  </tbody>\n",
       "</table>\n",
       "</div>"
      ],
      "text/plain": [
       "                               id  year  newspaper type  n_tokens  \\\n",
       "173  waeschfra-1884-07-05-a-i0017  1884  waeschfra   ar      19.0   \n",
       "174  waeschfra-1884-07-05-a-i0018  1884  waeschfra  img       NaN   \n",
       "175  waeschfra-1884-07-05-a-i0019  1884  waeschfra  img       NaN   \n",
       "176  waeschfra-1884-07-05-a-i0020  1884  waeschfra  img       NaN   \n",
       "177  waeschfra-1884-07-05-a-i0021  1884  waeschfra  img       NaN   \n",
       "\n",
       "     title_length  \n",
       "173           NaN  \n",
       "174           NaN  \n",
       "175           NaN  \n",
       "176           NaN  \n",
       "177           NaN  "
      ]
     },
     "execution_count": 5,
     "metadata": {},
     "output_type": "execute_result"
    }
   ],
   "source": [
    "test_df.tail(5)"
   ]
  },
  {
   "cell_type": "code",
   "execution_count": 7,
   "metadata": {},
   "outputs": [
    {
     "name": "stdout",
     "output_type": "stream",
     "text": [
      "CPU times: user 3.21 s, sys: 603 ms, total: 3.81 s\n",
      "Wall time: 2.12 s\n"
     ]
    },
    {
     "data": {
      "text/html": [
       "<div>\n",
       "<style scoped>\n",
       "    .dataframe tbody tr th:only-of-type {\n",
       "        vertical-align: middle;\n",
       "    }\n",
       "\n",
       "    .dataframe tbody tr th {\n",
       "        vertical-align: top;\n",
       "    }\n",
       "\n",
       "    .dataframe thead th {\n",
       "        text-align: right;\n",
       "    }\n",
       "</style>\n",
       "<table border=\"1\" class=\"dataframe\">\n",
       "  <thead>\n",
       "    <tr style=\"text-align: right;\">\n",
       "      <th></th>\n",
       "      <th>id</th>\n",
       "      <th>year</th>\n",
       "      <th>newspaper</th>\n",
       "      <th>type</th>\n",
       "      <th>n_tokens</th>\n",
       "      <th>title_length</th>\n",
       "    </tr>\n",
       "  </thead>\n",
       "  <tbody>\n",
       "    <tr>\n",
       "      <td>0</td>\n",
       "      <td>BDC-1839-01-20-a-i0001</td>\n",
       "      <td>1839</td>\n",
       "      <td>BDC</td>\n",
       "      <td>ar</td>\n",
       "      <td>250.0</td>\n",
       "      <td>4.0</td>\n",
       "    </tr>\n",
       "    <tr>\n",
       "      <td>1</td>\n",
       "      <td>BDC-1839-01-20-a-i0002</td>\n",
       "      <td>1839</td>\n",
       "      <td>BDC</td>\n",
       "      <td>ar</td>\n",
       "      <td>758.0</td>\n",
       "      <td>NaN</td>\n",
       "    </tr>\n",
       "    <tr>\n",
       "      <td>2</td>\n",
       "      <td>BDC-1839-01-20-a-i0003</td>\n",
       "      <td>1839</td>\n",
       "      <td>BDC</td>\n",
       "      <td>ar</td>\n",
       "      <td>14.0</td>\n",
       "      <td>31.0</td>\n",
       "    </tr>\n",
       "    <tr>\n",
       "      <td>3</td>\n",
       "      <td>BDC-1839-01-20-a-i0004</td>\n",
       "      <td>1839</td>\n",
       "      <td>BDC</td>\n",
       "      <td>ar</td>\n",
       "      <td>349.0</td>\n",
       "      <td>22.0</td>\n",
       "    </tr>\n",
       "    <tr>\n",
       "      <td>4</td>\n",
       "      <td>BDC-1839-01-20-a-i0005</td>\n",
       "      <td>1839</td>\n",
       "      <td>BDC</td>\n",
       "      <td>ar</td>\n",
       "      <td>193.0</td>\n",
       "      <td>NaN</td>\n",
       "    </tr>\n",
       "    <tr>\n",
       "      <td>...</td>\n",
       "      <td>...</td>\n",
       "      <td>...</td>\n",
       "      <td>...</td>\n",
       "      <td>...</td>\n",
       "      <td>...</td>\n",
       "      <td>...</td>\n",
       "    </tr>\n",
       "    <tr>\n",
       "      <td>538</td>\n",
       "      <td>BNN-1886-01-30-a-i0017</td>\n",
       "      <td>1886</td>\n",
       "      <td>BNN</td>\n",
       "      <td>ar</td>\n",
       "      <td>102.0</td>\n",
       "      <td>14.0</td>\n",
       "    </tr>\n",
       "    <tr>\n",
       "      <td>539</td>\n",
       "      <td>BNN-1886-01-30-a-i0018</td>\n",
       "      <td>1886</td>\n",
       "      <td>BNN</td>\n",
       "      <td>ar</td>\n",
       "      <td>136.0</td>\n",
       "      <td>35.0</td>\n",
       "    </tr>\n",
       "    <tr>\n",
       "      <td>540</td>\n",
       "      <td>BNN-1886-01-30-a-i0019</td>\n",
       "      <td>1886</td>\n",
       "      <td>BNN</td>\n",
       "      <td>ar</td>\n",
       "      <td>8.0</td>\n",
       "      <td>13.0</td>\n",
       "    </tr>\n",
       "    <tr>\n",
       "      <td>541</td>\n",
       "      <td>BNN-1886-01-30-a-i0020</td>\n",
       "      <td>1886</td>\n",
       "      <td>BNN</td>\n",
       "      <td>ar</td>\n",
       "      <td>39.0</td>\n",
       "      <td>19.0</td>\n",
       "    </tr>\n",
       "    <tr>\n",
       "      <td>542</td>\n",
       "      <td>BNN-1886-01-30-a-i0021</td>\n",
       "      <td>1886</td>\n",
       "      <td>BNN</td>\n",
       "      <td>ar</td>\n",
       "      <td>1158.0</td>\n",
       "      <td>18.0</td>\n",
       "    </tr>\n",
       "  </tbody>\n",
       "</table>\n",
       "<p>1000 rows × 6 columns</p>\n",
       "</div>"
      ],
      "text/plain": [
       "                         id  year newspaper type  n_tokens  title_length\n",
       "0    BDC-1839-01-20-a-i0001  1839       BDC   ar     250.0           4.0\n",
       "1    BDC-1839-01-20-a-i0002  1839       BDC   ar     758.0           NaN\n",
       "2    BDC-1839-01-20-a-i0003  1839       BDC   ar      14.0          31.0\n",
       "3    BDC-1839-01-20-a-i0004  1839       BDC   ar     349.0          22.0\n",
       "4    BDC-1839-01-20-a-i0005  1839       BDC   ar     193.0           NaN\n",
       "..                      ...   ...       ...  ...       ...           ...\n",
       "538  BNN-1886-01-30-a-i0017  1886       BNN   ar     102.0          14.0\n",
       "539  BNN-1886-01-30-a-i0018  1886       BNN   ar     136.0          35.0\n",
       "540  BNN-1886-01-30-a-i0019  1886       BNN   ar       8.0          13.0\n",
       "541  BNN-1886-01-30-a-i0020  1886       BNN   ar      39.0          19.0\n",
       "542  BNN-1886-01-30-a-i0021  1886       BNN   ar    1158.0          18.0\n",
       "\n",
       "[1000 rows x 6 columns]"
      ]
     },
     "execution_count": 7,
     "metadata": {},
     "output_type": "execute_result"
    }
   ],
   "source": [
    "%time test_df.head(1000,npartitions=3)"
   ]
  },
  {
   "cell_type": "markdown",
   "metadata": {},
   "source": [
    "### Info in the type column"
   ]
  },
  {
   "cell_type": "code",
   "execution_count": 8,
   "metadata": {},
   "outputs": [
    {
     "name": "stdout",
     "output_type": "stream",
     "text": [
      "CPU times: user 3min 4s, sys: 5min 36s, total: 8min 40s\n",
      "Wall time: 1min 25s\n"
     ]
    },
    {
     "data": {
      "text/plain": [
       "0         ar\n",
       "1        img\n",
       "2         ad\n",
       "3    section\n",
       "4    picture\n",
       "5       page\n",
       "6         tb\n",
       "7         ob\n",
       "8          w\n",
       "Name: type, dtype: object"
      ]
     },
     "execution_count": 8,
     "metadata": {},
     "output_type": "execute_result"
    }
   ],
   "source": [
    "%time test_df.type.unique().compute()"
   ]
  },
  {
   "cell_type": "markdown",
   "metadata": {},
   "source": [
    "### Try filtering"
   ]
  },
  {
   "cell_type": "code",
   "execution_count": 9,
   "metadata": {},
   "outputs": [
    {
     "name": "stdout",
     "output_type": "stream",
     "text": [
      "CPU times: user 3min 15s, sys: 5min 57s, total: 9min 13s\n",
      "Wall time: 1min 18s\n"
     ]
    }
   ],
   "source": [
    "%%time \n",
    "BDC_ar_df = test_df[(test_df.newspaper=='BDC') & (test_df.type=='ar')].compute()"
   ]
  },
  {
   "cell_type": "markdown",
   "metadata": {},
   "source": [
    "## Statistics"
   ]
  },
  {
   "cell_type": "markdown",
   "metadata": {},
   "source": [
    "### Number of rows"
   ]
  },
  {
   "cell_type": "code",
   "execution_count": 10,
   "metadata": {
    "scrolled": true
   },
   "outputs": [
    {
     "name": "stdout",
     "output_type": "stream",
     "text": [
      "CPU times: user 3min 2s, sys: 5min 47s, total: 8min 49s\n",
      "Wall time: 1min 10s\n"
     ]
    },
    {
     "data": {
      "text/plain": [
       "47876994"
      ]
     },
     "execution_count": 10,
     "metadata": {},
     "output_type": "execute_result"
    }
   ],
   "source": [
    "%time test_df.shape[0].compute()"
   ]
  },
  {
   "cell_type": "markdown",
   "metadata": {},
   "source": [
    "### Number of content items per np"
   ]
  },
  {
   "cell_type": "code",
   "execution_count": 11,
   "metadata": {},
   "outputs": [],
   "source": [
    "count_rows_np = test_df.groupby('newspaper').id.count()"
   ]
  },
  {
   "cell_type": "code",
   "execution_count": 12,
   "metadata": {},
   "outputs": [
    {
     "name": "stdout",
     "output_type": "stream",
     "text": [
      "CPU times: user 3min 44s, sys: 8min, total: 11min 44s\n",
      "Wall time: 1min 19s\n"
     ]
    }
   ],
   "source": [
    "%%time \n",
    "count_rows_np_pd = count_rows_np.compute()"
   ]
  },
  {
   "cell_type": "code",
   "execution_count": 13,
   "metadata": {},
   "outputs": [
    {
     "data": {
      "text/plain": [
       "newspaper\n",
       "BDC                 146\n",
       "BLB                 429\n",
       "BNN               50500\n",
       "CDV               16939\n",
       "CON                2842\n",
       "                  ...  \n",
       "schmiede           2940\n",
       "tageblatt        993158\n",
       "volkfreu1869      34410\n",
       "waechtersauer     37123\n",
       "waeschfra         19953\n",
       "Name: id, Length: 76, dtype: int64"
      ]
     },
     "execution_count": 13,
     "metadata": {},
     "output_type": "execute_result"
    }
   ],
   "source": [
    "count_rows_np_pd"
   ]
  },
  {
   "cell_type": "markdown",
   "metadata": {},
   "source": [
    "### Join with issues table"
   ]
  },
  {
   "cell_type": "markdown",
   "metadata": {},
   "source": [
    "#### Create column issue id"
   ]
  },
  {
   "cell_type": "code",
   "execution_count": 4,
   "metadata": {},
   "outputs": [],
   "source": [
    "test_df['issue_id'] = test_df.id.apply(lambda x: x[:x.rfind(\"-\")], meta=str)"
   ]
  },
  {
   "cell_type": "code",
   "execution_count": 5,
   "metadata": {},
   "outputs": [
    {
     "data": {
      "text/html": [
       "<div>\n",
       "<style scoped>\n",
       "    .dataframe tbody tr th:only-of-type {\n",
       "        vertical-align: middle;\n",
       "    }\n",
       "\n",
       "    .dataframe tbody tr th {\n",
       "        vertical-align: top;\n",
       "    }\n",
       "\n",
       "    .dataframe thead th {\n",
       "        text-align: right;\n",
       "    }\n",
       "</style>\n",
       "<table border=\"1\" class=\"dataframe\">\n",
       "  <thead>\n",
       "    <tr style=\"text-align: right;\">\n",
       "      <th></th>\n",
       "      <th>id</th>\n",
       "      <th>year</th>\n",
       "      <th>newspaper</th>\n",
       "      <th>type</th>\n",
       "      <th>n_tokens</th>\n",
       "      <th>title_length</th>\n",
       "      <th>issue_id</th>\n",
       "    </tr>\n",
       "  </thead>\n",
       "  <tbody>\n",
       "    <tr>\n",
       "      <td>0</td>\n",
       "      <td>BDC-1839-01-20-a-i0001</td>\n",
       "      <td>1839</td>\n",
       "      <td>BDC</td>\n",
       "      <td>ar</td>\n",
       "      <td>250.0</td>\n",
       "      <td>4.0</td>\n",
       "      <td>BDC-1839-01-20-a</td>\n",
       "    </tr>\n",
       "    <tr>\n",
       "      <td>1</td>\n",
       "      <td>BDC-1839-01-20-a-i0002</td>\n",
       "      <td>1839</td>\n",
       "      <td>BDC</td>\n",
       "      <td>ar</td>\n",
       "      <td>758.0</td>\n",
       "      <td>NaN</td>\n",
       "      <td>BDC-1839-01-20-a</td>\n",
       "    </tr>\n",
       "    <tr>\n",
       "      <td>2</td>\n",
       "      <td>BDC-1839-01-20-a-i0003</td>\n",
       "      <td>1839</td>\n",
       "      <td>BDC</td>\n",
       "      <td>ar</td>\n",
       "      <td>14.0</td>\n",
       "      <td>31.0</td>\n",
       "      <td>BDC-1839-01-20-a</td>\n",
       "    </tr>\n",
       "    <tr>\n",
       "      <td>3</td>\n",
       "      <td>BDC-1839-01-20-a-i0004</td>\n",
       "      <td>1839</td>\n",
       "      <td>BDC</td>\n",
       "      <td>ar</td>\n",
       "      <td>349.0</td>\n",
       "      <td>22.0</td>\n",
       "      <td>BDC-1839-01-20-a</td>\n",
       "    </tr>\n",
       "    <tr>\n",
       "      <td>4</td>\n",
       "      <td>BDC-1839-01-20-a-i0005</td>\n",
       "      <td>1839</td>\n",
       "      <td>BDC</td>\n",
       "      <td>ar</td>\n",
       "      <td>193.0</td>\n",
       "      <td>NaN</td>\n",
       "      <td>BDC-1839-01-20-a</td>\n",
       "    </tr>\n",
       "  </tbody>\n",
       "</table>\n",
       "</div>"
      ],
      "text/plain": [
       "                       id  year newspaper type  n_tokens  title_length  \\\n",
       "0  BDC-1839-01-20-a-i0001  1839       BDC   ar     250.0           4.0   \n",
       "1  BDC-1839-01-20-a-i0002  1839       BDC   ar     758.0           NaN   \n",
       "2  BDC-1839-01-20-a-i0003  1839       BDC   ar      14.0          31.0   \n",
       "3  BDC-1839-01-20-a-i0004  1839       BDC   ar     349.0          22.0   \n",
       "4  BDC-1839-01-20-a-i0005  1839       BDC   ar     193.0           NaN   \n",
       "\n",
       "           issue_id  \n",
       "0  BDC-1839-01-20-a  \n",
       "1  BDC-1839-01-20-a  \n",
       "2  BDC-1839-01-20-a  \n",
       "3  BDC-1839-01-20-a  \n",
       "4  BDC-1839-01-20-a  "
      ]
     },
     "execution_count": 5,
     "metadata": {},
     "output_type": "execute_result"
    }
   ],
   "source": [
    "test_df.head()"
   ]
  },
  {
   "cell_type": "markdown",
   "metadata": {},
   "source": [
    "## Others"
   ]
  },
  {
   "cell_type": "code",
   "execution_count": 66,
   "metadata": {},
   "outputs": [],
   "source": [
    "def np_pd(ddf, npID: str, max_rows: int):\n",
    "    if len(ddf.loc[ddf.newspaper == npID] < max_rows) :\n",
    "        return ddf.loc[ddf.newspaper == npID].compute()\n",
    "    else :\n",
    "        print('Length of dataframe exceeds max_rows > cannot be converted to pandas df.')\n",
    "        return None"
   ]
  },
  {
   "cell_type": "code",
   "execution_count": 35,
   "metadata": {
    "scrolled": false
   },
   "outputs": [],
   "source": [
    "def num_content_items(npID: str):\n",
    "    return test_df.loc[test_df.newspaper == npID].count().compute()"
   ]
  },
  {
   "cell_type": "code",
   "execution_count": 37,
   "metadata": {},
   "outputs": [],
   "source": [
    "def num_content_items2(npID: str):\n",
    "    return test_df.filter(test_df.newspaper == npID).count().compute()"
   ]
  },
  {
   "cell_type": "code",
   "execution_count": 38,
   "metadata": {},
   "outputs": [
    {
     "ename": "AttributeError",
     "evalue": "'DataFrame' object has no attribute 'filter'",
     "output_type": "error",
     "traceback": [
      "\u001b[0;31m---------------------------------------------------------------------------\u001b[0m",
      "\u001b[0;31mAttributeError\u001b[0m                            Traceback (most recent call last)",
      "\u001b[0;32m<timed eval>\u001b[0m in \u001b[0;36m<module>\u001b[0;34m\u001b[0m\n",
      "\u001b[0;32m<ipython-input-37-821b1ad6da3c>\u001b[0m in \u001b[0;36mnum_content_items2\u001b[0;34m(npID)\u001b[0m\n\u001b[1;32m      1\u001b[0m \u001b[0;32mdef\u001b[0m \u001b[0mnum_content_items2\u001b[0m\u001b[0;34m(\u001b[0m\u001b[0mnpID\u001b[0m\u001b[0;34m:\u001b[0m \u001b[0mstr\u001b[0m\u001b[0;34m)\u001b[0m\u001b[0;34m:\u001b[0m\u001b[0;34m\u001b[0m\u001b[0;34m\u001b[0m\u001b[0m\n\u001b[0;32m----> 2\u001b[0;31m     \u001b[0;32mreturn\u001b[0m \u001b[0mtest_df\u001b[0m\u001b[0;34m.\u001b[0m\u001b[0mfilter\u001b[0m\u001b[0;34m(\u001b[0m\u001b[0mtest_df\u001b[0m\u001b[0;34m.\u001b[0m\u001b[0mnewspaper\u001b[0m \u001b[0;34m==\u001b[0m \u001b[0mnpID\u001b[0m\u001b[0;34m)\u001b[0m\u001b[0;34m.\u001b[0m\u001b[0mcount\u001b[0m\u001b[0;34m(\u001b[0m\u001b[0;34m)\u001b[0m\u001b[0;34m.\u001b[0m\u001b[0mcompute\u001b[0m\u001b[0;34m(\u001b[0m\u001b[0;34m)\u001b[0m\u001b[0;34m\u001b[0m\u001b[0;34m\u001b[0m\u001b[0m\n\u001b[0m",
      "\u001b[0;32m~/.conda/envs/impresso-stats/lib/python3.7/site-packages/dask/dataframe/core.py\u001b[0m in \u001b[0;36m__getattr__\u001b[0;34m(self, key)\u001b[0m\n\u001b[1;32m   2591\u001b[0m             \u001b[0;32mreturn\u001b[0m \u001b[0mself\u001b[0m\u001b[0;34m[\u001b[0m\u001b[0mkey\u001b[0m\u001b[0;34m]\u001b[0m\u001b[0;34m\u001b[0m\u001b[0;34m\u001b[0m\u001b[0m\n\u001b[1;32m   2592\u001b[0m         \u001b[0;32melse\u001b[0m\u001b[0;34m:\u001b[0m\u001b[0;34m\u001b[0m\u001b[0;34m\u001b[0m\u001b[0m\n\u001b[0;32m-> 2593\u001b[0;31m             \u001b[0;32mraise\u001b[0m \u001b[0mAttributeError\u001b[0m\u001b[0;34m(\u001b[0m\u001b[0;34m\"'DataFrame' object has no attribute %r\"\u001b[0m \u001b[0;34m%\u001b[0m \u001b[0mkey\u001b[0m\u001b[0;34m)\u001b[0m\u001b[0;34m\u001b[0m\u001b[0;34m\u001b[0m\u001b[0m\n\u001b[0m\u001b[1;32m   2594\u001b[0m \u001b[0;34m\u001b[0m\u001b[0m\n\u001b[1;32m   2595\u001b[0m     \u001b[0;32mdef\u001b[0m \u001b[0m__dir__\u001b[0m\u001b[0;34m(\u001b[0m\u001b[0mself\u001b[0m\u001b[0;34m)\u001b[0m\u001b[0;34m:\u001b[0m\u001b[0;34m\u001b[0m\u001b[0;34m\u001b[0m\u001b[0m\n",
      "\u001b[0;31mAttributeError\u001b[0m: 'DataFrame' object has no attribute 'filter'"
     ]
    }
   ],
   "source": [
    "%time num_content_items2('BDC')"
   ]
  },
  {
   "cell_type": "code",
   "execution_count": 49,
   "metadata": {},
   "outputs": [
    {
     "name": "stdout",
     "output_type": "stream",
     "text": [
      "CPU times: user 3min 23s, sys: 6min 52s, total: 10min 15s\n",
      "Wall time: 1min 2s\n"
     ]
    },
    {
     "data": {
      "text/plain": [
       "id              429\n",
       "year            429\n",
       "newspaper       429\n",
       "type            429\n",
       "n_tokens        429\n",
       "title_length    429\n",
       "dtype: int64"
      ]
     },
     "execution_count": 49,
     "metadata": {},
     "output_type": "execute_result"
    }
   ],
   "source": [
    "%time num_content_items('BLB')"
   ]
  },
  {
   "cell_type": "code",
   "execution_count": 26,
   "metadata": {},
   "outputs": [
    {
     "name": "stdout",
     "output_type": "stream",
     "text": [
      "CPU times: user 3min 24s, sys: 6min 44s, total: 10min 9s\n",
      "Wall time: 1min 1s\n"
     ]
    },
    {
     "data": {
      "text/html": [
       "<div>\n",
       "<style scoped>\n",
       "    .dataframe tbody tr th:only-of-type {\n",
       "        vertical-align: middle;\n",
       "    }\n",
       "\n",
       "    .dataframe tbody tr th {\n",
       "        vertical-align: top;\n",
       "    }\n",
       "\n",
       "    .dataframe thead th {\n",
       "        text-align: right;\n",
       "    }\n",
       "</style>\n",
       "<table border=\"1\" class=\"dataframe\">\n",
       "  <thead>\n",
       "    <tr style=\"text-align: right;\">\n",
       "      <th></th>\n",
       "      <th>id</th>\n",
       "      <th>year</th>\n",
       "      <th>newspaper</th>\n",
       "      <th>type</th>\n",
       "      <th>n_tokens</th>\n",
       "      <th>title_length</th>\n",
       "    </tr>\n",
       "  </thead>\n",
       "  <tbody>\n",
       "    <tr>\n",
       "      <td>0</td>\n",
       "      <td>BDC-1839-01-20-a-i0001</td>\n",
       "      <td>1839</td>\n",
       "      <td>BDC</td>\n",
       "      <td>ar</td>\n",
       "      <td>250.0</td>\n",
       "      <td>4.0</td>\n",
       "    </tr>\n",
       "    <tr>\n",
       "      <td>1</td>\n",
       "      <td>BDC-1839-01-20-a-i0002</td>\n",
       "      <td>1839</td>\n",
       "      <td>BDC</td>\n",
       "      <td>ar</td>\n",
       "      <td>758.0</td>\n",
       "      <td>NaN</td>\n",
       "    </tr>\n",
       "    <tr>\n",
       "      <td>2</td>\n",
       "      <td>BDC-1839-01-20-a-i0003</td>\n",
       "      <td>1839</td>\n",
       "      <td>BDC</td>\n",
       "      <td>ar</td>\n",
       "      <td>14.0</td>\n",
       "      <td>31.0</td>\n",
       "    </tr>\n",
       "    <tr>\n",
       "      <td>3</td>\n",
       "      <td>BDC-1839-01-20-a-i0004</td>\n",
       "      <td>1839</td>\n",
       "      <td>BDC</td>\n",
       "      <td>ar</td>\n",
       "      <td>349.0</td>\n",
       "      <td>22.0</td>\n",
       "    </tr>\n",
       "    <tr>\n",
       "      <td>4</td>\n",
       "      <td>BDC-1839-01-20-a-i0005</td>\n",
       "      <td>1839</td>\n",
       "      <td>BDC</td>\n",
       "      <td>ar</td>\n",
       "      <td>193.0</td>\n",
       "      <td>NaN</td>\n",
       "    </tr>\n",
       "    <tr>\n",
       "      <td>...</td>\n",
       "      <td>...</td>\n",
       "      <td>...</td>\n",
       "      <td>...</td>\n",
       "      <td>...</td>\n",
       "      <td>...</td>\n",
       "      <td>...</td>\n",
       "    </tr>\n",
       "    <tr>\n",
       "      <td>7</td>\n",
       "      <td>BDC-1839-04-04-a-i0002</td>\n",
       "      <td>1839</td>\n",
       "      <td>BDC</td>\n",
       "      <td>ar</td>\n",
       "      <td>713.0</td>\n",
       "      <td>NaN</td>\n",
       "    </tr>\n",
       "    <tr>\n",
       "      <td>8</td>\n",
       "      <td>BDC-1839-04-04-a-i0003</td>\n",
       "      <td>1839</td>\n",
       "      <td>BDC</td>\n",
       "      <td>ar</td>\n",
       "      <td>773.0</td>\n",
       "      <td>NaN</td>\n",
       "    </tr>\n",
       "    <tr>\n",
       "      <td>9</td>\n",
       "      <td>BDC-1839-04-04-a-i0004</td>\n",
       "      <td>1839</td>\n",
       "      <td>BDC</td>\n",
       "      <td>ar</td>\n",
       "      <td>396.0</td>\n",
       "      <td>NaN</td>\n",
       "    </tr>\n",
       "    <tr>\n",
       "      <td>10</td>\n",
       "      <td>BDC-1839-04-04-a-i0005</td>\n",
       "      <td>1839</td>\n",
       "      <td>BDC</td>\n",
       "      <td>ar</td>\n",
       "      <td>336.0</td>\n",
       "      <td>NaN</td>\n",
       "    </tr>\n",
       "    <tr>\n",
       "      <td>11</td>\n",
       "      <td>BDC-1839-04-04-a-i0006</td>\n",
       "      <td>1839</td>\n",
       "      <td>BDC</td>\n",
       "      <td>ar</td>\n",
       "      <td>56.0</td>\n",
       "      <td>NaN</td>\n",
       "    </tr>\n",
       "  </tbody>\n",
       "</table>\n",
       "<p>146 rows × 6 columns</p>\n",
       "</div>"
      ],
      "text/plain": [
       "                        id  year newspaper type  n_tokens  title_length\n",
       "0   BDC-1839-01-20-a-i0001  1839       BDC   ar     250.0           4.0\n",
       "1   BDC-1839-01-20-a-i0002  1839       BDC   ar     758.0           NaN\n",
       "2   BDC-1839-01-20-a-i0003  1839       BDC   ar      14.0          31.0\n",
       "3   BDC-1839-01-20-a-i0004  1839       BDC   ar     349.0          22.0\n",
       "4   BDC-1839-01-20-a-i0005  1839       BDC   ar     193.0           NaN\n",
       "..                     ...   ...       ...  ...       ...           ...\n",
       "7   BDC-1839-04-04-a-i0002  1839       BDC   ar     713.0           NaN\n",
       "8   BDC-1839-04-04-a-i0003  1839       BDC   ar     773.0           NaN\n",
       "9   BDC-1839-04-04-a-i0004  1839       BDC   ar     396.0           NaN\n",
       "10  BDC-1839-04-04-a-i0005  1839       BDC   ar     336.0           NaN\n",
       "11  BDC-1839-04-04-a-i0006  1839       BDC   ar      56.0           NaN\n",
       "\n",
       "[146 rows x 6 columns]"
      ]
     },
     "execution_count": 26,
     "metadata": {},
     "output_type": "execute_result"
    }
   ],
   "source": [
    "%time test_df.loc[test_df.newspaper == 'BDC'].compute()"
   ]
  },
  {
   "cell_type": "code",
   "execution_count": null,
   "metadata": {},
   "outputs": [],
   "source": []
  }
 ],
 "metadata": {
  "kernelspec": {
   "display_name": "Python 3",
   "language": "python",
   "name": "python3"
  },
  "language_info": {
   "codemirror_mode": {
    "name": "ipython",
    "version": 3
   },
   "file_extension": ".py",
   "mimetype": "text/x-python",
   "name": "python",
   "nbconvert_exporter": "python",
   "pygments_lexer": "ipython3",
   "version": "3.7.5"
  }
 },
 "nbformat": 4,
 "nbformat_minor": 2
}
