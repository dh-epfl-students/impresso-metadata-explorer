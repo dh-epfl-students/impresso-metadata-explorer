{
 "cells": [
  {
   "cell_type": "markdown",
   "metadata": {},
   "source": [
    "# Exploration of Dask"
   ]
  },
  {
   "cell_type": "code",
   "execution_count": 1,
   "metadata": {},
   "outputs": [],
   "source": [
    "from impresso_commons.utils.s3 import IMPRESSO_STORAGEOPT\n",
    "from dask import dataframe as ddf"
   ]
  },
  {
   "cell_type": "code",
   "execution_count": 2,
   "metadata": {},
   "outputs": [],
   "source": [
    "PATH = '/scratch/students/justine/'\n",
    "FILE = 's3-impresso-stats'"
   ]
  },
  {
   "cell_type": "code",
   "execution_count": 3,
   "metadata": {},
   "outputs": [],
   "source": [
    "test_df = ddf.read_csv(\n",
    "    PATH+FILE+\"/content-item-stats/*\",\n",
    "    storage_options=IMPRESSO_STORAGEOPT\n",
    ")"
   ]
  },
  {
   "cell_type": "code",
   "execution_count": 45,
   "metadata": {},
   "outputs": [],
   "source": [
    "# Specify path for imports\n",
    "import os\n",
    "import sys\n",
    "module_path = os.path.abspath(os.path.join('..'))\n",
    "if module_path not in sys.path:\n",
    "    sys.path.append(module_path)"
   ]
  },
  {
   "cell_type": "markdown",
   "metadata": {},
   "source": [
    "## Explore dataframe"
   ]
  },
  {
   "cell_type": "markdown",
   "metadata": {},
   "source": [
    "### Snapshots"
   ]
  },
  {
   "cell_type": "code",
   "execution_count": 4,
   "metadata": {},
   "outputs": [
    {
     "data": {
      "text/html": [
       "<div>\n",
       "<style scoped>\n",
       "    .dataframe tbody tr th:only-of-type {\n",
       "        vertical-align: middle;\n",
       "    }\n",
       "\n",
       "    .dataframe tbody tr th {\n",
       "        vertical-align: top;\n",
       "    }\n",
       "\n",
       "    .dataframe thead th {\n",
       "        text-align: right;\n",
       "    }\n",
       "</style>\n",
       "<table border=\"1\" class=\"dataframe\">\n",
       "  <thead>\n",
       "    <tr style=\"text-align: right;\">\n",
       "      <th></th>\n",
       "      <th>id</th>\n",
       "      <th>year</th>\n",
       "      <th>newspaper</th>\n",
       "      <th>type</th>\n",
       "      <th>n_tokens</th>\n",
       "      <th>title_length</th>\n",
       "    </tr>\n",
       "  </thead>\n",
       "  <tbody>\n",
       "    <tr>\n",
       "      <td>0</td>\n",
       "      <td>BDC-1839-01-20-a-i0001</td>\n",
       "      <td>1839</td>\n",
       "      <td>BDC</td>\n",
       "      <td>ar</td>\n",
       "      <td>250.0</td>\n",
       "      <td>4.0</td>\n",
       "    </tr>\n",
       "    <tr>\n",
       "      <td>1</td>\n",
       "      <td>BDC-1839-01-20-a-i0002</td>\n",
       "      <td>1839</td>\n",
       "      <td>BDC</td>\n",
       "      <td>ar</td>\n",
       "      <td>758.0</td>\n",
       "      <td>NaN</td>\n",
       "    </tr>\n",
       "    <tr>\n",
       "      <td>2</td>\n",
       "      <td>BDC-1839-01-20-a-i0003</td>\n",
       "      <td>1839</td>\n",
       "      <td>BDC</td>\n",
       "      <td>ar</td>\n",
       "      <td>14.0</td>\n",
       "      <td>31.0</td>\n",
       "    </tr>\n",
       "    <tr>\n",
       "      <td>3</td>\n",
       "      <td>BDC-1839-01-20-a-i0004</td>\n",
       "      <td>1839</td>\n",
       "      <td>BDC</td>\n",
       "      <td>ar</td>\n",
       "      <td>349.0</td>\n",
       "      <td>22.0</td>\n",
       "    </tr>\n",
       "    <tr>\n",
       "      <td>4</td>\n",
       "      <td>BDC-1839-01-20-a-i0005</td>\n",
       "      <td>1839</td>\n",
       "      <td>BDC</td>\n",
       "      <td>ar</td>\n",
       "      <td>193.0</td>\n",
       "      <td>NaN</td>\n",
       "    </tr>\n",
       "  </tbody>\n",
       "</table>\n",
       "</div>"
      ],
      "text/plain": [
       "                       id  year newspaper type  n_tokens  title_length\n",
       "0  BDC-1839-01-20-a-i0001  1839       BDC   ar     250.0           4.0\n",
       "1  BDC-1839-01-20-a-i0002  1839       BDC   ar     758.0           NaN\n",
       "2  BDC-1839-01-20-a-i0003  1839       BDC   ar      14.0          31.0\n",
       "3  BDC-1839-01-20-a-i0004  1839       BDC   ar     349.0          22.0\n",
       "4  BDC-1839-01-20-a-i0005  1839       BDC   ar     193.0           NaN"
      ]
     },
     "execution_count": 4,
     "metadata": {},
     "output_type": "execute_result"
    }
   ],
   "source": [
    "test_df.head(5)"
   ]
  },
  {
   "cell_type": "code",
   "execution_count": 5,
   "metadata": {},
   "outputs": [
    {
     "data": {
      "text/html": [
       "<div>\n",
       "<style scoped>\n",
       "    .dataframe tbody tr th:only-of-type {\n",
       "        vertical-align: middle;\n",
       "    }\n",
       "\n",
       "    .dataframe tbody tr th {\n",
       "        vertical-align: top;\n",
       "    }\n",
       "\n",
       "    .dataframe thead th {\n",
       "        text-align: right;\n",
       "    }\n",
       "</style>\n",
       "<table border=\"1\" class=\"dataframe\">\n",
       "  <thead>\n",
       "    <tr style=\"text-align: right;\">\n",
       "      <th></th>\n",
       "      <th>id</th>\n",
       "      <th>year</th>\n",
       "      <th>newspaper</th>\n",
       "      <th>type</th>\n",
       "      <th>n_tokens</th>\n",
       "      <th>title_length</th>\n",
       "    </tr>\n",
       "  </thead>\n",
       "  <tbody>\n",
       "    <tr>\n",
       "      <td>173</td>\n",
       "      <td>waeschfra-1884-07-05-a-i0017</td>\n",
       "      <td>1884</td>\n",
       "      <td>waeschfra</td>\n",
       "      <td>ar</td>\n",
       "      <td>19.0</td>\n",
       "      <td>NaN</td>\n",
       "    </tr>\n",
       "    <tr>\n",
       "      <td>174</td>\n",
       "      <td>waeschfra-1884-07-05-a-i0018</td>\n",
       "      <td>1884</td>\n",
       "      <td>waeschfra</td>\n",
       "      <td>img</td>\n",
       "      <td>NaN</td>\n",
       "      <td>NaN</td>\n",
       "    </tr>\n",
       "    <tr>\n",
       "      <td>175</td>\n",
       "      <td>waeschfra-1884-07-05-a-i0019</td>\n",
       "      <td>1884</td>\n",
       "      <td>waeschfra</td>\n",
       "      <td>img</td>\n",
       "      <td>NaN</td>\n",
       "      <td>NaN</td>\n",
       "    </tr>\n",
       "    <tr>\n",
       "      <td>176</td>\n",
       "      <td>waeschfra-1884-07-05-a-i0020</td>\n",
       "      <td>1884</td>\n",
       "      <td>waeschfra</td>\n",
       "      <td>img</td>\n",
       "      <td>NaN</td>\n",
       "      <td>NaN</td>\n",
       "    </tr>\n",
       "    <tr>\n",
       "      <td>177</td>\n",
       "      <td>waeschfra-1884-07-05-a-i0021</td>\n",
       "      <td>1884</td>\n",
       "      <td>waeschfra</td>\n",
       "      <td>img</td>\n",
       "      <td>NaN</td>\n",
       "      <td>NaN</td>\n",
       "    </tr>\n",
       "  </tbody>\n",
       "</table>\n",
       "</div>"
      ],
      "text/plain": [
       "                               id  year  newspaper type  n_tokens  \\\n",
       "173  waeschfra-1884-07-05-a-i0017  1884  waeschfra   ar      19.0   \n",
       "174  waeschfra-1884-07-05-a-i0018  1884  waeschfra  img       NaN   \n",
       "175  waeschfra-1884-07-05-a-i0019  1884  waeschfra  img       NaN   \n",
       "176  waeschfra-1884-07-05-a-i0020  1884  waeschfra  img       NaN   \n",
       "177  waeschfra-1884-07-05-a-i0021  1884  waeschfra  img       NaN   \n",
       "\n",
       "     title_length  \n",
       "173           NaN  \n",
       "174           NaN  \n",
       "175           NaN  \n",
       "176           NaN  \n",
       "177           NaN  "
      ]
     },
     "execution_count": 5,
     "metadata": {},
     "output_type": "execute_result"
    }
   ],
   "source": [
    "test_df.tail(5)"
   ]
  },
  {
   "cell_type": "code",
   "execution_count": 6,
   "metadata": {},
   "outputs": [
    {
     "name": "stdout",
     "output_type": "stream",
     "text": [
      "CPU times: user 417 ms, sys: 95.8 ms, total: 512 ms\n",
      "Wall time: 596 ms\n"
     ]
    },
    {
     "data": {
      "text/html": [
       "<div>\n",
       "<style scoped>\n",
       "    .dataframe tbody tr th:only-of-type {\n",
       "        vertical-align: middle;\n",
       "    }\n",
       "\n",
       "    .dataframe tbody tr th {\n",
       "        vertical-align: top;\n",
       "    }\n",
       "\n",
       "    .dataframe thead th {\n",
       "        text-align: right;\n",
       "    }\n",
       "</style>\n",
       "<table border=\"1\" class=\"dataframe\">\n",
       "  <thead>\n",
       "    <tr style=\"text-align: right;\">\n",
       "      <th></th>\n",
       "      <th>id</th>\n",
       "      <th>year</th>\n",
       "      <th>newspaper</th>\n",
       "      <th>type</th>\n",
       "      <th>n_tokens</th>\n",
       "      <th>title_length</th>\n",
       "    </tr>\n",
       "  </thead>\n",
       "  <tbody>\n",
       "    <tr>\n",
       "      <td>0</td>\n",
       "      <td>BDC-1839-01-20-a-i0001</td>\n",
       "      <td>1839</td>\n",
       "      <td>BDC</td>\n",
       "      <td>ar</td>\n",
       "      <td>250.0</td>\n",
       "      <td>4.0</td>\n",
       "    </tr>\n",
       "    <tr>\n",
       "      <td>1</td>\n",
       "      <td>BDC-1839-01-20-a-i0002</td>\n",
       "      <td>1839</td>\n",
       "      <td>BDC</td>\n",
       "      <td>ar</td>\n",
       "      <td>758.0</td>\n",
       "      <td>NaN</td>\n",
       "    </tr>\n",
       "    <tr>\n",
       "      <td>2</td>\n",
       "      <td>BDC-1839-01-20-a-i0003</td>\n",
       "      <td>1839</td>\n",
       "      <td>BDC</td>\n",
       "      <td>ar</td>\n",
       "      <td>14.0</td>\n",
       "      <td>31.0</td>\n",
       "    </tr>\n",
       "    <tr>\n",
       "      <td>3</td>\n",
       "      <td>BDC-1839-01-20-a-i0004</td>\n",
       "      <td>1839</td>\n",
       "      <td>BDC</td>\n",
       "      <td>ar</td>\n",
       "      <td>349.0</td>\n",
       "      <td>22.0</td>\n",
       "    </tr>\n",
       "    <tr>\n",
       "      <td>4</td>\n",
       "      <td>BDC-1839-01-20-a-i0005</td>\n",
       "      <td>1839</td>\n",
       "      <td>BDC</td>\n",
       "      <td>ar</td>\n",
       "      <td>193.0</td>\n",
       "      <td>NaN</td>\n",
       "    </tr>\n",
       "    <tr>\n",
       "      <td>...</td>\n",
       "      <td>...</td>\n",
       "      <td>...</td>\n",
       "      <td>...</td>\n",
       "      <td>...</td>\n",
       "      <td>...</td>\n",
       "      <td>...</td>\n",
       "    </tr>\n",
       "    <tr>\n",
       "      <td>538</td>\n",
       "      <td>BNN-1886-01-30-a-i0017</td>\n",
       "      <td>1886</td>\n",
       "      <td>BNN</td>\n",
       "      <td>ar</td>\n",
       "      <td>102.0</td>\n",
       "      <td>14.0</td>\n",
       "    </tr>\n",
       "    <tr>\n",
       "      <td>539</td>\n",
       "      <td>BNN-1886-01-30-a-i0018</td>\n",
       "      <td>1886</td>\n",
       "      <td>BNN</td>\n",
       "      <td>ar</td>\n",
       "      <td>136.0</td>\n",
       "      <td>35.0</td>\n",
       "    </tr>\n",
       "    <tr>\n",
       "      <td>540</td>\n",
       "      <td>BNN-1886-01-30-a-i0019</td>\n",
       "      <td>1886</td>\n",
       "      <td>BNN</td>\n",
       "      <td>ar</td>\n",
       "      <td>8.0</td>\n",
       "      <td>13.0</td>\n",
       "    </tr>\n",
       "    <tr>\n",
       "      <td>541</td>\n",
       "      <td>BNN-1886-01-30-a-i0020</td>\n",
       "      <td>1886</td>\n",
       "      <td>BNN</td>\n",
       "      <td>ar</td>\n",
       "      <td>39.0</td>\n",
       "      <td>19.0</td>\n",
       "    </tr>\n",
       "    <tr>\n",
       "      <td>542</td>\n",
       "      <td>BNN-1886-01-30-a-i0021</td>\n",
       "      <td>1886</td>\n",
       "      <td>BNN</td>\n",
       "      <td>ar</td>\n",
       "      <td>1158.0</td>\n",
       "      <td>18.0</td>\n",
       "    </tr>\n",
       "  </tbody>\n",
       "</table>\n",
       "<p>1000 rows × 6 columns</p>\n",
       "</div>"
      ],
      "text/plain": [
       "                         id  year newspaper type  n_tokens  title_length\n",
       "0    BDC-1839-01-20-a-i0001  1839       BDC   ar     250.0           4.0\n",
       "1    BDC-1839-01-20-a-i0002  1839       BDC   ar     758.0           NaN\n",
       "2    BDC-1839-01-20-a-i0003  1839       BDC   ar      14.0          31.0\n",
       "3    BDC-1839-01-20-a-i0004  1839       BDC   ar     349.0          22.0\n",
       "4    BDC-1839-01-20-a-i0005  1839       BDC   ar     193.0           NaN\n",
       "..                      ...   ...       ...  ...       ...           ...\n",
       "538  BNN-1886-01-30-a-i0017  1886       BNN   ar     102.0          14.0\n",
       "539  BNN-1886-01-30-a-i0018  1886       BNN   ar     136.0          35.0\n",
       "540  BNN-1886-01-30-a-i0019  1886       BNN   ar       8.0          13.0\n",
       "541  BNN-1886-01-30-a-i0020  1886       BNN   ar      39.0          19.0\n",
       "542  BNN-1886-01-30-a-i0021  1886       BNN   ar    1158.0          18.0\n",
       "\n",
       "[1000 rows x 6 columns]"
      ]
     },
     "execution_count": 6,
     "metadata": {},
     "output_type": "execute_result"
    }
   ],
   "source": [
    "%time test_df.head(1000,npartitions=3)"
   ]
  },
  {
   "cell_type": "markdown",
   "metadata": {},
   "source": [
    "### Info in the type column"
   ]
  },
  {
   "cell_type": "code",
   "execution_count": 220,
   "metadata": {},
   "outputs": [
    {
     "name": "stdout",
     "output_type": "stream",
     "text": [
      "CPU times: user 17 µs, sys: 0 ns, total: 17 µs\n",
      "Wall time: 32.9 µs\n"
     ]
    }
   ],
   "source": [
    "%time \n",
    "ci_types = test_df.type.unique().compute()"
   ]
  },
  {
   "cell_type": "markdown",
   "metadata": {},
   "source": [
    "### Try filtering"
   ]
  },
  {
   "cell_type": "code",
   "execution_count": 8,
   "metadata": {},
   "outputs": [
    {
     "name": "stdout",
     "output_type": "stream",
     "text": [
      "CPU times: user 1min 39s, sys: 24 s, total: 2min 3s\n",
      "Wall time: 1min 7s\n"
     ]
    }
   ],
   "source": [
    "%%time \n",
    "BDC_ar_df = test_df[(test_df.newspaper=='BDC') & (test_df.type=='ar')].compute()"
   ]
  },
  {
   "cell_type": "markdown",
   "metadata": {},
   "source": [
    "## Statistics"
   ]
  },
  {
   "cell_type": "markdown",
   "metadata": {},
   "source": [
    "### Number of rows"
   ]
  },
  {
   "cell_type": "code",
   "execution_count": 9,
   "metadata": {
    "scrolled": true
   },
   "outputs": [
    {
     "name": "stdout",
     "output_type": "stream",
     "text": [
      "CPU times: user 1min 25s, sys: 14.1 s, total: 1min 39s\n",
      "Wall time: 53.9 s\n"
     ]
    },
    {
     "data": {
      "text/plain": [
       "47876994"
      ]
     },
     "execution_count": 9,
     "metadata": {},
     "output_type": "execute_result"
    }
   ],
   "source": [
    "%time test_df.shape[0].compute()"
   ]
  },
  {
   "cell_type": "markdown",
   "metadata": {},
   "source": [
    "### Number of content items through time"
   ]
  },
  {
   "cell_type": "markdown",
   "metadata": {},
   "source": [
    "#### Add decade column"
   ]
  },
  {
   "cell_type": "code",
   "execution_count": 46,
   "metadata": {
    "scrolled": true
   },
   "outputs": [],
   "source": [
    "from helpers import decade_from_year_df\n",
    "#ar_content_item = decade_from_year_df(ar_content_item, dask_df = True)\n"
   ]
  },
  {
   "cell_type": "code",
   "execution_count": 34,
   "metadata": {},
   "outputs": [],
   "source": [
    "test_df = decade_from_year_df(test_df, dask_df = True)"
   ]
  },
  {
   "cell_type": "code",
   "execution_count": 35,
   "metadata": {},
   "outputs": [
    {
     "data": {
      "text/html": [
       "<div>\n",
       "<style scoped>\n",
       "    .dataframe tbody tr th:only-of-type {\n",
       "        vertical-align: middle;\n",
       "    }\n",
       "\n",
       "    .dataframe tbody tr th {\n",
       "        vertical-align: top;\n",
       "    }\n",
       "\n",
       "    .dataframe thead th {\n",
       "        text-align: right;\n",
       "    }\n",
       "</style>\n",
       "<table border=\"1\" class=\"dataframe\">\n",
       "  <thead>\n",
       "    <tr style=\"text-align: right;\">\n",
       "      <th></th>\n",
       "      <th>id</th>\n",
       "      <th>year</th>\n",
       "      <th>newspaper</th>\n",
       "      <th>type</th>\n",
       "      <th>n_tokens</th>\n",
       "      <th>title_length</th>\n",
       "      <th>issue_id</th>\n",
       "      <th>decade</th>\n",
       "    </tr>\n",
       "  </thead>\n",
       "  <tbody>\n",
       "    <tr>\n",
       "      <td>0</td>\n",
       "      <td>BDC-1839-01-20-a-i0001</td>\n",
       "      <td>1839</td>\n",
       "      <td>BDC</td>\n",
       "      <td>ar</td>\n",
       "      <td>250.0</td>\n",
       "      <td>4.0</td>\n",
       "      <td>BDC-1839-01-20-a</td>\n",
       "      <td>1830</td>\n",
       "    </tr>\n",
       "    <tr>\n",
       "      <td>1</td>\n",
       "      <td>BDC-1839-01-20-a-i0002</td>\n",
       "      <td>1839</td>\n",
       "      <td>BDC</td>\n",
       "      <td>ar</td>\n",
       "      <td>758.0</td>\n",
       "      <td>NaN</td>\n",
       "      <td>BDC-1839-01-20-a</td>\n",
       "      <td>1830</td>\n",
       "    </tr>\n",
       "    <tr>\n",
       "      <td>2</td>\n",
       "      <td>BDC-1839-01-20-a-i0003</td>\n",
       "      <td>1839</td>\n",
       "      <td>BDC</td>\n",
       "      <td>ar</td>\n",
       "      <td>14.0</td>\n",
       "      <td>31.0</td>\n",
       "      <td>BDC-1839-01-20-a</td>\n",
       "      <td>1830</td>\n",
       "    </tr>\n",
       "    <tr>\n",
       "      <td>3</td>\n",
       "      <td>BDC-1839-01-20-a-i0004</td>\n",
       "      <td>1839</td>\n",
       "      <td>BDC</td>\n",
       "      <td>ar</td>\n",
       "      <td>349.0</td>\n",
       "      <td>22.0</td>\n",
       "      <td>BDC-1839-01-20-a</td>\n",
       "      <td>1830</td>\n",
       "    </tr>\n",
       "    <tr>\n",
       "      <td>4</td>\n",
       "      <td>BDC-1839-01-20-a-i0005</td>\n",
       "      <td>1839</td>\n",
       "      <td>BDC</td>\n",
       "      <td>ar</td>\n",
       "      <td>193.0</td>\n",
       "      <td>NaN</td>\n",
       "      <td>BDC-1839-01-20-a</td>\n",
       "      <td>1830</td>\n",
       "    </tr>\n",
       "  </tbody>\n",
       "</table>\n",
       "</div>"
      ],
      "text/plain": [
       "                       id  year newspaper type  n_tokens  title_length  \\\n",
       "0  BDC-1839-01-20-a-i0001  1839       BDC   ar     250.0           4.0   \n",
       "1  BDC-1839-01-20-a-i0002  1839       BDC   ar     758.0           NaN   \n",
       "2  BDC-1839-01-20-a-i0003  1839       BDC   ar      14.0          31.0   \n",
       "3  BDC-1839-01-20-a-i0004  1839       BDC   ar     349.0          22.0   \n",
       "4  BDC-1839-01-20-a-i0005  1839       BDC   ar     193.0           NaN   \n",
       "\n",
       "           issue_id  decade  \n",
       "0  BDC-1839-01-20-a    1830  \n",
       "1  BDC-1839-01-20-a    1830  \n",
       "2  BDC-1839-01-20-a    1830  \n",
       "3  BDC-1839-01-20-a    1830  \n",
       "4  BDC-1839-01-20-a    1830  "
      ]
     },
     "execution_count": 35,
     "metadata": {},
     "output_type": "execute_result"
    }
   ],
   "source": [
    "test_df.head()"
   ]
  },
  {
   "cell_type": "markdown",
   "metadata": {},
   "source": [
    "#### Grouping"
   ]
  },
  {
   "cell_type": "code",
   "execution_count": 84,
   "metadata": {},
   "outputs": [],
   "source": [
    "per_year = test_df.groupby('year').id.count().compute()\n",
    "per_decade = test_df.groupby('decade').id.count().compute()"
   ]
  },
  {
   "cell_type": "code",
   "execution_count": 85,
   "metadata": {},
   "outputs": [],
   "source": [
    "per_year = per_year.reset_index(name='count')\n",
    "per_decade = per_decade.reset_index(name='count')"
   ]
  },
  {
   "cell_type": "code",
   "execution_count": 91,
   "metadata": {},
   "outputs": [],
   "source": [
    "per_year.sort_values(by='year', inplace=True)\n",
    "per_decade.sort_values(by='decade', inplace=True)"
   ]
  },
  {
   "cell_type": "markdown",
   "metadata": {},
   "source": [
    "#### Plotting"
   ]
  },
  {
   "cell_type": "code",
   "execution_count": 108,
   "metadata": {},
   "outputs": [],
   "source": [
    "import seaborn as sns\n",
    "import matplotlib.pyplot as plt"
   ]
  },
  {
   "cell_type": "code",
   "execution_count": 114,
   "metadata": {},
   "outputs": [],
   "source": [
    "sns.set(style='whitegrid')"
   ]
  },
  {
   "cell_type": "code",
   "execution_count": 185,
   "metadata": {},
   "outputs": [
    {
     "data": {
      "image/png": "[encoded data removed]",
      "text/plain": [
       "<Figure size 1440x360 with 1 Axes>"
      ]
     },
     "metadata": {},
     "output_type": "display_data"
    }
   ],
   "source": [
    "f = plt.figure(figsize=(20,5))\n",
    "\n",
    "import numpy as np\n",
    "\n",
    "#ax = plt.gca()\n",
    "\n",
    "max_value = per_year.year.max()\n",
    "min_value = per_year.year.min()\n",
    "number_of_steps = 5\n",
    "l = np.arange(min_value, max_value+1, number_of_steps)\n",
    "\n",
    "g = sns.barplot(x='year',  y=\"count\", data=per_year, color='salmon')\n",
    "\n",
    "pos = (l - min(l)) / (max(l)-min(l))* (max(g.get_xticks())-min(g.get_xticks()))\n",
    "g.set_xticks(pos);\n",
    "g.set_xticklabels(l, rotation=45);\n",
    "g.set_xlabel('');\n",
    "g.set_ylabel('# content items');\n",
    "g.set_title('Number of content items in the whole corpus');"
   ]
  },
  {
   "cell_type": "code",
   "execution_count": null,
   "metadata": {},
   "outputs": [],
   "source": [
    "f = plt.figure(figsize=(20,5))\n",
    "\n",
    "g = sns.barplot(x='year',  y=\"count\", data=per_year, color='salmon')\n",
    "\n",
    "grouping_col='year'\n",
    "\n",
    "num_xlabels = len(per_year[grouping_col])\n",
    "number_of_steps = num_xlabels/50\n",
    "\n",
    "l = np.arange(0, num_xlabels+1, number_of_steps)\n",
    "\n",
    "#pos = (l - min(l)) / (max(l)-min(l))* (max(g.get_xticks())-min(g.get_xticks()))\n",
    "pos = (l / num_xlabels) * (max(g.get_xticks())-min(g.get_xticks()))\n",
    "g.set_xticks(pos);\n",
    "g.set_xticklabels(count_df[grouping_col][l], rotation=45);"
   ]
  },
  {
   "cell_type": "code",
   "execution_count": 187,
   "metadata": {},
   "outputs": [
    {
     "data": {
      "image/png": "[encoded data removed]",
      "text/plain": [
       "<Figure size 1440x360 with 1 Axes>"
      ]
     },
     "metadata": {},
     "output_type": "display_data"
    }
   ],
   "source": [
    "plt.figure(figsize=(20,5))\n",
    "g=sns.barplot(x='decade', y=\"count\", data=per_decade, color='salmon');\n",
    "g.set_xlabel('');\n",
    "g.set_ylabel('# content items');\n",
    "g.set_title('Number of content items in the whole corpus');"
   ]
  },
  {
   "cell_type": "code",
   "execution_count": 94,
   "metadata": {},
   "outputs": [],
   "source": [
    "def plot_content_item(ddf: dask.dataframe.core.DataFrame,\n",
    "                        time_gran: str,\n",
    "                        aggr: bool = False,\n",
    "                        start_date: int = None,\n",
    "                        end_date: int = None,\n",
    "                        np_ids: Iterable = None,\n",
    "                        country: str = None,\n",
    "                        ppty: str = None,\n",
    "                        ppty_value: str = None,\n",
    "                        batch_size: int = None) -> None:\n",
    "    \"\"\"\n",
    "    General plotting function for issues frequency analysis (histogram).\n",
    "    :param time_gran: granularity in time, either 'year' or 'decade'\n",
    "    :param start_date: earliest date for analysis\n",
    "    :param end_date: latests date for analysis\n",
    "    :param np_ids: list (or pandas series) of newspapers ids on which to focus\n",
    "    :param country: selected country code\n",
    "    :param df: original data frame on which to build the histogram\n",
    "    :param ppty: selected property on which to filter newspapers\n",
    "    :param ppty_value: property value corresponding to the selected property\n",
    "    :param batch_size: maximum number of newspapers represented on a single plot\n",
    "    :return: Nothing, but plots the histogram(s) of issue frequency.\n",
    "    \"\"\"\n",
    "    content_df = df\n",
    "\n",
    "    content_df, np_ids_filtered = filter_df(content_df, start_date, end_date, np_ids, country, ppty, ppty_value)\n",
    "\n",
    "    # check time_granularity is either 'year' or 'decade'\n",
    "    assert (time_gran == 'decade' or time_gran == 'year'), \"Time granularity must be either 'decade' or 'year'.\"\n",
    "\n",
    "    # create it decade column if doesn't exist yet\n",
    "    if time_gran == 'decade' and 'decade' not in df.columns:\n",
    "        content_df = decade_from_year_df(content_df, dask_df=True)\n",
    "\n",
    "    # group and count for the histogram\n",
    "    #count_df, _, _ = group_and_count(issues_df, ['newspaper_id', time_gran], 'id', print_=False)\n",
    "    if aggr:\n",
    "        count_df = content_df.groupby([time_gran]).id.count().compute.reset_index(name='count').sort_values(by=time_gran, inplace=True)\n",
    "    else:\n",
    "        count_df = content_df.groupby([time_gran, 'newspaper_id']).id.count().compute.reset_index(name='count').sort_values(by=time_gran, inplace=True)\n",
    "\n",
    "    # if batch_size not specified : plot all newspapers on the same figure\n",
    "    if batch_size is None:\n",
    "        if aggr:\n",
    "            g = sns.barplot(x=time_gran, y=\"count\", data=count_df, height=5, aspect=2)\n",
    "            #display_setup(g, display_x_label=False, y_label='Number of content items',\n",
    "                              title='Content item frequency through time.')\n",
    "        else:\n",
    "            g = sns.catplot(x=time_gran, y=\"count\", hue=\"newspaper_id\", kind=\"bar\", data=count_df, height=5, aspect=2)\n",
    "            #display_setup(g, display_x_label=False, y_label='Number of content_items',\n",
    "             #                 title='Content item frequency per newspaper, through time.')\n",
    "\n",
    "    # else plot by batches (no intelligent batching is done)\n",
    "    #else:\n",
    "     #   assert (0 < batch_size and batch_size < 20), \"Batch size must be between 1 and 19.\"\n",
    "      #  catplot_by_batch_np(count_df, np_ids_filtered, 'decade', 'count', 'newspaper_id', batch_size,\n",
    "       #                     display_x_label=False, y_label='Number of issues',\n",
    "        #                    title='Issue frequency per newspaper, through time.')"
   ]
  },
  {
   "cell_type": "code",
   "execution_count": null,
   "metadata": {},
   "outputs": [],
   "source": []
  },
  {
   "cell_type": "markdown",
   "metadata": {},
   "source": [
    "### Number of content items per np"
   ]
  },
  {
   "cell_type": "code",
   "execution_count": 211,
   "metadata": {},
   "outputs": [],
   "source": [
    "count_rows_np = test_df.groupby('newspaper').id.count()"
   ]
  },
  {
   "cell_type": "code",
   "execution_count": 212,
   "metadata": {},
   "outputs": [
    {
     "name": "stdout",
     "output_type": "stream",
     "text": [
      "CPU times: user 3min 55s, sys: 23.6 s, total: 4min 18s\n",
      "Wall time: 3min 7s\n"
     ]
    }
   ],
   "source": [
    "%%time \n",
    "count_rows_np_pd = count_rows_np.compute()"
   ]
  },
  {
   "cell_type": "code",
   "execution_count": 213,
   "metadata": {},
   "outputs": [],
   "source": [
    "count_rows_np_pd = count_rows_np_pd.reset_index(name='ci_count')"
   ]
  },
  {
   "cell_type": "code",
   "execution_count": 214,
   "metadata": {},
   "outputs": [],
   "source": [
    "count_rows_np_pd.sort_values(by='ci_count', inplace=True, ascending=False)"
   ]
  },
  {
   "cell_type": "code",
   "execution_count": 219,
   "metadata": {},
   "outputs": [
    {
     "data": {
      "image/png": "[encoded data removed]",
      "text/plain": [
       "<Figure size 1440x576 with 1 Axes>"
      ]
     },
     "metadata": {},
     "output_type": "display_data"
    }
   ],
   "source": [
    "plt.figure(figsize=(20,8))\n",
    "\n",
    "g=sns.barplot(x='newspaper', y=\"ci_count\", data=count_rows_np_pd, color='salmon');\n",
    "\n",
    "g.set_xticklabels(count_rows_np_pd.newspaper, rotation=90);\n",
    "g.set_xlabel('');\n",
    "#g.set_yticklabels(count_rows_np_pd.ci_count);\n",
    "g.set_ylabel('# content items');\n",
    "g.set_title('Number of content items by newspaper');"
   ]
  },
  {
   "cell_type": "markdown",
   "metadata": {},
   "source": [
    "### Number of content item per type"
   ]
  },
  {
   "cell_type": "code",
   "execution_count": 221,
   "metadata": {},
   "outputs": [],
   "source": [
    "count_rows_type = test_df.groupby('type').id.count()"
   ]
  },
  {
   "cell_type": "code",
   "execution_count": 223,
   "metadata": {},
   "outputs": [],
   "source": [
    "count_rows_type_pd = count_rows_type.compute()"
   ]
  },
  {
   "cell_type": "code",
   "execution_count": 224,
   "metadata": {},
   "outputs": [],
   "source": [
    "count_rows_type_pd = count_rows_type_pd.reset_index(name='ci_count')"
   ]
  },
  {
   "cell_type": "code",
   "execution_count": 225,
   "metadata": {},
   "outputs": [],
   "source": [
    "count_rows_type_pd.sort_values(by='ci_count', inplace=True, ascending=False)"
   ]
  },
  {
   "cell_type": "code",
   "execution_count": 230,
   "metadata": {},
   "outputs": [
    {
     "data": {
      "image/png": "[encoded data removed]",
      "text/plain": [
       "<Figure size 1440x360 with 1 Axes>"
      ]
     },
     "metadata": {},
     "output_type": "display_data"
    }
   ],
   "source": [
    "plt.figure(figsize=(20,5))\n",
    "\n",
    "g=sns.barplot(x='type', y=\"ci_count\", data=count_rows_type_pd, color='salmon');\n",
    "\n",
    "g.set_xticklabels(count_rows_type_pd.type, rotation=90);\n",
    "g.set_xlabel('');\n",
    "#g.set_yticklabels(count_rows_np_pd.ci_count);\n",
    "g.set_ylabel('# content items');\n",
    "g.set_title('Number of content items by type');"
   ]
  },
  {
   "cell_type": "code",
   "execution_count": 241,
   "metadata": {},
   "outputs": [
    {
     "data": {
      "text/plain": [
       "50.2"
      ]
     },
     "execution_count": 241,
     "metadata": {},
     "output_type": "execute_result"
    }
   ],
   "source": [
    "len(per_year.year)/5"
   ]
  },
  {
   "cell_type": "code",
   "execution_count": 239,
   "metadata": {},
   "outputs": [
    {
     "data": {
      "text/plain": [
       "9"
      ]
     },
     "execution_count": 239,
     "metadata": {},
     "output_type": "execute_result"
    }
   ],
   "source": [
    "len(count_rows_type_pd.type)"
   ]
  },
  {
   "cell_type": "code",
   "execution_count": null,
   "metadata": {},
   "outputs": [],
   "source": [
    "max_value = per_year.year.max()\n",
    "min_value = per_year.year.min()\n",
    "number_of_steps = 5\n",
    "l = np.arange(min_value, max_value+1, number_of_steps)\n",
    "\n",
    "g = sns.barplot(x='year',  y=\"count\", data=per_year, color='salmon')\n",
    "\n",
    "pos = (l - min(l)) / (max(l)-min(l))* (max(g.get_xticks())-min(g.get_xticks()))\n",
    "g.set_xticks(pos);\n",
    "g.set_xticklabels(l, rotation=45);\n",
    "g.set_xlabel('');\n",
    "g.set_ylabel('# content items');\n",
    "g.set_title('Number of content items in the whole corpus');"
   ]
  },
  {
   "cell_type": "code",
   "execution_count": 250,
   "metadata": {},
   "outputs": [],
   "source": [
    "label_threshold_rotation=30\n",
    "label_threshold_select = 100\n",
    "\n",
    "def ci_plot_1d(df, grouping_col, asc=False, no_x_title=False):\n",
    "    \n",
    "    # Perfom the group by and count operation and convert to pandas df\n",
    "    count_df = df.groupby(grouping_col).id.count().compute().reset_index(name='ci_count')\n",
    "    \n",
    "    # Sort by count descending (default), or other if specified (time / ascending)\n",
    "    if grouping_col in ['year', 'decade'] :\n",
    "        count_df.sort_values(by=grouping_col, inplace=True, ascending=False)\n",
    "    else:\n",
    "        count_df.sort_values(by='ci_count', inplace=True, ascending=asc)\n",
    "    \n",
    "    num_xlabels = len(count_df[grouping_col])\n",
    "    \n",
    "    # Plot figure\n",
    "    plt.figure(figsize=(20,5))\n",
    "\n",
    "    g=sns.barplot(x=grouping_col, y=\"ci_count\", data=count_df, color='salmon');\n",
    "\n",
    "    # Set x axis labels\n",
    "    # no particular setup if number of labels is less than the first threshold\n",
    "    if num_xlabels < label_threshold_rotation:\n",
    "        g.set_xticklabels(count_df[grouping_col])\n",
    "        \n",
    "    # rotate by 90 degrees if number of labels is between first and second threshold\n",
    "    elif num_xlabels <  label_threshold_select:\n",
    "        g.set_xticklabels(count_df[grouping_col], rotation=90)\n",
    "       \n",
    "    # display only certain labels (and rotate by 45 degrees) if number of labels is higher\n",
    "    else :        \n",
    "        number_of_steps = num_xlabels/50\n",
    "        \n",
    "        l = np.arange(0, num_xlabels+1, number_of_steps)\n",
    "        \n",
    "        #pos = (l - min(l)) / (max(l)-min(l))* (max(g.get_xticks())-min(g.get_xticks()))\n",
    "        pos = (l / num_xlabels) * (max(g.get_xticks())-min(g.get_xticks()))\n",
    "        g.set_xticks(pos);\n",
    "        g.set_xticklabels(count_df[grouping_col][l], rotation=45);\n",
    "     \n",
    "    # option to remove the x axis title (when its obvious, e.g. for the years)\n",
    "    if no_x_title:\n",
    "        g.set_xlabel('');\n",
    "    else:\n",
    "        g.set_xlabel(grouping_col);\n",
    "        \n",
    "    #g.set_yticklabels(count_rows_np_pd.ci_count);\n",
    "    g.set_ylabel('# content items');\n",
    "    g.set_title('Number of content items by %s' % grouping_col);"
   ]
  },
  {
   "cell_type": "markdown",
   "metadata": {},
   "source": [
    "#### Plotting fonction for the content item frequency, aggregated at one level\n",
    "- type\n",
    "- year\n",
    "- decade\n",
    "- newspaper"
   ]
  },
  {
   "cell_type": "code",
   "execution_count": 236,
   "metadata": {},
   "outputs": [
    {
     "data": {
      "image/png": "[encoded data removed]",
      "text/plain": [
       "<Figure size 1440x576 with 1 Axes>"
      ]
     },
     "metadata": {},
     "output_type": "display_data"
    }
   ],
   "source": [
    "#Type\n",
    "ci_plot_1d(test_df, 'type')"
   ]
  },
  {
   "cell_type": "code",
   "execution_count": 248,
   "metadata": {},
   "outputs": [
    {
     "data": {
      "image/png": "[encoded data removed]",
      "text/plain": [
       "<Figure size 1440x576 with 1 Axes>"
      ]
     },
     "metadata": {},
     "output_type": "display_data"
    }
   ],
   "source": [
    "#Year\n",
    "ci_plot_1d(test_df, 'year')"
   ]
  },
  {
   "cell_type": "code",
   "execution_count": 238,
   "metadata": {},
   "outputs": [
    {
     "data": {
      "image/png": "[encoded data removed]",
      "text/plain": [
       "<Figure size 1440x576 with 1 Axes>"
      ]
     },
     "metadata": {},
     "output_type": "display_data"
    }
   ],
   "source": [
    "#Decade\n",
    "ci_plot_1d(test_df, 'decade')"
   ]
  },
  {
   "cell_type": "code",
   "execution_count": 235,
   "metadata": {},
   "outputs": [
    {
     "data": {
      "image/png": "[encoded data removed]",
      "text/plain": [
       "<Figure size 1440x576 with 1 Axes>"
      ]
     },
     "metadata": {},
     "output_type": "display_data"
    }
   ],
   "source": [
    "#Newspaper\n",
    "ci_plot_1d(test_df, 'newspaper')\n",
    "\n",
    "#TODO : logarithmis scale (pass as parameter)"
   ]
  },
  {
   "cell_type": "markdown",
   "metadata": {},
   "source": [
    "### Join with issues table (for licenses)"
   ]
  },
  {
   "cell_type": "markdown",
   "metadata": {},
   "source": [
    "#### Create column issue id"
   ]
  },
  {
   "cell_type": "code",
   "execution_count": 191,
   "metadata": {},
   "outputs": [],
   "source": [
    "# Extract issue_id from content item id\n",
    "test_df['issue_id'] = test_df.id.apply(lambda x: x[:x.rfind(\"-\")], meta=str)"
   ]
  },
  {
   "cell_type": "code",
   "execution_count": 192,
   "metadata": {},
   "outputs": [
    {
     "data": {
      "text/html": [
       "<div>\n",
       "<style scoped>\n",
       "    .dataframe tbody tr th:only-of-type {\n",
       "        vertical-align: middle;\n",
       "    }\n",
       "\n",
       "    .dataframe tbody tr th {\n",
       "        vertical-align: top;\n",
       "    }\n",
       "\n",
       "    .dataframe thead th {\n",
       "        text-align: right;\n",
       "    }\n",
       "</style>\n",
       "<table border=\"1\" class=\"dataframe\">\n",
       "  <thead>\n",
       "    <tr style=\"text-align: right;\">\n",
       "      <th></th>\n",
       "      <th>id</th>\n",
       "      <th>year</th>\n",
       "      <th>newspaper</th>\n",
       "      <th>type</th>\n",
       "      <th>n_tokens</th>\n",
       "      <th>title_length</th>\n",
       "      <th>issue_id</th>\n",
       "      <th>decade</th>\n",
       "    </tr>\n",
       "  </thead>\n",
       "  <tbody>\n",
       "    <tr>\n",
       "      <td>0</td>\n",
       "      <td>BDC-1839-01-20-a-i0001</td>\n",
       "      <td>1839</td>\n",
       "      <td>BDC</td>\n",
       "      <td>ar</td>\n",
       "      <td>250.0</td>\n",
       "      <td>4.0</td>\n",
       "      <td>BDC-1839-01-20-a</td>\n",
       "      <td>1830</td>\n",
       "    </tr>\n",
       "    <tr>\n",
       "      <td>1</td>\n",
       "      <td>BDC-1839-01-20-a-i0002</td>\n",
       "      <td>1839</td>\n",
       "      <td>BDC</td>\n",
       "      <td>ar</td>\n",
       "      <td>758.0</td>\n",
       "      <td>NaN</td>\n",
       "      <td>BDC-1839-01-20-a</td>\n",
       "      <td>1830</td>\n",
       "    </tr>\n",
       "    <tr>\n",
       "      <td>2</td>\n",
       "      <td>BDC-1839-01-20-a-i0003</td>\n",
       "      <td>1839</td>\n",
       "      <td>BDC</td>\n",
       "      <td>ar</td>\n",
       "      <td>14.0</td>\n",
       "      <td>31.0</td>\n",
       "      <td>BDC-1839-01-20-a</td>\n",
       "      <td>1830</td>\n",
       "    </tr>\n",
       "    <tr>\n",
       "      <td>3</td>\n",
       "      <td>BDC-1839-01-20-a-i0004</td>\n",
       "      <td>1839</td>\n",
       "      <td>BDC</td>\n",
       "      <td>ar</td>\n",
       "      <td>349.0</td>\n",
       "      <td>22.0</td>\n",
       "      <td>BDC-1839-01-20-a</td>\n",
       "      <td>1830</td>\n",
       "    </tr>\n",
       "    <tr>\n",
       "      <td>4</td>\n",
       "      <td>BDC-1839-01-20-a-i0005</td>\n",
       "      <td>1839</td>\n",
       "      <td>BDC</td>\n",
       "      <td>ar</td>\n",
       "      <td>193.0</td>\n",
       "      <td>NaN</td>\n",
       "      <td>BDC-1839-01-20-a</td>\n",
       "      <td>1830</td>\n",
       "    </tr>\n",
       "  </tbody>\n",
       "</table>\n",
       "</div>"
      ],
      "text/plain": [
       "                       id  year newspaper type  n_tokens  title_length  \\\n",
       "0  BDC-1839-01-20-a-i0001  1839       BDC   ar     250.0           4.0   \n",
       "1  BDC-1839-01-20-a-i0002  1839       BDC   ar     758.0           NaN   \n",
       "2  BDC-1839-01-20-a-i0003  1839       BDC   ar      14.0          31.0   \n",
       "3  BDC-1839-01-20-a-i0004  1839       BDC   ar     349.0          22.0   \n",
       "4  BDC-1839-01-20-a-i0005  1839       BDC   ar     193.0           NaN   \n",
       "\n",
       "           issue_id  decade  \n",
       "0  BDC-1839-01-20-a    1830  \n",
       "1  BDC-1839-01-20-a    1830  \n",
       "2  BDC-1839-01-20-a    1830  \n",
       "3  BDC-1839-01-20-a    1830  \n",
       "4  BDC-1839-01-20-a    1830  "
      ]
     },
     "execution_count": 192,
     "metadata": {},
     "output_type": "execute_result"
    }
   ],
   "source": [
    "test_df.head()"
   ]
  },
  {
   "cell_type": "markdown",
   "metadata": {},
   "source": [
    "#### Join with issues table"
   ]
  },
  {
   "cell_type": "code",
   "execution_count": 193,
   "metadata": {},
   "outputs": [],
   "source": [
    "from sql import db_engine, read_table"
   ]
  },
  {
   "cell_type": "code",
   "execution_count": 194,
   "metadata": {},
   "outputs": [],
   "source": [
    "engine = db_engine()\n",
    "issues_df = read_table('impresso.issues', engine)\n",
    "issues_df = issues_df.rename(columns={\"id\": \"issue_id\"})"
   ]
  },
  {
   "cell_type": "code",
   "execution_count": 23,
   "metadata": {},
   "outputs": [
    {
     "data": {
      "text/html": [
       "<div>\n",
       "<style scoped>\n",
       "    .dataframe tbody tr th:only-of-type {\n",
       "        vertical-align: middle;\n",
       "    }\n",
       "\n",
       "    .dataframe tbody tr th {\n",
       "        vertical-align: top;\n",
       "    }\n",
       "\n",
       "    .dataframe thead th {\n",
       "        text-align: right;\n",
       "    }\n",
       "</style>\n",
       "<table border=\"1\" class=\"dataframe\">\n",
       "  <thead>\n",
       "    <tr style=\"text-align: right;\">\n",
       "      <th></th>\n",
       "      <th>issue_id</th>\n",
       "      <th>year</th>\n",
       "      <th>month</th>\n",
       "      <th>day</th>\n",
       "      <th>edition</th>\n",
       "      <th>access_rights</th>\n",
       "      <th>created</th>\n",
       "      <th>last_modified</th>\n",
       "      <th>is_damaged</th>\n",
       "      <th>s3_version</th>\n",
       "      <th>newspaper_id</th>\n",
       "    </tr>\n",
       "  </thead>\n",
       "  <tbody>\n",
       "    <tr>\n",
       "      <td>0</td>\n",
       "      <td>actionfem-1927-10-15-a</td>\n",
       "      <td>1927</td>\n",
       "      <td>10</td>\n",
       "      <td>15</td>\n",
       "      <td>a</td>\n",
       "      <td>Closed</td>\n",
       "      <td>2019-06-15 12:22:38</td>\n",
       "      <td>NaT</td>\n",
       "      <td>0</td>\n",
       "      <td></td>\n",
       "      <td>actionfem</td>\n",
       "    </tr>\n",
       "    <tr>\n",
       "      <td>1</td>\n",
       "      <td>actionfem-1927-11-15-a</td>\n",
       "      <td>1927</td>\n",
       "      <td>11</td>\n",
       "      <td>15</td>\n",
       "      <td>a</td>\n",
       "      <td>Closed</td>\n",
       "      <td>2019-06-15 12:22:38</td>\n",
       "      <td>NaT</td>\n",
       "      <td>0</td>\n",
       "      <td></td>\n",
       "      <td>actionfem</td>\n",
       "    </tr>\n",
       "    <tr>\n",
       "      <td>2</td>\n",
       "      <td>actionfem-1927-12-15-a</td>\n",
       "      <td>1927</td>\n",
       "      <td>12</td>\n",
       "      <td>15</td>\n",
       "      <td>a</td>\n",
       "      <td>Closed</td>\n",
       "      <td>2019-06-15 12:22:38</td>\n",
       "      <td>NaT</td>\n",
       "      <td>0</td>\n",
       "      <td></td>\n",
       "      <td>actionfem</td>\n",
       "    </tr>\n",
       "    <tr>\n",
       "      <td>3</td>\n",
       "      <td>actionfem-1928-01-15-a</td>\n",
       "      <td>1928</td>\n",
       "      <td>1</td>\n",
       "      <td>15</td>\n",
       "      <td>a</td>\n",
       "      <td>Closed</td>\n",
       "      <td>2019-06-15 12:22:41</td>\n",
       "      <td>NaT</td>\n",
       "      <td>0</td>\n",
       "      <td></td>\n",
       "      <td>actionfem</td>\n",
       "    </tr>\n",
       "    <tr>\n",
       "      <td>4</td>\n",
       "      <td>actionfem-1928-02-15-a</td>\n",
       "      <td>1928</td>\n",
       "      <td>2</td>\n",
       "      <td>15</td>\n",
       "      <td>a</td>\n",
       "      <td>Closed</td>\n",
       "      <td>2019-06-15 12:22:41</td>\n",
       "      <td>NaT</td>\n",
       "      <td>0</td>\n",
       "      <td></td>\n",
       "      <td>actionfem</td>\n",
       "    </tr>\n",
       "  </tbody>\n",
       "</table>\n",
       "</div>"
      ],
      "text/plain": [
       "                 issue_id  year  month  day edition access_rights  \\\n",
       "0  actionfem-1927-10-15-a  1927     10   15       a        Closed   \n",
       "1  actionfem-1927-11-15-a  1927     11   15       a        Closed   \n",
       "2  actionfem-1927-12-15-a  1927     12   15       a        Closed   \n",
       "3  actionfem-1928-01-15-a  1928      1   15       a        Closed   \n",
       "4  actionfem-1928-02-15-a  1928      2   15       a        Closed   \n",
       "\n",
       "              created last_modified  is_damaged s3_version newspaper_id  \n",
       "0 2019-06-15 12:22:38           NaT           0               actionfem  \n",
       "1 2019-06-15 12:22:38           NaT           0               actionfem  \n",
       "2 2019-06-15 12:22:38           NaT           0               actionfem  \n",
       "3 2019-06-15 12:22:41           NaT           0               actionfem  \n",
       "4 2019-06-15 12:22:41           NaT           0               actionfem  "
      ]
     },
     "execution_count": 23,
     "metadata": {},
     "output_type": "execute_result"
    }
   ],
   "source": [
    "issues_df.head()"
   ]
  },
  {
   "cell_type": "code",
   "execution_count": 24,
   "metadata": {},
   "outputs": [],
   "source": [
    "ar_content_item = test_df.merge(issues_df, on='issue_id', suffixes=('_ci', '_issue'))"
   ]
  },
  {
   "cell_type": "code",
   "execution_count": 25,
   "metadata": {},
   "outputs": [
    {
     "data": {
      "text/html": [
       "<div>\n",
       "<style scoped>\n",
       "    .dataframe tbody tr th:only-of-type {\n",
       "        vertical-align: middle;\n",
       "    }\n",
       "\n",
       "    .dataframe tbody tr th {\n",
       "        vertical-align: top;\n",
       "    }\n",
       "\n",
       "    .dataframe thead th {\n",
       "        text-align: right;\n",
       "    }\n",
       "</style>\n",
       "<table border=\"1\" class=\"dataframe\">\n",
       "  <thead>\n",
       "    <tr style=\"text-align: right;\">\n",
       "      <th></th>\n",
       "      <th>id</th>\n",
       "      <th>year_ci</th>\n",
       "      <th>newspaper</th>\n",
       "      <th>type</th>\n",
       "      <th>n_tokens</th>\n",
       "      <th>title_length</th>\n",
       "      <th>issue_id</th>\n",
       "      <th>year_issue</th>\n",
       "      <th>month</th>\n",
       "      <th>day</th>\n",
       "      <th>edition</th>\n",
       "      <th>access_rights</th>\n",
       "      <th>created</th>\n",
       "      <th>last_modified</th>\n",
       "      <th>is_damaged</th>\n",
       "      <th>s3_version</th>\n",
       "      <th>newspaper_id</th>\n",
       "    </tr>\n",
       "  </thead>\n",
       "  <tbody>\n",
       "    <tr>\n",
       "      <td>0</td>\n",
       "      <td>BDC-1839-01-20-a-i0001</td>\n",
       "      <td>1839</td>\n",
       "      <td>BDC</td>\n",
       "      <td>ar</td>\n",
       "      <td>250.0</td>\n",
       "      <td>4.0</td>\n",
       "      <td>BDC-1839-01-20-a</td>\n",
       "      <td>1839</td>\n",
       "      <td>1</td>\n",
       "      <td>20</td>\n",
       "      <td>a</td>\n",
       "      <td>OpenPublic</td>\n",
       "      <td>2019-06-17 11:53:25</td>\n",
       "      <td>NaT</td>\n",
       "      <td>0</td>\n",
       "      <td></td>\n",
       "      <td>BDC</td>\n",
       "    </tr>\n",
       "    <tr>\n",
       "      <td>1</td>\n",
       "      <td>BDC-1839-01-20-a-i0002</td>\n",
       "      <td>1839</td>\n",
       "      <td>BDC</td>\n",
       "      <td>ar</td>\n",
       "      <td>758.0</td>\n",
       "      <td>NaN</td>\n",
       "      <td>BDC-1839-01-20-a</td>\n",
       "      <td>1839</td>\n",
       "      <td>1</td>\n",
       "      <td>20</td>\n",
       "      <td>a</td>\n",
       "      <td>OpenPublic</td>\n",
       "      <td>2019-06-17 11:53:25</td>\n",
       "      <td>NaT</td>\n",
       "      <td>0</td>\n",
       "      <td></td>\n",
       "      <td>BDC</td>\n",
       "    </tr>\n",
       "    <tr>\n",
       "      <td>2</td>\n",
       "      <td>BDC-1839-01-20-a-i0003</td>\n",
       "      <td>1839</td>\n",
       "      <td>BDC</td>\n",
       "      <td>ar</td>\n",
       "      <td>14.0</td>\n",
       "      <td>31.0</td>\n",
       "      <td>BDC-1839-01-20-a</td>\n",
       "      <td>1839</td>\n",
       "      <td>1</td>\n",
       "      <td>20</td>\n",
       "      <td>a</td>\n",
       "      <td>OpenPublic</td>\n",
       "      <td>2019-06-17 11:53:25</td>\n",
       "      <td>NaT</td>\n",
       "      <td>0</td>\n",
       "      <td></td>\n",
       "      <td>BDC</td>\n",
       "    </tr>\n",
       "  </tbody>\n",
       "</table>\n",
       "</div>"
      ],
      "text/plain": [
       "                       id  year_ci newspaper type  n_tokens  title_length  \\\n",
       "0  BDC-1839-01-20-a-i0001     1839       BDC   ar     250.0           4.0   \n",
       "1  BDC-1839-01-20-a-i0002     1839       BDC   ar     758.0           NaN   \n",
       "2  BDC-1839-01-20-a-i0003     1839       BDC   ar      14.0          31.0   \n",
       "\n",
       "           issue_id  year_issue  month  day edition access_rights  \\\n",
       "0  BDC-1839-01-20-a        1839      1   20       a    OpenPublic   \n",
       "1  BDC-1839-01-20-a        1839      1   20       a    OpenPublic   \n",
       "2  BDC-1839-01-20-a        1839      1   20       a    OpenPublic   \n",
       "\n",
       "              created last_modified  is_damaged s3_version newspaper_id  \n",
       "0 2019-06-17 11:53:25           NaT           0                     BDC  \n",
       "1 2019-06-17 11:53:25           NaT           0                     BDC  \n",
       "2 2019-06-17 11:53:25           NaT           0                     BDC  "
      ]
     },
     "execution_count": 25,
     "metadata": {},
     "output_type": "execute_result"
    }
   ],
   "source": [
    "ar_content_item.head(3)"
   ]
  },
  {
   "cell_type": "markdown",
   "metadata": {},
   "source": [
    "#### Clean & keep only useful columns"
   ]
  },
  {
   "cell_type": "code",
   "execution_count": 26,
   "metadata": {},
   "outputs": [],
   "source": [
    "ar_content_item = ar_content_item[['id', 'newspaper_id', 'type', 'n_tokens', 'year_issue', 'month', 'day', \\\n",
    "                                   'access_rights']].rename(columns={'year_issue':'year'})"
   ]
  },
  {
   "cell_type": "code",
   "execution_count": 27,
   "metadata": {},
   "outputs": [
    {
     "data": {
      "text/html": [
       "<div>\n",
       "<style scoped>\n",
       "    .dataframe tbody tr th:only-of-type {\n",
       "        vertical-align: middle;\n",
       "    }\n",
       "\n",
       "    .dataframe tbody tr th {\n",
       "        vertical-align: top;\n",
       "    }\n",
       "\n",
       "    .dataframe thead th {\n",
       "        text-align: right;\n",
       "    }\n",
       "</style>\n",
       "<table border=\"1\" class=\"dataframe\">\n",
       "  <thead>\n",
       "    <tr style=\"text-align: right;\">\n",
       "      <th></th>\n",
       "      <th>id</th>\n",
       "      <th>newspaper_id</th>\n",
       "      <th>type</th>\n",
       "      <th>n_tokens</th>\n",
       "      <th>year</th>\n",
       "      <th>month</th>\n",
       "      <th>day</th>\n",
       "      <th>access_rights</th>\n",
       "    </tr>\n",
       "  </thead>\n",
       "  <tbody>\n",
       "    <tr>\n",
       "      <td>0</td>\n",
       "      <td>BDC-1839-01-20-a-i0001</td>\n",
       "      <td>BDC</td>\n",
       "      <td>ar</td>\n",
       "      <td>250.0</td>\n",
       "      <td>1839</td>\n",
       "      <td>1</td>\n",
       "      <td>20</td>\n",
       "      <td>OpenPublic</td>\n",
       "    </tr>\n",
       "    <tr>\n",
       "      <td>1</td>\n",
       "      <td>BDC-1839-01-20-a-i0002</td>\n",
       "      <td>BDC</td>\n",
       "      <td>ar</td>\n",
       "      <td>758.0</td>\n",
       "      <td>1839</td>\n",
       "      <td>1</td>\n",
       "      <td>20</td>\n",
       "      <td>OpenPublic</td>\n",
       "    </tr>\n",
       "    <tr>\n",
       "      <td>2</td>\n",
       "      <td>BDC-1839-01-20-a-i0003</td>\n",
       "      <td>BDC</td>\n",
       "      <td>ar</td>\n",
       "      <td>14.0</td>\n",
       "      <td>1839</td>\n",
       "      <td>1</td>\n",
       "      <td>20</td>\n",
       "      <td>OpenPublic</td>\n",
       "    </tr>\n",
       "    <tr>\n",
       "      <td>3</td>\n",
       "      <td>BDC-1839-01-20-a-i0004</td>\n",
       "      <td>BDC</td>\n",
       "      <td>ar</td>\n",
       "      <td>349.0</td>\n",
       "      <td>1839</td>\n",
       "      <td>1</td>\n",
       "      <td>20</td>\n",
       "      <td>OpenPublic</td>\n",
       "    </tr>\n",
       "    <tr>\n",
       "      <td>4</td>\n",
       "      <td>BDC-1839-01-20-a-i0005</td>\n",
       "      <td>BDC</td>\n",
       "      <td>ar</td>\n",
       "      <td>193.0</td>\n",
       "      <td>1839</td>\n",
       "      <td>1</td>\n",
       "      <td>20</td>\n",
       "      <td>OpenPublic</td>\n",
       "    </tr>\n",
       "  </tbody>\n",
       "</table>\n",
       "</div>"
      ],
      "text/plain": [
       "                       id newspaper_id type  n_tokens  year  month  day  \\\n",
       "0  BDC-1839-01-20-a-i0001          BDC   ar     250.0  1839      1   20   \n",
       "1  BDC-1839-01-20-a-i0002          BDC   ar     758.0  1839      1   20   \n",
       "2  BDC-1839-01-20-a-i0003          BDC   ar      14.0  1839      1   20   \n",
       "3  BDC-1839-01-20-a-i0004          BDC   ar     349.0  1839      1   20   \n",
       "4  BDC-1839-01-20-a-i0005          BDC   ar     193.0  1839      1   20   \n",
       "\n",
       "  access_rights  \n",
       "0    OpenPublic  \n",
       "1    OpenPublic  \n",
       "2    OpenPublic  \n",
       "3    OpenPublic  \n",
       "4    OpenPublic  "
      ]
     },
     "execution_count": 27,
     "metadata": {},
     "output_type": "execute_result"
    }
   ],
   "source": [
    "ar_content_item.head()"
   ]
  },
  {
   "cell_type": "code",
   "execution_count": 30,
   "metadata": {},
   "outputs": [
    {
     "name": "stdout",
     "output_type": "stream",
     "text": [
      "CPU times: user 5min 39s, sys: 37.9 s, total: 6min 17s\n",
      "Wall time: 4min 22s\n"
     ]
    },
    {
     "data": {
      "text/plain": [
       "33707113"
      ]
     },
     "execution_count": 30,
     "metadata": {},
     "output_type": "execute_result"
    }
   ],
   "source": [
    "%time ar_content_item.shape[0].compute()"
   ]
  },
  {
   "cell_type": "markdown",
   "metadata": {},
   "source": [
    "#### Number of content-item per access right"
   ]
  },
  {
   "cell_type": "code",
   "execution_count": 60,
   "metadata": {},
   "outputs": [
    {
     "name": "stdout",
     "output_type": "stream",
     "text": [
      "CPU times: user 5min 47s, sys: 34.7 s, total: 6min 22s\n",
      "Wall time: 4min 24s\n"
     ]
    }
   ],
   "source": [
    "%%time\n",
    "ar_per_CI = ar_content_item[['id', 'access_rights']].groupby('access_rights').id.count().compute()"
   ]
  },
  {
   "cell_type": "code",
   "execution_count": 61,
   "metadata": {},
   "outputs": [
    {
     "data": {
      "text/plain": [
       "access_rights\n",
       "OpenPublic      1427254\n",
       "OpenPrivate    29158736\n",
       "Closed          3121123\n",
       "Name: id, dtype: int64"
      ]
     },
     "execution_count": 61,
     "metadata": {},
     "output_type": "execute_result"
    }
   ],
   "source": [
    "ar_per_CI"
   ]
  },
  {
   "cell_type": "markdown",
   "metadata": {},
   "source": [
    "## Filter content item dataframe"
   ]
  },
  {
   "cell_type": "markdown",
   "metadata": {},
   "source": [
    "### Test filter function with several parameters on dask df"
   ]
  },
  {
   "cell_type": "code",
   "execution_count": 62,
   "metadata": {},
   "outputs": [],
   "source": [
    "from helpers import filter_df"
   ]
  },
  {
   "cell_type": "code",
   "execution_count": 63,
   "metadata": {},
   "outputs": [],
   "source": [
    "ar_content_item_sub,_ = filter_df(ar_content_item, np_ids=['GDL', 'NZZ', 'JDG'], start_date=1780, end_date=1810)"
   ]
  },
  {
   "cell_type": "markdown",
   "metadata": {},
   "source": [
    "Following cell takes 7min to run : outputs 24'294 >> can be converted to pandas df"
   ]
  },
  {
   "cell_type": "code",
   "execution_count": null,
   "metadata": {},
   "outputs": [],
   "source": [
    "%time ar_content_item_sub.shape[0].compute()"
   ]
  },
  {
   "cell_type": "code",
   "execution_count": null,
   "metadata": {},
   "outputs": [],
   "source": [
    "ar_content_item_sub_pd = ar_content_item_sub.compute()"
   ]
  },
  {
   "cell_type": "code",
   "execution_count": null,
   "metadata": {},
   "outputs": [],
   "source": [
    "ar_content_item_sub_pd"
   ]
  },
  {
   "cell_type": "code",
   "execution_count": null,
   "metadata": {},
   "outputs": [],
   "source": [
    "from visualization import plot_licences"
   ]
  },
  {
   "cell_type": "code",
   "execution_count": null,
   "metadata": {},
   "outputs": [],
   "source": [
    "plot_licences(facet='time', df=ar_content_item_sub_pd)"
   ]
  },
  {
   "cell_type": "code",
   "execution_count": null,
   "metadata": {},
   "outputs": [],
   "source": [
    "plot_licences(facet='newspapers', df=ar_content_item_sub_pd)"
   ]
  },
  {
   "cell_type": "code",
   "execution_count": null,
   "metadata": {},
   "outputs": [],
   "source": [
    "import pandas\n",
    "from typing import Iterable"
   ]
  },
  {
   "cell_type": "code",
   "execution_count": null,
   "metadata": {},
   "outputs": [],
   "source": [
    "## TODO : FINISH THIS\n",
    "def plot_licences_content_it(\n",
    "    facet: str = 'newspapers',\n",
    "    ddf: pandas.core.frame.DataFrame = None,\n",
    "    start_date: int = None,\n",
    "    end_date: int = None,\n",
    "    np_ids: Iterable = None,\n",
    "    country: str = None,\n",
    "    batch_size: int = None,\n",
    "    ppty: str = None,\n",
    "    ppty_value: str = None,\n",
    ") :\n",
    "    \n",
    "    ddf_sub,_ = filter_df(ddf, start_date, end_date, np_ids, country, ppty, ppty_value)\n",
    "    #TODO : add condition on the size of teh df before calling compute()\n",
    "    df = ddf_sub.compute()\n",
    "    plot_licences(facet=facet, df=df)\n",
    "    "
   ]
  },
  {
   "cell_type": "markdown",
   "metadata": {},
   "source": [
    "## Others"
   ]
  },
  {
   "cell_type": "code",
   "execution_count": null,
   "metadata": {},
   "outputs": [],
   "source": [
    "def np_pd(ddf, npID: str, max_rows: int):\n",
    "    if len(ddf.loc[ddf.newspaper == npID] < max_rows) :\n",
    "        return ddf.loc[ddf.newspaper == npID].compute()\n",
    "    else :\n",
    "        print('Length of dataframe exceeds max_rows > cannot be converted to pandas df.')\n",
    "        return None"
   ]
  },
  {
   "cell_type": "code",
   "execution_count": null,
   "metadata": {
    "scrolled": false
   },
   "outputs": [],
   "source": [
    "def num_content_items(npID: str):\n",
    "    return test_df.loc[test_df.newspaper == npID].count().compute()"
   ]
  },
  {
   "cell_type": "code",
   "execution_count": 37,
   "metadata": {
    "collapsed": true
   },
   "outputs": [],
   "source": [
    "def num_content_items2(npID: str):\n",
    "    return test_df.filter(test_df.newspaper == npID).count().compute()"
   ]
  },
  {
   "cell_type": "code",
   "execution_count": 38,
   "metadata": {},
   "outputs": [
    {
     "ename": "AttributeError",
     "evalue": "'DataFrame' object has no attribute 'filter'",
     "output_type": "error",
     "traceback": [
      "\u001b[0;31m---------------------------------------------------------------------------\u001b[0m",
      "\u001b[0;31mAttributeError\u001b[0m                            Traceback (most recent call last)",
      "\u001b[0;32m<timed eval>\u001b[0m in \u001b[0;36m<module>\u001b[0;34m\u001b[0m\n",
      "\u001b[0;32m<ipython-input-37-821b1ad6da3c>\u001b[0m in \u001b[0;36mnum_content_items2\u001b[0;34m(npID)\u001b[0m\n\u001b[1;32m      1\u001b[0m \u001b[0;32mdef\u001b[0m \u001b[0mnum_content_items2\u001b[0m\u001b[0;34m(\u001b[0m\u001b[0mnpID\u001b[0m\u001b[0;34m:\u001b[0m \u001b[0mstr\u001b[0m\u001b[0;34m)\u001b[0m\u001b[0;34m:\u001b[0m\u001b[0;34m\u001b[0m\u001b[0;34m\u001b[0m\u001b[0m\n\u001b[0;32m----> 2\u001b[0;31m     \u001b[0;32mreturn\u001b[0m \u001b[0mtest_df\u001b[0m\u001b[0;34m.\u001b[0m\u001b[0mfilter\u001b[0m\u001b[0;34m(\u001b[0m\u001b[0mtest_df\u001b[0m\u001b[0;34m.\u001b[0m\u001b[0mnewspaper\u001b[0m \u001b[0;34m==\u001b[0m \u001b[0mnpID\u001b[0m\u001b[0;34m)\u001b[0m\u001b[0;34m.\u001b[0m\u001b[0mcount\u001b[0m\u001b[0;34m(\u001b[0m\u001b[0;34m)\u001b[0m\u001b[0;34m.\u001b[0m\u001b[0mcompute\u001b[0m\u001b[0;34m(\u001b[0m\u001b[0;34m)\u001b[0m\u001b[0;34m\u001b[0m\u001b[0;34m\u001b[0m\u001b[0m\n\u001b[0m",
      "\u001b[0;32m~/.conda/envs/impresso-stats/lib/python3.7/site-packages/dask/dataframe/core.py\u001b[0m in \u001b[0;36m__getattr__\u001b[0;34m(self, key)\u001b[0m\n\u001b[1;32m   2591\u001b[0m             \u001b[0;32mreturn\u001b[0m \u001b[0mself\u001b[0m\u001b[0;34m[\u001b[0m\u001b[0mkey\u001b[0m\u001b[0;34m]\u001b[0m\u001b[0;34m\u001b[0m\u001b[0;34m\u001b[0m\u001b[0m\n\u001b[1;32m   2592\u001b[0m         \u001b[0;32melse\u001b[0m\u001b[0;34m:\u001b[0m\u001b[0;34m\u001b[0m\u001b[0;34m\u001b[0m\u001b[0m\n\u001b[0;32m-> 2593\u001b[0;31m             \u001b[0;32mraise\u001b[0m \u001b[0mAttributeError\u001b[0m\u001b[0;34m(\u001b[0m\u001b[0;34m\"'DataFrame' object has no attribute %r\"\u001b[0m \u001b[0;34m%\u001b[0m \u001b[0mkey\u001b[0m\u001b[0;34m)\u001b[0m\u001b[0;34m\u001b[0m\u001b[0;34m\u001b[0m\u001b[0m\n\u001b[0m\u001b[1;32m   2594\u001b[0m \u001b[0;34m\u001b[0m\u001b[0m\n\u001b[1;32m   2595\u001b[0m     \u001b[0;32mdef\u001b[0m \u001b[0m__dir__\u001b[0m\u001b[0;34m(\u001b[0m\u001b[0mself\u001b[0m\u001b[0;34m)\u001b[0m\u001b[0;34m:\u001b[0m\u001b[0;34m\u001b[0m\u001b[0;34m\u001b[0m\u001b[0m\n",
      "\u001b[0;31mAttributeError\u001b[0m: 'DataFrame' object has no attribute 'filter'"
     ]
    }
   ],
   "source": [
    "%time num_content_items2('BDC')"
   ]
  },
  {
   "cell_type": "code",
   "execution_count": 49,
   "metadata": {},
   "outputs": [
    {
     "name": "stdout",
     "output_type": "stream",
     "text": [
      "CPU times: user 3min 23s, sys: 6min 52s, total: 10min 15s\n",
      "Wall time: 1min 2s\n"
     ]
    },
    {
     "data": {
      "text/plain": [
       "id              429\n",
       "year            429\n",
       "newspaper       429\n",
       "type            429\n",
       "n_tokens        429\n",
       "title_length    429\n",
       "dtype: int64"
      ]
     },
     "execution_count": 49,
     "metadata": {},
     "output_type": "execute_result"
    }
   ],
   "source": [
    "%time num_content_items('BLB')"
   ]
  },
  {
   "cell_type": "code",
   "execution_count": 26,
   "metadata": {},
   "outputs": [
    {
     "name": "stdout",
     "output_type": "stream",
     "text": [
      "CPU times: user 3min 24s, sys: 6min 44s, total: 10min 9s\n",
      "Wall time: 1min 1s\n"
     ]
    },
    {
     "data": {
      "text/html": [
       "<div>\n",
       "<style scoped>\n",
       "    .dataframe tbody tr th:only-of-type {\n",
       "        vertical-align: middle;\n",
       "    }\n",
       "\n",
       "    .dataframe tbody tr th {\n",
       "        vertical-align: top;\n",
       "    }\n",
       "\n",
       "    .dataframe thead th {\n",
       "        text-align: right;\n",
       "    }\n",
       "</style>\n",
       "<table border=\"1\" class=\"dataframe\">\n",
       "  <thead>\n",
       "    <tr style=\"text-align: right;\">\n",
       "      <th></th>\n",
       "      <th>id</th>\n",
       "      <th>year</th>\n",
       "      <th>newspaper</th>\n",
       "      <th>type</th>\n",
       "      <th>n_tokens</th>\n",
       "      <th>title_length</th>\n",
       "    </tr>\n",
       "  </thead>\n",
       "  <tbody>\n",
       "    <tr>\n",
       "      <td>0</td>\n",
       "      <td>BDC-1839-01-20-a-i0001</td>\n",
       "      <td>1839</td>\n",
       "      <td>BDC</td>\n",
       "      <td>ar</td>\n",
       "      <td>250.0</td>\n",
       "      <td>4.0</td>\n",
       "    </tr>\n",
       "    <tr>\n",
       "      <td>1</td>\n",
       "      <td>BDC-1839-01-20-a-i0002</td>\n",
       "      <td>1839</td>\n",
       "      <td>BDC</td>\n",
       "      <td>ar</td>\n",
       "      <td>758.0</td>\n",
       "      <td>NaN</td>\n",
       "    </tr>\n",
       "    <tr>\n",
       "      <td>2</td>\n",
       "      <td>BDC-1839-01-20-a-i0003</td>\n",
       "      <td>1839</td>\n",
       "      <td>BDC</td>\n",
       "      <td>ar</td>\n",
       "      <td>14.0</td>\n",
       "      <td>31.0</td>\n",
       "    </tr>\n",
       "    <tr>\n",
       "      <td>3</td>\n",
       "      <td>BDC-1839-01-20-a-i0004</td>\n",
       "      <td>1839</td>\n",
       "      <td>BDC</td>\n",
       "      <td>ar</td>\n",
       "      <td>349.0</td>\n",
       "      <td>22.0</td>\n",
       "    </tr>\n",
       "    <tr>\n",
       "      <td>4</td>\n",
       "      <td>BDC-1839-01-20-a-i0005</td>\n",
       "      <td>1839</td>\n",
       "      <td>BDC</td>\n",
       "      <td>ar</td>\n",
       "      <td>193.0</td>\n",
       "      <td>NaN</td>\n",
       "    </tr>\n",
       "    <tr>\n",
       "      <td>...</td>\n",
       "      <td>...</td>\n",
       "      <td>...</td>\n",
       "      <td>...</td>\n",
       "      <td>...</td>\n",
       "      <td>...</td>\n",
       "      <td>...</td>\n",
       "    </tr>\n",
       "    <tr>\n",
       "      <td>7</td>\n",
       "      <td>BDC-1839-04-04-a-i0002</td>\n",
       "      <td>1839</td>\n",
       "      <td>BDC</td>\n",
       "      <td>ar</td>\n",
       "      <td>713.0</td>\n",
       "      <td>NaN</td>\n",
       "    </tr>\n",
       "    <tr>\n",
       "      <td>8</td>\n",
       "      <td>BDC-1839-04-04-a-i0003</td>\n",
       "      <td>1839</td>\n",
       "      <td>BDC</td>\n",
       "      <td>ar</td>\n",
       "      <td>773.0</td>\n",
       "      <td>NaN</td>\n",
       "    </tr>\n",
       "    <tr>\n",
       "      <td>9</td>\n",
       "      <td>BDC-1839-04-04-a-i0004</td>\n",
       "      <td>1839</td>\n",
       "      <td>BDC</td>\n",
       "      <td>ar</td>\n",
       "      <td>396.0</td>\n",
       "      <td>NaN</td>\n",
       "    </tr>\n",
       "    <tr>\n",
       "      <td>10</td>\n",
       "      <td>BDC-1839-04-04-a-i0005</td>\n",
       "      <td>1839</td>\n",
       "      <td>BDC</td>\n",
       "      <td>ar</td>\n",
       "      <td>336.0</td>\n",
       "      <td>NaN</td>\n",
       "    </tr>\n",
       "    <tr>\n",
       "      <td>11</td>\n",
       "      <td>BDC-1839-04-04-a-i0006</td>\n",
       "      <td>1839</td>\n",
       "      <td>BDC</td>\n",
       "      <td>ar</td>\n",
       "      <td>56.0</td>\n",
       "      <td>NaN</td>\n",
       "    </tr>\n",
       "  </tbody>\n",
       "</table>\n",
       "<p>146 rows × 6 columns</p>\n",
       "</div>"
      ],
      "text/plain": [
       "                        id  year newspaper type  n_tokens  title_length\n",
       "0   BDC-1839-01-20-a-i0001  1839       BDC   ar     250.0           4.0\n",
       "1   BDC-1839-01-20-a-i0002  1839       BDC   ar     758.0           NaN\n",
       "2   BDC-1839-01-20-a-i0003  1839       BDC   ar      14.0          31.0\n",
       "3   BDC-1839-01-20-a-i0004  1839       BDC   ar     349.0          22.0\n",
       "4   BDC-1839-01-20-a-i0005  1839       BDC   ar     193.0           NaN\n",
       "..                     ...   ...       ...  ...       ...           ...\n",
       "7   BDC-1839-04-04-a-i0002  1839       BDC   ar     713.0           NaN\n",
       "8   BDC-1839-04-04-a-i0003  1839       BDC   ar     773.0           NaN\n",
       "9   BDC-1839-04-04-a-i0004  1839       BDC   ar     396.0           NaN\n",
       "10  BDC-1839-04-04-a-i0005  1839       BDC   ar     336.0           NaN\n",
       "11  BDC-1839-04-04-a-i0006  1839       BDC   ar      56.0           NaN\n",
       "\n",
       "[146 rows x 6 columns]"
      ]
     },
     "execution_count": 26,
     "metadata": {},
     "output_type": "execute_result"
    }
   ],
   "source": [
    "%time test_df.loc[test_df.newspaper == 'BDC'].compute()"
   ]
  },
  {
   "cell_type": "code",
   "execution_count": null,
   "metadata": {
    "collapsed": true
   },
   "outputs": [],
   "source": []
  }
 ],
 "metadata": {
  "kernelspec": {
   "display_name": "Python 3",
   "language": "python",
   "name": "python3"
  },
  "language_info": {
   "codemirror_mode": {
    "name": "ipython",
    "version": 3
   },
   "file_extension": ".py",
   "mimetype": "text/x-python",
   "name": "python",
   "nbconvert_exporter": "python",
   "pygments_lexer": "ipython3",
   "version": "3.6.9"
  }
 },
 "nbformat": 4,
 "nbformat_minor": 2
}
