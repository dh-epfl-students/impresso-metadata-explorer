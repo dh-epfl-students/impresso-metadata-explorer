{
 "cells": [
  {
   "cell_type": "markdown",
   "metadata": {},
   "source": [
    "Title"
   ]
  },
  {
   "cell_type": "markdown",
   "metadata": {},
   "source": [
    "This tutorial aims to explain you how to use the functions made for analysis at the issue level. It is the 2nd tutorial notebook, following the 1st tutorial notebook: `Introductory tutorial`.\n",
    "\n",
    "If you do not understand some parts of the beginning, I invite you to check the `Introductory tutorial`, explaining how data should be loaded and what it should look like."
   ]
  },
  {
   "cell_type": "markdown",
   "metadata": {},
   "source": [
    "For any part regarding loading datasets, transformation of tables etc, please refer to the first  tutorial notebook 1 : introductiy tu"
   ]
  },
  {
   "cell_type": "code",
   "execution_count": null,
   "metadata": {},
   "outputs": [],
   "source": []
  }
 ],
 "metadata": {
  "kernelspec": {
   "display_name": "Python 3",
   "language": "python",
   "name": "python3"
  },
  "language_info": {
   "codemirror_mode": {
    "name": "ipython",
    "version": 3
   },
   "file_extension": ".py",
   "mimetype": "text/x-python",
   "name": "python",
   "nbconvert_exporter": "python",
   "pygments_lexer": "ipython3",
   "version": "3.6.9"
  }
 },
 "nbformat": 4,
 "nbformat_minor": 2
}
