{
 "cells": [
  {
   "cell_type": "markdown",
   "metadata": {},
   "source": [
    "Title"
   ]
  },
  {
   "cell_type": "markdown",
   "metadata": {},
   "source": [
    "## Introduction"
   ]
  },
  {
   "cell_type": "markdown",
   "metadata": {},
   "source": [
    "TODO : explain what this is for\n",
    "\n",
    "Explain that you can skip if you are already familiar with xxx"
   ]
  },
  {
   "cell_type": "markdown",
   "metadata": {},
   "source": [
    "## Setup"
   ]
  },
  {
   "cell_type": "code",
   "execution_count": 2,
   "metadata": {},
   "outputs": [],
   "source": [
    "# Specify path for imports\n",
    "import os\n",
    "import sys\n",
    "module_path = os.path.abspath(os.path.join('..'))\n",
    "if module_path not in sys.path:\n",
    "    sys.path.append(module_path)"
   ]
  },
  {
   "cell_type": "markdown",
   "metadata": {},
   "source": [
    "## 1. Dataset overview"
   ]
  },
  {
   "cell_type": "markdown",
   "metadata": {},
   "source": [
    "> Let's first have a quick overview on what the dataset we will work on should look like, and what is necessary for the package functions to be workable.\n",
    "\n",
    "We will work with **two types of datasets**, depending on whether you need statistics at the **issues level** or at the **content item level**."
   ]
  },
  {
   "cell_type": "markdown",
   "metadata": {},
   "source": [
    "### 1.1  Issues table (SQL > pandas)\n",
    "For the analysis at the issues level, data has been loaded from SQL. Here are some tool functions that can be useful if you also wish to load data from SQL."
   ]
  },
  {
   "cell_type": "markdown",
   "metadata": {},
   "source": [
    "##### Read Table\n",
    "The `read_table` function is usefull for loading a table from SQL to pandas. You can use it if you have the database in SQL format. Otherwise you should load your database the way you are used to, to have it as a pandas dataframe.\n",
    "\n",
    "The `db_engine` function is needed for creating the sql engine from you environment variables. Check in the code directly to see how your environment varibles should be named."
   ]
  },
  {
   "cell_type": "code",
   "execution_count": 6,
   "metadata": {},
   "outputs": [],
   "source": [
    "from impresso_stats.sql import db_engine, read_table"
   ]
  },
  {
   "cell_type": "code",
   "execution_count": 7,
   "metadata": {},
   "outputs": [],
   "source": [
    "engine = db_engine()"
   ]
  },
  {
   "cell_type": "markdown",
   "metadata": {},
   "source": [
    "As most function are made to do analysis at the issue level (or content item level but we will see that later), we focus on the `issues` table, but you can use this function to load any other impression SQL table (e.g. `newspapers` table)."
   ]
  },
  {
   "cell_type": "code",
   "execution_count": 28,
   "metadata": {},
   "outputs": [],
   "source": [
    "issues_df = read_table('impresso.issues', engine)\n",
    "#newspapers_df = read_table('impresso.newspapers', engine)"
   ]
  },
  {
   "cell_type": "markdown",
   "metadata": {},
   "source": [
    "##### Snapshot"
   ]
  },
  {
   "cell_type": "code",
   "execution_count": 10,
   "metadata": {
    "scrolled": true
   },
   "outputs": [
    {
     "data": {
      "text/html": [
       "<div>\n",
       "<style scoped>\n",
       "    .dataframe tbody tr th:only-of-type {\n",
       "        vertical-align: middle;\n",
       "    }\n",
       "\n",
       "    .dataframe tbody tr th {\n",
       "        vertical-align: top;\n",
       "    }\n",
       "\n",
       "    .dataframe thead th {\n",
       "        text-align: right;\n",
       "    }\n",
       "</style>\n",
       "<table border=\"1\" class=\"dataframe\">\n",
       "  <thead>\n",
       "    <tr style=\"text-align: right;\">\n",
       "      <th></th>\n",
       "      <th>id</th>\n",
       "      <th>year</th>\n",
       "      <th>month</th>\n",
       "      <th>day</th>\n",
       "      <th>edition</th>\n",
       "      <th>access_rights</th>\n",
       "      <th>created</th>\n",
       "      <th>last_modified</th>\n",
       "      <th>is_damaged</th>\n",
       "      <th>s3_version</th>\n",
       "      <th>newspaper_id</th>\n",
       "    </tr>\n",
       "  </thead>\n",
       "  <tbody>\n",
       "    <tr>\n",
       "      <td>0</td>\n",
       "      <td>actionfem-1927-10-15-a</td>\n",
       "      <td>1927</td>\n",
       "      <td>10</td>\n",
       "      <td>15</td>\n",
       "      <td>a</td>\n",
       "      <td>Closed</td>\n",
       "      <td>2019-06-15 12:22:38</td>\n",
       "      <td>NaT</td>\n",
       "      <td>0</td>\n",
       "      <td></td>\n",
       "      <td>actionfem</td>\n",
       "    </tr>\n",
       "    <tr>\n",
       "      <td>1</td>\n",
       "      <td>actionfem-1927-11-15-a</td>\n",
       "      <td>1927</td>\n",
       "      <td>11</td>\n",
       "      <td>15</td>\n",
       "      <td>a</td>\n",
       "      <td>Closed</td>\n",
       "      <td>2019-06-15 12:22:38</td>\n",
       "      <td>NaT</td>\n",
       "      <td>0</td>\n",
       "      <td></td>\n",
       "      <td>actionfem</td>\n",
       "    </tr>\n",
       "    <tr>\n",
       "      <td>2</td>\n",
       "      <td>actionfem-1927-12-15-a</td>\n",
       "      <td>1927</td>\n",
       "      <td>12</td>\n",
       "      <td>15</td>\n",
       "      <td>a</td>\n",
       "      <td>Closed</td>\n",
       "      <td>2019-06-15 12:22:38</td>\n",
       "      <td>NaT</td>\n",
       "      <td>0</td>\n",
       "      <td></td>\n",
       "      <td>actionfem</td>\n",
       "    </tr>\n",
       "    <tr>\n",
       "      <td>3</td>\n",
       "      <td>actionfem-1928-01-15-a</td>\n",
       "      <td>1928</td>\n",
       "      <td>1</td>\n",
       "      <td>15</td>\n",
       "      <td>a</td>\n",
       "      <td>Closed</td>\n",
       "      <td>2019-06-15 12:22:41</td>\n",
       "      <td>NaT</td>\n",
       "      <td>0</td>\n",
       "      <td></td>\n",
       "      <td>actionfem</td>\n",
       "    </tr>\n",
       "    <tr>\n",
       "      <td>4</td>\n",
       "      <td>actionfem-1928-02-15-a</td>\n",
       "      <td>1928</td>\n",
       "      <td>2</td>\n",
       "      <td>15</td>\n",
       "      <td>a</td>\n",
       "      <td>Closed</td>\n",
       "      <td>2019-06-15 12:22:41</td>\n",
       "      <td>NaT</td>\n",
       "      <td>0</td>\n",
       "      <td></td>\n",
       "      <td>actionfem</td>\n",
       "    </tr>\n",
       "  </tbody>\n",
       "</table>\n",
       "</div>"
      ],
      "text/plain": [
       "                       id  year  month  day edition access_rights  \\\n",
       "0  actionfem-1927-10-15-a  1927     10   15       a        Closed   \n",
       "1  actionfem-1927-11-15-a  1927     11   15       a        Closed   \n",
       "2  actionfem-1927-12-15-a  1927     12   15       a        Closed   \n",
       "3  actionfem-1928-01-15-a  1928      1   15       a        Closed   \n",
       "4  actionfem-1928-02-15-a  1928      2   15       a        Closed   \n",
       "\n",
       "              created last_modified  is_damaged s3_version newspaper_id  \n",
       "0 2019-06-15 12:22:38           NaT           0               actionfem  \n",
       "1 2019-06-15 12:22:38           NaT           0               actionfem  \n",
       "2 2019-06-15 12:22:38           NaT           0               actionfem  \n",
       "3 2019-06-15 12:22:41           NaT           0               actionfem  \n",
       "4 2019-06-15 12:22:41           NaT           0               actionfem  "
      ]
     },
     "execution_count": 10,
     "metadata": {},
     "output_type": "execute_result"
    }
   ],
   "source": [
    "issues_df.head()"
   ]
  },
  {
   "cell_type": "markdown",
   "metadata": {},
   "source": [
    "The issues table we will use must contain at least the 4 following columns :\n",
    "- `id`\n",
    "- `year`\n",
    "- `access_right`\n",
    "- `newspaper_id`"
   ]
  },
  {
   "cell_type": "markdown",
   "metadata": {},
   "source": [
    "### 1.2 Content item table (S3 > dask)\n",
    "For analysis at the content item level, data has been loaded from a prepared dataset exported from s3. We will show you here how this prepared dataset should look like. \n",
    "\n",
    "As it is much larger than the issues dataset, here we load data as a **dask dataframe** (and not a pandas dataframe). <br/> See <a href=\"https://dask.org/\">here</a> for full documentation.\n",
    "\n",
    "We also use tools from the **impresso_commons** package. <br/>\n",
    "Full code and documentations can be found <a href=\"https://github.com/impresso/impresso-pycommons\">here</a>."
   ]
  },
  {
   "cell_type": "code",
   "execution_count": 21,
   "metadata": {},
   "outputs": [],
   "source": [
    "import dask.dataframe as ddf"
   ]
  },
  {
   "cell_type": "code",
   "execution_count": 24,
   "metadata": {},
   "outputs": [],
   "source": [
    "# Usefull for reading the dask dataframe in the right format.\n",
    "from impresso_commons.utils.s3 import IMPRESSO_STORAGEOPT"
   ]
  },
  {
   "cell_type": "code",
   "execution_count": 23,
   "metadata": {},
   "outputs": [],
   "source": [
    "# Put the variables corresponding to your own location and file name\n",
    "PATH = '/scratch/students/justine/'\n",
    "FILE = 's3-impresso-stats'\n",
    "\n",
    "ci_df = ddf.read_csv(\n",
    "    PATH+FILE+\"/content-item-stats/*\",\n",
    "    storage_options=IMPRESSO_STORAGEOPT)"
   ]
  },
  {
   "cell_type": "markdown",
   "metadata": {},
   "source": [
    "##### Snapshot"
   ]
  },
  {
   "cell_type": "code",
   "execution_count": 20,
   "metadata": {},
   "outputs": [
    {
     "data": {
      "text/html": [
       "<div>\n",
       "<style scoped>\n",
       "    .dataframe tbody tr th:only-of-type {\n",
       "        vertical-align: middle;\n",
       "    }\n",
       "\n",
       "    .dataframe tbody tr th {\n",
       "        vertical-align: top;\n",
       "    }\n",
       "\n",
       "    .dataframe thead th {\n",
       "        text-align: right;\n",
       "    }\n",
       "</style>\n",
       "<table border=\"1\" class=\"dataframe\">\n",
       "  <thead>\n",
       "    <tr style=\"text-align: right;\">\n",
       "      <th></th>\n",
       "      <th>id</th>\n",
       "      <th>year</th>\n",
       "      <th>newspaper</th>\n",
       "      <th>type</th>\n",
       "      <th>n_tokens</th>\n",
       "      <th>title_length</th>\n",
       "    </tr>\n",
       "  </thead>\n",
       "  <tbody>\n",
       "    <tr>\n",
       "      <td>0</td>\n",
       "      <td>BDC-1839-01-20-a-i0001</td>\n",
       "      <td>1839</td>\n",
       "      <td>BDC</td>\n",
       "      <td>ar</td>\n",
       "      <td>250.0</td>\n",
       "      <td>4.0</td>\n",
       "    </tr>\n",
       "    <tr>\n",
       "      <td>1</td>\n",
       "      <td>BDC-1839-01-20-a-i0002</td>\n",
       "      <td>1839</td>\n",
       "      <td>BDC</td>\n",
       "      <td>ar</td>\n",
       "      <td>758.0</td>\n",
       "      <td>NaN</td>\n",
       "    </tr>\n",
       "    <tr>\n",
       "      <td>2</td>\n",
       "      <td>BDC-1839-01-20-a-i0003</td>\n",
       "      <td>1839</td>\n",
       "      <td>BDC</td>\n",
       "      <td>ar</td>\n",
       "      <td>14.0</td>\n",
       "      <td>31.0</td>\n",
       "    </tr>\n",
       "    <tr>\n",
       "      <td>3</td>\n",
       "      <td>BDC-1839-01-20-a-i0004</td>\n",
       "      <td>1839</td>\n",
       "      <td>BDC</td>\n",
       "      <td>ar</td>\n",
       "      <td>349.0</td>\n",
       "      <td>22.0</td>\n",
       "    </tr>\n",
       "    <tr>\n",
       "      <td>4</td>\n",
       "      <td>BDC-1839-01-20-a-i0005</td>\n",
       "      <td>1839</td>\n",
       "      <td>BDC</td>\n",
       "      <td>ar</td>\n",
       "      <td>193.0</td>\n",
       "      <td>NaN</td>\n",
       "    </tr>\n",
       "  </tbody>\n",
       "</table>\n",
       "</div>"
      ],
      "text/plain": [
       "                       id  year newspaper type  n_tokens  title_length\n",
       "0  BDC-1839-01-20-a-i0001  1839       BDC   ar     250.0           4.0\n",
       "1  BDC-1839-01-20-a-i0002  1839       BDC   ar     758.0           NaN\n",
       "2  BDC-1839-01-20-a-i0003  1839       BDC   ar      14.0          31.0\n",
       "3  BDC-1839-01-20-a-i0004  1839       BDC   ar     349.0          22.0\n",
       "4  BDC-1839-01-20-a-i0005  1839       BDC   ar     193.0           NaN"
      ]
     },
     "execution_count": 20,
     "metadata": {},
     "output_type": "execute_result"
    }
   ],
   "source": [
    "ci_df.head()"
   ]
  },
  {
   "cell_type": "markdown",
   "metadata": {},
   "source": [
    "The content item table we will use must contain at least the 5 following columns :\n",
    "- `id`\n",
    "- `year`\n",
    "- `newspaper`\n",
    "- `type`\n",
    "- `title_length`"
   ]
  },
  {
   "cell_type": "markdown",
   "metadata": {},
   "source": [
    "## 2. Dataset statistics"
   ]
  },
  {
   "cell_type": "markdown",
   "metadata": {},
   "source": [
    "> **This sections aims to show you how to retrieve simple statistics about the datasets, and give you an idea on our dataset scale.**"
   ]
  },
  {
   "cell_type": "markdown",
   "metadata": {},
   "source": [
    "### 2.1 Issues table (SQL > pandas)"
   ]
  },
  {
   "cell_type": "markdown",
   "metadata": {},
   "source": [
    "For the pandas dataframe it is rather simple : the functions `shape` and `nunique` enable to get most simple statistics, very quickly. <br/> Note *(for those who are used to use the pandas functions)*: function `describe` is not so relevant here as most columns are not statistical numbers."
   ]
  },
  {
   "cell_type": "markdown",
   "metadata": {},
   "source": [
    "##### Shape"
   ]
  },
  {
   "cell_type": "code",
   "execution_count": 34,
   "metadata": {},
   "outputs": [
    {
     "data": {
      "text/plain": [
       "(209, 5)"
      ]
     },
     "execution_count": 34,
     "metadata": {},
     "output_type": "execute_result"
    }
   ],
   "source": [
    "newspapers_df.shape"
   ]
  },
  {
   "cell_type": "code",
   "execution_count": 25,
   "metadata": {},
   "outputs": [
    {
     "data": {
      "text/plain": [
       "(441861, 11)"
      ]
     },
     "execution_count": 25,
     "metadata": {},
     "output_type": "execute_result"
    }
   ],
   "source": [
    "issues_df.shape"
   ]
  },
  {
   "cell_type": "markdown",
   "metadata": {},
   "source": [
    "##### Content"
   ]
  },
  {
   "cell_type": "code",
   "execution_count": 36,
   "metadata": {},
   "outputs": [
    {
     "data": {
      "text/plain": [
       "id               441861\n",
       "year                240\n",
       "month                12\n",
       "day                  31\n",
       "edition              18\n",
       "access_rights         3\n",
       "created            8862\n",
       "last_modified        10\n",
       "is_damaged            2\n",
       "s3_version            1\n",
       "newspaper_id         47\n",
       "dtype: int64"
      ]
     },
     "execution_count": 36,
     "metadata": {},
     "output_type": "execute_result"
    }
   ],
   "source": [
    "issues_df.nunique()"
   ]
  },
  {
   "cell_type": "code",
   "execution_count": 39,
   "metadata": {},
   "outputs": [
    {
     "data": {
      "text/plain": [
       "(1740, 2018)"
      ]
     },
     "execution_count": 39,
     "metadata": {},
     "output_type": "execute_result"
    }
   ],
   "source": [
    "issues_df.year.min(), issues_df.year.max()"
   ]
  },
  {
   "cell_type": "code",
   "execution_count": 37,
   "metadata": {},
   "outputs": [
    {
     "data": {
      "text/plain": [
       "array(['Closed', 'OpenPublic', 'OpenPrivate'], dtype=object)"
      ]
     },
     "execution_count": 37,
     "metadata": {},
     "output_type": "execute_result"
    }
   ],
   "source": [
    "issues_df.access_rights.unique()"
   ]
  },
  {
   "cell_type": "markdown",
   "metadata": {},
   "source": [
    "##### Conclusion"
   ]
  },
  {
   "cell_type": "markdown",
   "metadata": {},
   "source": [
    "- The issues dataframe contains 441'861 lines (and 11 columns), each corresponding to one issue. \n",
    "- Issues date from 1740 to 2018.\n",
    "- Issues belong to 47 different newspapers.\n",
    "- There are 3 types of access rights: 'closed', 'openpublic' and 'openprivate'."
   ]
  },
  {
   "cell_type": "markdown",
   "metadata": {},
   "source": [
    "### 2.2 Content item table (S3 > dask)\n",
    "The content item table is much bigger and statistics are therefor much longer to compute (which is why it is stored as a dask dataframe). <br/>\n",
    "The following cells may take quite some time to run."
   ]
  },
  {
   "cell_type": "markdown",
   "metadata": {},
   "source": [
    "##### Shape"
   ]
  },
  {
   "cell_type": "code",
   "execution_count": 40,
   "metadata": {},
   "outputs": [
    {
     "data": {
      "text/plain": [
       "47876994"
      ]
     },
     "execution_count": 40,
     "metadata": {},
     "output_type": "execute_result"
    }
   ],
   "source": [
    "ci_df.shape[0].compute()"
   ]
  },
  {
   "cell_type": "markdown",
   "metadata": {},
   "source": [
    "##### Content"
   ]
  },
  {
   "cell_type": "code",
   "execution_count": 42,
   "metadata": {},
   "outputs": [
    {
     "data": {
      "text/plain": [
       "0         ar\n",
       "1        img\n",
       "2         ad\n",
       "3    section\n",
       "4    picture\n",
       "5       page\n",
       "6         tb\n",
       "7         ob\n",
       "8          w\n",
       "Name: type, dtype: object"
      ]
     },
     "execution_count": 42,
     "metadata": {},
     "output_type": "execute_result"
    }
   ],
   "source": [
    "ci_df.type.unique().compute()"
   ]
  },
  {
   "cell_type": "markdown",
   "metadata": {},
   "source": [
    "##### Conclusion"
   ]
  },
  {
   "cell_type": "markdown",
   "metadata": {},
   "source": [
    "- The content item table contains 47'876'994 lines (10 times more that the issues one)\n",
    "- Their type can be one of : ar, img, ad, section, picture, page, tb, ob, w"
   ]
  },
  {
   "cell_type": "markdown",
   "metadata": {},
   "source": [
    "## 3. Tool functions"
   ]
  },
  {
   "cell_type": "markdown",
   "metadata": {},
   "source": [
    "> **This section aims to present you useful functions to apply on the tables.**"
   ]
  },
  {
   "cell_type": "markdown",
   "metadata": {},
   "source": [
    "### 3.1 Expanding"
   ]
  },
  {
   "cell_type": "markdown",
   "metadata": {},
   "source": [
    "The following functions expand the tables by adding a new column."
   ]
  },
  {
   "cell_type": "markdown",
   "metadata": {},
   "source": [
    "#### 3.1.1 Decades\n",
    "Adding a decade column is useful to get global statistics per decade, and also for plotting. <br/>\n",
    "Function `decade_from_year_df` does that, and returns a new dataset similar to the one passed as parameter, with a decade column. It can take as parameter both a pandas or a dask dataframe, with a small specification (see below).\n",
    "\n",
    "**Notes:** \n",
    "- The table passed as parameter must have a column `year` to be able to apply the function.\n",
    "- If the table passed as parameter has already a column named `decade`, the function returns the tables passed as paramater directly."
   ]
  },
  {
   "cell_type": "code",
   "execution_count": 45,
   "metadata": {},
   "outputs": [],
   "source": [
    "from impresso_stats.helpers import decade_from_year_df"
   ]
  },
  {
   "cell_type": "code",
   "execution_count": 59,
   "metadata": {},
   "outputs": [],
   "source": [
    "decade_issues_df = decade_from_year_df(issues_df)"
   ]
  },
  {
   "cell_type": "markdown",
   "metadata": {},
   "source": [
    "You can see below that the table now has a column `decade`."
   ]
  },
  {
   "cell_type": "code",
   "execution_count": 61,
   "metadata": {},
   "outputs": [
    {
     "data": {
      "text/html": [
       "<div>\n",
       "<style scoped>\n",
       "    .dataframe tbody tr th:only-of-type {\n",
       "        vertical-align: middle;\n",
       "    }\n",
       "\n",
       "    .dataframe tbody tr th {\n",
       "        vertical-align: top;\n",
       "    }\n",
       "\n",
       "    .dataframe thead th {\n",
       "        text-align: right;\n",
       "    }\n",
       "</style>\n",
       "<table border=\"1\" class=\"dataframe\">\n",
       "  <thead>\n",
       "    <tr style=\"text-align: right;\">\n",
       "      <th></th>\n",
       "      <th>id</th>\n",
       "      <th>year</th>\n",
       "      <th>month</th>\n",
       "      <th>day</th>\n",
       "      <th>edition</th>\n",
       "      <th>access_rights</th>\n",
       "      <th>created</th>\n",
       "      <th>last_modified</th>\n",
       "      <th>is_damaged</th>\n",
       "      <th>s3_version</th>\n",
       "      <th>newspaper_id</th>\n",
       "      <th>decade</th>\n",
       "    </tr>\n",
       "  </thead>\n",
       "  <tbody>\n",
       "    <tr>\n",
       "      <td>0</td>\n",
       "      <td>actionfem-1927-10-15-a</td>\n",
       "      <td>1927</td>\n",
       "      <td>10</td>\n",
       "      <td>15</td>\n",
       "      <td>a</td>\n",
       "      <td>Closed</td>\n",
       "      <td>2019-06-15 12:22:38</td>\n",
       "      <td>NaT</td>\n",
       "      <td>0</td>\n",
       "      <td></td>\n",
       "      <td>actionfem</td>\n",
       "      <td>1920</td>\n",
       "    </tr>\n",
       "    <tr>\n",
       "      <td>1</td>\n",
       "      <td>actionfem-1927-11-15-a</td>\n",
       "      <td>1927</td>\n",
       "      <td>11</td>\n",
       "      <td>15</td>\n",
       "      <td>a</td>\n",
       "      <td>Closed</td>\n",
       "      <td>2019-06-15 12:22:38</td>\n",
       "      <td>NaT</td>\n",
       "      <td>0</td>\n",
       "      <td></td>\n",
       "      <td>actionfem</td>\n",
       "      <td>1920</td>\n",
       "    </tr>\n",
       "    <tr>\n",
       "      <td>2</td>\n",
       "      <td>actionfem-1927-12-15-a</td>\n",
       "      <td>1927</td>\n",
       "      <td>12</td>\n",
       "      <td>15</td>\n",
       "      <td>a</td>\n",
       "      <td>Closed</td>\n",
       "      <td>2019-06-15 12:22:38</td>\n",
       "      <td>NaT</td>\n",
       "      <td>0</td>\n",
       "      <td></td>\n",
       "      <td>actionfem</td>\n",
       "      <td>1920</td>\n",
       "    </tr>\n",
       "    <tr>\n",
       "      <td>3</td>\n",
       "      <td>actionfem-1928-01-15-a</td>\n",
       "      <td>1928</td>\n",
       "      <td>1</td>\n",
       "      <td>15</td>\n",
       "      <td>a</td>\n",
       "      <td>Closed</td>\n",
       "      <td>2019-06-15 12:22:41</td>\n",
       "      <td>NaT</td>\n",
       "      <td>0</td>\n",
       "      <td></td>\n",
       "      <td>actionfem</td>\n",
       "      <td>1920</td>\n",
       "    </tr>\n",
       "    <tr>\n",
       "      <td>4</td>\n",
       "      <td>actionfem-1928-02-15-a</td>\n",
       "      <td>1928</td>\n",
       "      <td>2</td>\n",
       "      <td>15</td>\n",
       "      <td>a</td>\n",
       "      <td>Closed</td>\n",
       "      <td>2019-06-15 12:22:41</td>\n",
       "      <td>NaT</td>\n",
       "      <td>0</td>\n",
       "      <td></td>\n",
       "      <td>actionfem</td>\n",
       "      <td>1920</td>\n",
       "    </tr>\n",
       "  </tbody>\n",
       "</table>\n",
       "</div>"
      ],
      "text/plain": [
       "                       id  year  month  day edition access_rights  \\\n",
       "0  actionfem-1927-10-15-a  1927     10   15       a        Closed   \n",
       "1  actionfem-1927-11-15-a  1927     11   15       a        Closed   \n",
       "2  actionfem-1927-12-15-a  1927     12   15       a        Closed   \n",
       "3  actionfem-1928-01-15-a  1928      1   15       a        Closed   \n",
       "4  actionfem-1928-02-15-a  1928      2   15       a        Closed   \n",
       "\n",
       "              created last_modified  is_damaged s3_version newspaper_id  \\\n",
       "0 2019-06-15 12:22:38           NaT           0               actionfem   \n",
       "1 2019-06-15 12:22:38           NaT           0               actionfem   \n",
       "2 2019-06-15 12:22:38           NaT           0               actionfem   \n",
       "3 2019-06-15 12:22:41           NaT           0               actionfem   \n",
       "4 2019-06-15 12:22:41           NaT           0               actionfem   \n",
       "\n",
       "   decade  \n",
       "0    1920  \n",
       "1    1920  \n",
       "2    1920  \n",
       "3    1920  \n",
       "4    1920  "
      ]
     },
     "execution_count": 61,
     "metadata": {},
     "output_type": "execute_result"
    }
   ],
   "source": [
    "decade_issues_df.head()"
   ]
  },
  {
   "cell_type": "markdown",
   "metadata": {},
   "source": [
    "**With dask dataframe:** When the parameter passed is a dask dataframe, it needs to be specified through the parameter `dask_df`, by setting it to true."
   ]
  },
  {
   "cell_type": "code",
   "execution_count": 74,
   "metadata": {},
   "outputs": [],
   "source": [
    "decade_ci_df = decade_from_year_df(ci_df, dask_df=True)"
   ]
  },
  {
   "cell_type": "markdown",
   "metadata": {},
   "source": [
    "#### 3.1.2 Access rights at content item level\n",
    "The content item table doesn't contain information about access rights, as the access right type is defined at the issues level. In order to get the access right for each content item, you need to join the two tables. The function `licenses_ci_df` does it directly for you. \n",
    "\n",
    "It loads the issues table from SQL, extracts the issues ID in the table passed as parameter, and merges the two.\n",
    "\n",
    "**Notes:**\n",
    "- This function is **very sensitive to any change in the table's shape or in the column names** and needs specific entries : \n",
    "    - the table passed as parameter must have the following columns (named exactly that way): `'id'`, `'newspaper'`,`'decade'`, `'year'`, `'month'`, `'day'`,  `'type'`, `'n_tokens'`, `'title_length'`, `'access_rights'`. Else you will need to modify the function directly. (In particular, the `decade` column is needed here)\n",
    "    - its columns `id` must have a specific format (same as the one on the snapshot presented above), from which we can extract the ID of the issue.\n",
    "    \n",
    "    - the `issues` table (which is loaded directly in the function) must have the same columns as the one presented earlier in the notebook.\n",
    "    \n",
    "- The **number of entries in the merged table is lower that the number of entries in the original content item dataframe**. In fact some newspaper ID are not represented in the issues dataframe (which contains the access rights) and those will therefore be dropped in the merged dataframe as we don't have information on the access right for those (the function does an inner join for this reason). <br/> >> Therefore we recommend using the table output by the function, only when you are doing an analysis related to access rights. For any other analysis we recommend using the original `ci_df` in order to keep as much information as possible."
   ]
  },
  {
   "cell_type": "code",
   "execution_count": 62,
   "metadata": {},
   "outputs": [],
   "source": [
    "from impresso_stats.helpers import licenses_ci_df"
   ]
  },
  {
   "cell_type": "code",
   "execution_count": 71,
   "metadata": {},
   "outputs": [],
   "source": [
    "ci_licences_df = licenses_ci_df(decade_ci_df)"
   ]
  },
  {
   "cell_type": "code",
   "execution_count": 72,
   "metadata": {},
   "outputs": [
    {
     "data": {
      "text/plain": [
       "33707113"
      ]
     },
     "execution_count": 72,
     "metadata": {},
     "output_type": "execute_result"
    }
   ],
   "source": [
    "ci_licences_df.shape[0].compute()"
   ]
  },
  {
   "cell_type": "markdown",
   "metadata": {},
   "source": [
    "The resulting dataframe has 33'707'113 entries : around 14mio less than the original."
   ]
  },
  {
   "cell_type": "markdown",
   "metadata": {},
   "source": [
    "You can see below that the table now has a column `access_rights`."
   ]
  },
  {
   "cell_type": "code",
   "execution_count": 73,
   "metadata": {},
   "outputs": [
    {
     "data": {
      "text/html": [
       "<div>\n",
       "<style scoped>\n",
       "    .dataframe tbody tr th:only-of-type {\n",
       "        vertical-align: middle;\n",
       "    }\n",
       "\n",
       "    .dataframe tbody tr th {\n",
       "        vertical-align: top;\n",
       "    }\n",
       "\n",
       "    .dataframe thead th {\n",
       "        text-align: right;\n",
       "    }\n",
       "</style>\n",
       "<table border=\"1\" class=\"dataframe\">\n",
       "  <thead>\n",
       "    <tr style=\"text-align: right;\">\n",
       "      <th></th>\n",
       "      <th>id</th>\n",
       "      <th>newspaper</th>\n",
       "      <th>decade</th>\n",
       "      <th>year</th>\n",
       "      <th>month</th>\n",
       "      <th>day</th>\n",
       "      <th>type</th>\n",
       "      <th>n_tokens</th>\n",
       "      <th>title_length</th>\n",
       "      <th>access_rights</th>\n",
       "    </tr>\n",
       "  </thead>\n",
       "  <tbody>\n",
       "    <tr>\n",
       "      <td>0</td>\n",
       "      <td>BDC-1839-01-20-a-i0001</td>\n",
       "      <td>BDC</td>\n",
       "      <td>1830</td>\n",
       "      <td>1839</td>\n",
       "      <td>1</td>\n",
       "      <td>20</td>\n",
       "      <td>ar</td>\n",
       "      <td>250.0</td>\n",
       "      <td>4.0</td>\n",
       "      <td>OpenPublic</td>\n",
       "    </tr>\n",
       "    <tr>\n",
       "      <td>1</td>\n",
       "      <td>BDC-1839-01-20-a-i0002</td>\n",
       "      <td>BDC</td>\n",
       "      <td>1830</td>\n",
       "      <td>1839</td>\n",
       "      <td>1</td>\n",
       "      <td>20</td>\n",
       "      <td>ar</td>\n",
       "      <td>758.0</td>\n",
       "      <td>NaN</td>\n",
       "      <td>OpenPublic</td>\n",
       "    </tr>\n",
       "    <tr>\n",
       "      <td>2</td>\n",
       "      <td>BDC-1839-01-20-a-i0003</td>\n",
       "      <td>BDC</td>\n",
       "      <td>1830</td>\n",
       "      <td>1839</td>\n",
       "      <td>1</td>\n",
       "      <td>20</td>\n",
       "      <td>ar</td>\n",
       "      <td>14.0</td>\n",
       "      <td>31.0</td>\n",
       "      <td>OpenPublic</td>\n",
       "    </tr>\n",
       "    <tr>\n",
       "      <td>3</td>\n",
       "      <td>BDC-1839-01-20-a-i0004</td>\n",
       "      <td>BDC</td>\n",
       "      <td>1830</td>\n",
       "      <td>1839</td>\n",
       "      <td>1</td>\n",
       "      <td>20</td>\n",
       "      <td>ar</td>\n",
       "      <td>349.0</td>\n",
       "      <td>22.0</td>\n",
       "      <td>OpenPublic</td>\n",
       "    </tr>\n",
       "    <tr>\n",
       "      <td>4</td>\n",
       "      <td>BDC-1839-01-20-a-i0005</td>\n",
       "      <td>BDC</td>\n",
       "      <td>1830</td>\n",
       "      <td>1839</td>\n",
       "      <td>1</td>\n",
       "      <td>20</td>\n",
       "      <td>ar</td>\n",
       "      <td>193.0</td>\n",
       "      <td>NaN</td>\n",
       "      <td>OpenPublic</td>\n",
       "    </tr>\n",
       "  </tbody>\n",
       "</table>\n",
       "</div>"
      ],
      "text/plain": [
       "                       id newspaper  decade  year  month  day type  n_tokens  \\\n",
       "0  BDC-1839-01-20-a-i0001       BDC    1830  1839      1   20   ar     250.0   \n",
       "1  BDC-1839-01-20-a-i0002       BDC    1830  1839      1   20   ar     758.0   \n",
       "2  BDC-1839-01-20-a-i0003       BDC    1830  1839      1   20   ar      14.0   \n",
       "3  BDC-1839-01-20-a-i0004       BDC    1830  1839      1   20   ar     349.0   \n",
       "4  BDC-1839-01-20-a-i0005       BDC    1830  1839      1   20   ar     193.0   \n",
       "\n",
       "   title_length access_rights  \n",
       "0           4.0    OpenPublic  \n",
       "1           NaN    OpenPublic  \n",
       "2          31.0    OpenPublic  \n",
       "3          22.0    OpenPublic  \n",
       "4           NaN    OpenPublic  "
      ]
     },
     "execution_count": 73,
     "metadata": {},
     "output_type": "execute_result"
    }
   ],
   "source": [
    "ci_licences_df.head()"
   ]
  },
  {
   "cell_type": "markdown",
   "metadata": {},
   "source": [
    "### 3.2 Filtering"
   ]
  },
  {
   "cell_type": "markdown",
   "metadata": {},
   "source": [
    "Function `filter_df` takes as parameter a table (dask or pandas) and filtering parameters, and returns a tuple : the filtered table and the IDs of the newspapers which have been kept. It can take the following filters :\n",
    "- `start_date` and `end_date` : indicate the **years** between which you can to keep the entries.\n",
    "    - you need to specify **either both either none**: if you specify only one the filter won't be applied.\n",
    "    - you must have `start_date` <= `end_date` (of course).\n",
    "\n",
    "\n",
    "- `np_ids` : indicate the specific list of newspapers you want to keep.\n",
    "    - the list can either be specified by a python list, or by a pandas series.\n",
    "    \n",
    "    \n",
    "- `country` : indicate the country indicator of the newspapers you want to keep (typically 'CH' or 'LU').\n",
    "\n",
    "\n",
    "- `ppty` and `ppty_value` : indicate the property of the newspapers you want to keep.\n",
    "\n",
    "\n",
    "**Note:** attributes `country` and `ppty` are defined at the newspaper level (higher level than issues or content items). When specified, the function will load data from the SQL tables `newspapers_metadata` and `meta_properties`. Filtering with these characteristics is done based on the information in those tables. If they are not up-to-date, the output may not be correct.\n",
    "\n",
    "**For later:** this function is used as a helper function to most visualization functions (those which enable filtering) you will see in tutorials 2 and 3."
   ]
  },
  {
   "cell_type": "code",
   "execution_count": 75,
   "metadata": {},
   "outputs": [],
   "source": [
    "from impresso_stats.helpers import filter_df"
   ]
  },
  {
   "cell_type": "markdown",
   "metadata": {},
   "source": [
    "##### Examples\n",
    "Examples are shown with `issues_df` for a matter of computation time, but work exactly the same way with a dask dataframe (`ci_df` - in which case a dask dataframe is returned as 1st value of the return tuple).\n",
    "\n",
    "We provide examples with one specific filter, so that you see how to use each of them. Of course you can **combine** them and specify several filters at the same time."
   ]
  },
  {
   "cell_type": "markdown",
   "metadata": {},
   "source": [
    "##### 3.2.1. Filtering by date\n",
    "Here we keep the issues between 1932 and 1956 (**comprised**)."
   ]
  },
  {
   "cell_type": "code",
   "execution_count": 107,
   "metadata": {},
   "outputs": [],
   "source": [
    "output_table, np_ids = filter_df(issues_df, start_date=1932, end_date=1956)"
   ]
  },
  {
   "cell_type": "code",
   "execution_count": 108,
   "metadata": {},
   "outputs": [
    {
     "data": {
      "text/plain": [
       "(83930, 11)"
      ]
     },
     "execution_count": 108,
     "metadata": {},
     "output_type": "execute_result"
    }
   ],
   "source": [
    "output_table.shape"
   ]
  },
  {
   "cell_type": "code",
   "execution_count": 109,
   "metadata": {},
   "outputs": [
    {
     "data": {
      "text/html": [
       "<div>\n",
       "<style scoped>\n",
       "    .dataframe tbody tr th:only-of-type {\n",
       "        vertical-align: middle;\n",
       "    }\n",
       "\n",
       "    .dataframe tbody tr th {\n",
       "        vertical-align: top;\n",
       "    }\n",
       "\n",
       "    .dataframe thead th {\n",
       "        text-align: right;\n",
       "    }\n",
       "</style>\n",
       "<table border=\"1\" class=\"dataframe\">\n",
       "  <thead>\n",
       "    <tr style=\"text-align: right;\">\n",
       "      <th></th>\n",
       "      <th>id</th>\n",
       "      <th>year</th>\n",
       "      <th>month</th>\n",
       "      <th>day</th>\n",
       "      <th>edition</th>\n",
       "      <th>access_rights</th>\n",
       "      <th>created</th>\n",
       "      <th>last_modified</th>\n",
       "      <th>is_damaged</th>\n",
       "      <th>s3_version</th>\n",
       "      <th>newspaper_id</th>\n",
       "    </tr>\n",
       "  </thead>\n",
       "  <tbody>\n",
       "    <tr>\n",
       "      <td>40</td>\n",
       "      <td>actionfem-1932-01-15-a</td>\n",
       "      <td>1932</td>\n",
       "      <td>1</td>\n",
       "      <td>15</td>\n",
       "      <td>a</td>\n",
       "      <td>Closed</td>\n",
       "      <td>2019-06-15 12:22:53</td>\n",
       "      <td>NaT</td>\n",
       "      <td>0</td>\n",
       "      <td></td>\n",
       "      <td>actionfem</td>\n",
       "    </tr>\n",
       "    <tr>\n",
       "      <td>41</td>\n",
       "      <td>actionfem-1932-02-15-a</td>\n",
       "      <td>1932</td>\n",
       "      <td>2</td>\n",
       "      <td>15</td>\n",
       "      <td>a</td>\n",
       "      <td>Closed</td>\n",
       "      <td>2019-06-15 12:22:53</td>\n",
       "      <td>NaT</td>\n",
       "      <td>0</td>\n",
       "      <td></td>\n",
       "      <td>actionfem</td>\n",
       "    </tr>\n",
       "    <tr>\n",
       "      <td>42</td>\n",
       "      <td>actionfem-1932-03-15-a</td>\n",
       "      <td>1932</td>\n",
       "      <td>3</td>\n",
       "      <td>15</td>\n",
       "      <td>a</td>\n",
       "      <td>Closed</td>\n",
       "      <td>2019-06-15 12:22:53</td>\n",
       "      <td>NaT</td>\n",
       "      <td>0</td>\n",
       "      <td></td>\n",
       "      <td>actionfem</td>\n",
       "    </tr>\n",
       "    <tr>\n",
       "      <td>43</td>\n",
       "      <td>actionfem-1932-04-15-a</td>\n",
       "      <td>1932</td>\n",
       "      <td>4</td>\n",
       "      <td>15</td>\n",
       "      <td>a</td>\n",
       "      <td>Closed</td>\n",
       "      <td>2019-06-15 12:22:53</td>\n",
       "      <td>NaT</td>\n",
       "      <td>0</td>\n",
       "      <td></td>\n",
       "      <td>actionfem</td>\n",
       "    </tr>\n",
       "    <tr>\n",
       "      <td>44</td>\n",
       "      <td>actionfem-1932-05-15-a</td>\n",
       "      <td>1932</td>\n",
       "      <td>5</td>\n",
       "      <td>15</td>\n",
       "      <td>a</td>\n",
       "      <td>Closed</td>\n",
       "      <td>2019-06-15 12:22:53</td>\n",
       "      <td>NaT</td>\n",
       "      <td>0</td>\n",
       "      <td></td>\n",
       "      <td>actionfem</td>\n",
       "    </tr>\n",
       "  </tbody>\n",
       "</table>\n",
       "</div>"
      ],
      "text/plain": [
       "                        id  year  month  day edition access_rights  \\\n",
       "40  actionfem-1932-01-15-a  1932      1   15       a        Closed   \n",
       "41  actionfem-1932-02-15-a  1932      2   15       a        Closed   \n",
       "42  actionfem-1932-03-15-a  1932      3   15       a        Closed   \n",
       "43  actionfem-1932-04-15-a  1932      4   15       a        Closed   \n",
       "44  actionfem-1932-05-15-a  1932      5   15       a        Closed   \n",
       "\n",
       "               created last_modified  is_damaged s3_version newspaper_id  \n",
       "40 2019-06-15 12:22:53           NaT           0               actionfem  \n",
       "41 2019-06-15 12:22:53           NaT           0               actionfem  \n",
       "42 2019-06-15 12:22:53           NaT           0               actionfem  \n",
       "43 2019-06-15 12:22:53           NaT           0               actionfem  \n",
       "44 2019-06-15 12:22:53           NaT           0               actionfem  "
      ]
     },
     "execution_count": 109,
     "metadata": {},
     "output_type": "execute_result"
    }
   ],
   "source": [
    "output_table.head()"
   ]
  },
  {
   "cell_type": "markdown",
   "metadata": {},
   "source": [
    "Here are the newspaper IDs which have been kept, i.e. the newspapers which have issues published between 1932 and 1956."
   ]
  },
  {
   "cell_type": "code",
   "execution_count": 110,
   "metadata": {},
   "outputs": [
    {
     "data": {
      "text/plain": [
       "array(['actionfem', 'demitock', 'dunioun', 'EXP', 'GDL', 'IMP',\n",
       "       'indeplux', 'JDG', 'LCE', 'LES', 'LSE', 'luxembourg1935',\n",
       "       'luxland', 'luxwort', 'NZZ', 'obermosel', 'onsjongen'],\n",
       "      dtype=object)"
      ]
     },
     "execution_count": 110,
     "metadata": {},
     "output_type": "execute_result"
    }
   ],
   "source": [
    "np_ids"
   ]
  },
  {
   "cell_type": "markdown",
   "metadata": {},
   "source": [
    "##### 3.2.2. Filtering by newspaper IDs\n",
    "Here we keep only two newspapers : *Gazette de Lausanne* (*GDL*) and *Journal de Genève* (*JDG*).<br/>\n",
    "(In that case the second return value `np_ids` is not very useful)."
   ]
  },
  {
   "cell_type": "code",
   "execution_count": 111,
   "metadata": {},
   "outputs": [],
   "source": [
    "output_table, np_ids = filter_df(issues_df, np_ids=['GDL', 'JDG'])"
   ]
  },
  {
   "cell_type": "code",
   "execution_count": 112,
   "metadata": {},
   "outputs": [
    {
     "data": {
      "text/plain": [
       "(100201, 11)"
      ]
     },
     "execution_count": 112,
     "metadata": {},
     "output_type": "execute_result"
    }
   ],
   "source": [
    "output_table.shape"
   ]
  },
  {
   "cell_type": "code",
   "execution_count": 113,
   "metadata": {},
   "outputs": [
    {
     "data": {
      "text/html": [
       "<div>\n",
       "<style scoped>\n",
       "    .dataframe tbody tr th:only-of-type {\n",
       "        vertical-align: middle;\n",
       "    }\n",
       "\n",
       "    .dataframe tbody tr th {\n",
       "        vertical-align: top;\n",
       "    }\n",
       "\n",
       "    .dataframe thead th {\n",
       "        text-align: right;\n",
       "    }\n",
       "</style>\n",
       "<table border=\"1\" class=\"dataframe\">\n",
       "  <thead>\n",
       "    <tr style=\"text-align: right;\">\n",
       "      <th></th>\n",
       "      <th>id</th>\n",
       "      <th>year</th>\n",
       "      <th>month</th>\n",
       "      <th>day</th>\n",
       "      <th>edition</th>\n",
       "      <th>access_rights</th>\n",
       "      <th>created</th>\n",
       "      <th>last_modified</th>\n",
       "      <th>is_damaged</th>\n",
       "      <th>s3_version</th>\n",
       "      <th>newspaper_id</th>\n",
       "    </tr>\n",
       "  </thead>\n",
       "  <tbody>\n",
       "    <tr>\n",
       "      <td>60257</td>\n",
       "      <td>GDL-1798-02-01-a</td>\n",
       "      <td>1798</td>\n",
       "      <td>2</td>\n",
       "      <td>1</td>\n",
       "      <td>a</td>\n",
       "      <td>OpenPrivate</td>\n",
       "      <td>2019-06-18 07:08:55</td>\n",
       "      <td>2019-06-25 12:48:23</td>\n",
       "      <td>0</td>\n",
       "      <td></td>\n",
       "      <td>GDL</td>\n",
       "    </tr>\n",
       "    <tr>\n",
       "      <td>60258</td>\n",
       "      <td>GDL-1798-02-02-a</td>\n",
       "      <td>1798</td>\n",
       "      <td>2</td>\n",
       "      <td>2</td>\n",
       "      <td>a</td>\n",
       "      <td>OpenPrivate</td>\n",
       "      <td>2019-06-18 07:08:55</td>\n",
       "      <td>2019-06-25 12:48:23</td>\n",
       "      <td>0</td>\n",
       "      <td></td>\n",
       "      <td>GDL</td>\n",
       "    </tr>\n",
       "    <tr>\n",
       "      <td>60259</td>\n",
       "      <td>GDL-1798-02-03-a</td>\n",
       "      <td>1798</td>\n",
       "      <td>2</td>\n",
       "      <td>3</td>\n",
       "      <td>a</td>\n",
       "      <td>OpenPrivate</td>\n",
       "      <td>2019-06-18 07:08:55</td>\n",
       "      <td>2019-06-25 12:48:23</td>\n",
       "      <td>0</td>\n",
       "      <td></td>\n",
       "      <td>GDL</td>\n",
       "    </tr>\n",
       "    <tr>\n",
       "      <td>60260</td>\n",
       "      <td>GDL-1798-02-04-a</td>\n",
       "      <td>1798</td>\n",
       "      <td>2</td>\n",
       "      <td>4</td>\n",
       "      <td>a</td>\n",
       "      <td>OpenPrivate</td>\n",
       "      <td>2019-06-18 07:08:55</td>\n",
       "      <td>2019-06-25 12:48:23</td>\n",
       "      <td>0</td>\n",
       "      <td></td>\n",
       "      <td>GDL</td>\n",
       "    </tr>\n",
       "    <tr>\n",
       "      <td>60261</td>\n",
       "      <td>GDL-1798-02-05-a</td>\n",
       "      <td>1798</td>\n",
       "      <td>2</td>\n",
       "      <td>5</td>\n",
       "      <td>a</td>\n",
       "      <td>OpenPrivate</td>\n",
       "      <td>2019-06-18 07:08:55</td>\n",
       "      <td>2019-06-25 12:48:23</td>\n",
       "      <td>0</td>\n",
       "      <td></td>\n",
       "      <td>GDL</td>\n",
       "    </tr>\n",
       "  </tbody>\n",
       "</table>\n",
       "</div>"
      ],
      "text/plain": [
       "                     id  year  month  day edition access_rights  \\\n",
       "60257  GDL-1798-02-01-a  1798      2    1       a   OpenPrivate   \n",
       "60258  GDL-1798-02-02-a  1798      2    2       a   OpenPrivate   \n",
       "60259  GDL-1798-02-03-a  1798      2    3       a   OpenPrivate   \n",
       "60260  GDL-1798-02-04-a  1798      2    4       a   OpenPrivate   \n",
       "60261  GDL-1798-02-05-a  1798      2    5       a   OpenPrivate   \n",
       "\n",
       "                  created       last_modified  is_damaged s3_version  \\\n",
       "60257 2019-06-18 07:08:55 2019-06-25 12:48:23           0              \n",
       "60258 2019-06-18 07:08:55 2019-06-25 12:48:23           0              \n",
       "60259 2019-06-18 07:08:55 2019-06-25 12:48:23           0              \n",
       "60260 2019-06-18 07:08:55 2019-06-25 12:48:23           0              \n",
       "60261 2019-06-18 07:08:55 2019-06-25 12:48:23           0              \n",
       "\n",
       "      newspaper_id  \n",
       "60257          GDL  \n",
       "60258          GDL  \n",
       "60259          GDL  \n",
       "60260          GDL  \n",
       "60261          GDL  "
      ]
     },
     "execution_count": 113,
     "metadata": {},
     "output_type": "execute_result"
    }
   ],
   "source": [
    "output_table.head()"
   ]
  },
  {
   "cell_type": "markdown",
   "metadata": {},
   "source": [
    "##### 3.2.2. Filtering by country\n",
    "Here we keep only the Swiss newspapers - with country value 'CH'. If you want to get the Luxembourgian newspapers, use value 'LU'. "
   ]
  },
  {
   "cell_type": "code",
   "execution_count": 123,
   "metadata": {},
   "outputs": [],
   "source": [
    "output_table, np_ids = filter_df(issues_df, country='CH')"
   ]
  },
  {
   "cell_type": "code",
   "execution_count": 124,
   "metadata": {},
   "outputs": [
    {
     "data": {
      "text/plain": [
       "(355466, 11)"
      ]
     },
     "execution_count": 124,
     "metadata": {},
     "output_type": "execute_result"
    }
   ],
   "source": [
    "output_table.shape"
   ]
  },
  {
   "cell_type": "code",
   "execution_count": 125,
   "metadata": {},
   "outputs": [
    {
     "data": {
      "text/html": [
       "<div>\n",
       "<style scoped>\n",
       "    .dataframe tbody tr th:only-of-type {\n",
       "        vertical-align: middle;\n",
       "    }\n",
       "\n",
       "    .dataframe tbody tr th {\n",
       "        vertical-align: top;\n",
       "    }\n",
       "\n",
       "    .dataframe thead th {\n",
       "        text-align: right;\n",
       "    }\n",
       "</style>\n",
       "<table border=\"1\" class=\"dataframe\">\n",
       "  <thead>\n",
       "    <tr style=\"text-align: right;\">\n",
       "      <th></th>\n",
       "      <th>id</th>\n",
       "      <th>year</th>\n",
       "      <th>month</th>\n",
       "      <th>day</th>\n",
       "      <th>edition</th>\n",
       "      <th>access_rights</th>\n",
       "      <th>created</th>\n",
       "      <th>last_modified</th>\n",
       "      <th>is_damaged</th>\n",
       "      <th>s3_version</th>\n",
       "      <th>newspaper_id</th>\n",
       "    </tr>\n",
       "  </thead>\n",
       "  <tbody>\n",
       "    <tr>\n",
       "      <td>5043</td>\n",
       "      <td>CDV-1843-01-01-a</td>\n",
       "      <td>1843</td>\n",
       "      <td>1</td>\n",
       "      <td>1</td>\n",
       "      <td>a</td>\n",
       "      <td>OpenPublic</td>\n",
       "      <td>2019-06-17 11:53:31</td>\n",
       "      <td>NaT</td>\n",
       "      <td>0</td>\n",
       "      <td></td>\n",
       "      <td>CDV</td>\n",
       "    </tr>\n",
       "    <tr>\n",
       "      <td>5044</td>\n",
       "      <td>CDV-1843-01-04-a</td>\n",
       "      <td>1843</td>\n",
       "      <td>1</td>\n",
       "      <td>4</td>\n",
       "      <td>a</td>\n",
       "      <td>OpenPublic</td>\n",
       "      <td>2019-06-17 11:53:31</td>\n",
       "      <td>NaT</td>\n",
       "      <td>0</td>\n",
       "      <td></td>\n",
       "      <td>CDV</td>\n",
       "    </tr>\n",
       "    <tr>\n",
       "      <td>5045</td>\n",
       "      <td>CDV-1843-01-07-a</td>\n",
       "      <td>1843</td>\n",
       "      <td>1</td>\n",
       "      <td>7</td>\n",
       "      <td>a</td>\n",
       "      <td>OpenPublic</td>\n",
       "      <td>2019-06-17 11:53:31</td>\n",
       "      <td>NaT</td>\n",
       "      <td>0</td>\n",
       "      <td></td>\n",
       "      <td>CDV</td>\n",
       "    </tr>\n",
       "    <tr>\n",
       "      <td>5046</td>\n",
       "      <td>CDV-1843-01-11-a</td>\n",
       "      <td>1843</td>\n",
       "      <td>1</td>\n",
       "      <td>11</td>\n",
       "      <td>a</td>\n",
       "      <td>OpenPublic</td>\n",
       "      <td>2019-06-17 11:53:31</td>\n",
       "      <td>NaT</td>\n",
       "      <td>0</td>\n",
       "      <td></td>\n",
       "      <td>CDV</td>\n",
       "    </tr>\n",
       "    <tr>\n",
       "      <td>5047</td>\n",
       "      <td>CDV-1843-01-14-a</td>\n",
       "      <td>1843</td>\n",
       "      <td>1</td>\n",
       "      <td>14</td>\n",
       "      <td>a</td>\n",
       "      <td>OpenPublic</td>\n",
       "      <td>2019-06-17 11:53:31</td>\n",
       "      <td>NaT</td>\n",
       "      <td>0</td>\n",
       "      <td></td>\n",
       "      <td>CDV</td>\n",
       "    </tr>\n",
       "  </tbody>\n",
       "</table>\n",
       "</div>"
      ],
      "text/plain": [
       "                    id  year  month  day edition access_rights  \\\n",
       "5043  CDV-1843-01-01-a  1843      1    1       a    OpenPublic   \n",
       "5044  CDV-1843-01-04-a  1843      1    4       a    OpenPublic   \n",
       "5045  CDV-1843-01-07-a  1843      1    7       a    OpenPublic   \n",
       "5046  CDV-1843-01-11-a  1843      1   11       a    OpenPublic   \n",
       "5047  CDV-1843-01-14-a  1843      1   14       a    OpenPublic   \n",
       "\n",
       "                 created last_modified  is_damaged s3_version newspaper_id  \n",
       "5043 2019-06-17 11:53:31           NaT           0                     CDV  \n",
       "5044 2019-06-17 11:53:31           NaT           0                     CDV  \n",
       "5045 2019-06-17 11:53:31           NaT           0                     CDV  \n",
       "5046 2019-06-17 11:53:31           NaT           0                     CDV  \n",
       "5047 2019-06-17 11:53:31           NaT           0                     CDV  "
      ]
     },
     "execution_count": 125,
     "metadata": {},
     "output_type": "execute_result"
    }
   ],
   "source": [
    "output_table.head()"
   ]
  },
  {
   "cell_type": "markdown",
   "metadata": {},
   "source": [
    "##### 3.2.2. Filtering by property\n",
    "TODO"
   ]
  },
  {
   "cell_type": "code",
   "execution_count": null,
   "metadata": {},
   "outputs": [],
   "source": []
  }
 ],
 "metadata": {
  "kernelspec": {
   "display_name": "Python 3",
   "language": "python",
   "name": "python3"
  },
  "language_info": {
   "codemirror_mode": {
    "name": "ipython",
    "version": 3
   },
   "file_extension": ".py",
   "mimetype": "text/x-python",
   "name": "python",
   "nbconvert_exporter": "python",
   "pygments_lexer": "ipython3",
   "version": "3.6.9"
  }
 },
 "nbformat": 4,
 "nbformat_minor": 2
}
