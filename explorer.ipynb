{
 "cells": [
  {
   "cell_type": "markdown",
   "metadata": {},
   "source": [
    "# Explorer notebook"
   ]
  },
  {
   "cell_type": "markdown",
   "metadata": {},
   "source": [
    "### Imports"
   ]
  },
  {
   "cell_type": "code",
   "execution_count": 1,
   "metadata": {},
   "outputs": [],
   "source": [
    "import os\n",
    "from sqlalchemy import create_engine\n",
    "from sqlalchemy.pool import NullPool\n",
    "import pymysql\n"
   ]
  },
  {
   "cell_type": "code",
   "execution_count": 2,
   "metadata": {},
   "outputs": [],
   "source": [
    "import pandas as pd\n",
    "import numpy as np\n",
    "import seaborn as sns\n",
    "import matplotlib.pyplot as plt\n",
    "plt.style.use('classic')\n",
    "%matplotlib inline\n",
    "\n",
    "import seaborn as sns\n",
    "sns.set(style=\"darkgrid\")"
   ]
  },
  {
   "cell_type": "markdown",
   "metadata": {},
   "source": [
    "## CONSTANTS"
   ]
  },
  {
   "cell_type": "code",
   "execution_count": null,
   "metadata": {},
   "outputs": [],
   "source": []
  },
  {
   "cell_type": "markdown",
   "metadata": {},
   "source": [
    "### Connection to DB"
   ]
  },
  {
   "cell_type": "code",
   "execution_count": 3,
   "metadata": {},
   "outputs": [],
   "source": [
    "# Connexion database\n",
    "db_user = os.getenv('IMPRESSO_MYSQL_USER')\n",
    "db_host = os.getenv('IMPRESSO_MYSQL_HOST')\n",
    "db_name = os.getenv('IMPRESSO_MYSQL_DB')\n",
    "db_password = os.getenv('IMPRESSO_MYSQL_PWD')\n",
    "db_url = f'mysql://{db_user}:{db_password}@{db_host}/{db_name}?charset=utf8'\n",
    "engine = create_engine(db_url, poolclass=NullPool)"
   ]
  },
  {
   "cell_type": "code",
   "execution_count": 4,
   "metadata": {},
   "outputs": [],
   "source": [
    "# Debug in case environment variables cannot be found\n",
    "#print(os.environ)\n",
    "#print(db_user)"
   ]
  },
  {
   "cell_type": "markdown",
   "metadata": {},
   "source": [
    "### Load Useful Data"
   ]
  },
  {
   "cell_type": "code",
   "execution_count": 5,
   "metadata": {},
   "outputs": [],
   "source": [
    "newspapers_df = pd.read_sql('SELECT * FROM impresso.newspapers;', engine)\n",
    "issues_df = pd.read_sql('SELECT * FROM impresso.issues;', engine)"
   ]
  },
  {
   "cell_type": "code",
   "execution_count": 6,
   "metadata": {},
   "outputs": [],
   "source": [
    "newspapers_languages_df = pd.read_sql('SELECT * FROM newspapers_languages;', engine)\n",
    "languages_df = pd.read_sql('SELECT * FROM languages;', engine)\n",
    "LANGUAGES = languages_df.code.unique()"
   ]
  },
  {
   "cell_type": "code",
   "execution_count": 7,
   "metadata": {},
   "outputs": [],
   "source": [
    "newspapers_metadata_df = pd.read_sql('SELECT * FROM newspapers_metadata;', engine)\n",
    "meta_properties_df = pd.read_sql('SELECT * FROM meta_properties;', engine)\n",
    "PROPERTIES = meta_properties_df.name.unique()"
   ]
  },
  {
   "cell_type": "markdown",
   "metadata": {},
   "source": [
    "### Example from Christian"
   ]
  },
  {
   "cell_type": "code",
   "execution_count": 8,
   "metadata": {},
   "outputs": [],
   "source": [
    "data = pd.read_sql('SELECT impresso.issues.id, impresso.issues.year, \\\n",
    "impresso.issues.month, impresso.issues.day, impresso.issues.newspaper_id, \\\n",
    "impresso.newspapers.title FROM impresso.issues, impresso.newspapers WHERE \\\n",
    "impresso.newspapers.id = impresso.issues.newspaper_id ORDER BY impresso.issues.year ASC, \\\n",
    "impresso.issues.month ASC, impresso.issues.day ASC', engine)\n"
   ]
  },
  {
   "cell_type": "code",
   "execution_count": 9,
   "metadata": {},
   "outputs": [
    {
     "data": {
      "text/html": [
       "<div>\n",
       "<style scoped>\n",
       "    .dataframe tbody tr th:only-of-type {\n",
       "        vertical-align: middle;\n",
       "    }\n",
       "\n",
       "    .dataframe tbody tr th {\n",
       "        vertical-align: top;\n",
       "    }\n",
       "\n",
       "    .dataframe thead th {\n",
       "        text-align: right;\n",
       "    }\n",
       "</style>\n",
       "<table border=\"1\" class=\"dataframe\">\n",
       "  <thead>\n",
       "    <tr style=\"text-align: right;\">\n",
       "      <th></th>\n",
       "      <th>id</th>\n",
       "      <th>year</th>\n",
       "      <th>month</th>\n",
       "      <th>day</th>\n",
       "      <th>newspaper_id</th>\n",
       "      <th>title</th>\n",
       "    </tr>\n",
       "  </thead>\n",
       "  <tbody>\n",
       "    <tr>\n",
       "      <th>0</th>\n",
       "      <td>EXP-1740-01-01-a</td>\n",
       "      <td>1740</td>\n",
       "      <td>1</td>\n",
       "      <td>1</td>\n",
       "      <td>EXP</td>\n",
       "      <td>L'Express</td>\n",
       "    </tr>\n",
       "    <tr>\n",
       "      <th>1</th>\n",
       "      <td>EXP-1740-01-29-a</td>\n",
       "      <td>1740</td>\n",
       "      <td>1</td>\n",
       "      <td>29</td>\n",
       "      <td>EXP</td>\n",
       "      <td>L'Express</td>\n",
       "    </tr>\n",
       "    <tr>\n",
       "      <th>2</th>\n",
       "      <td>EXP-1740-04-04-a</td>\n",
       "      <td>1740</td>\n",
       "      <td>4</td>\n",
       "      <td>4</td>\n",
       "      <td>EXP</td>\n",
       "      <td>L'Express</td>\n",
       "    </tr>\n",
       "    <tr>\n",
       "      <th>3</th>\n",
       "      <td>EXP-1740-07-14-a</td>\n",
       "      <td>1740</td>\n",
       "      <td>7</td>\n",
       "      <td>14</td>\n",
       "      <td>EXP</td>\n",
       "      <td>L'Express</td>\n",
       "    </tr>\n",
       "    <tr>\n",
       "      <th>4</th>\n",
       "      <td>NZZ-1780-01-12-a</td>\n",
       "      <td>1780</td>\n",
       "      <td>1</td>\n",
       "      <td>12</td>\n",
       "      <td>NZZ</td>\n",
       "      <td>Neue Zürcher Zeitung</td>\n",
       "    </tr>\n",
       "  </tbody>\n",
       "</table>\n",
       "</div>"
      ],
      "text/plain": [
       "                 id  year  month  day newspaper_id                 title\n",
       "0  EXP-1740-01-01-a  1740      1    1          EXP             L'Express\n",
       "1  EXP-1740-01-29-a  1740      1   29          EXP             L'Express\n",
       "2  EXP-1740-04-04-a  1740      4    4          EXP             L'Express\n",
       "3  EXP-1740-07-14-a  1740      7   14          EXP             L'Express\n",
       "4  NZZ-1780-01-12-a  1780      1   12          NZZ  Neue Zürcher Zeitung"
      ]
     },
     "execution_count": 9,
     "metadata": {},
     "output_type": "execute_result"
    }
   ],
   "source": [
    "data.head()"
   ]
  },
  {
   "cell_type": "code",
   "execution_count": 10,
   "metadata": {},
   "outputs": [],
   "source": [
    "data['datetime'] = pd.to_datetime(data.year*10000+data.month*100+data.day,format='%Y%m%d')\n"
   ]
  },
  {
   "cell_type": "code",
   "execution_count": 11,
   "metadata": {},
   "outputs": [
    {
     "data": {
      "text/html": [
       "<div>\n",
       "<style scoped>\n",
       "    .dataframe tbody tr th:only-of-type {\n",
       "        vertical-align: middle;\n",
       "    }\n",
       "\n",
       "    .dataframe tbody tr th {\n",
       "        vertical-align: top;\n",
       "    }\n",
       "\n",
       "    .dataframe thead th {\n",
       "        text-align: right;\n",
       "    }\n",
       "</style>\n",
       "<table border=\"1\" class=\"dataframe\">\n",
       "  <thead>\n",
       "    <tr style=\"text-align: right;\">\n",
       "      <th></th>\n",
       "      <th>id</th>\n",
       "      <th>year</th>\n",
       "      <th>month</th>\n",
       "      <th>day</th>\n",
       "      <th>newspaper_id</th>\n",
       "      <th>title</th>\n",
       "      <th>datetime</th>\n",
       "    </tr>\n",
       "  </thead>\n",
       "  <tbody>\n",
       "    <tr>\n",
       "      <th>0</th>\n",
       "      <td>EXP-1740-01-01-a</td>\n",
       "      <td>1740</td>\n",
       "      <td>1</td>\n",
       "      <td>1</td>\n",
       "      <td>EXP</td>\n",
       "      <td>L'Express</td>\n",
       "      <td>1740-01-01</td>\n",
       "    </tr>\n",
       "    <tr>\n",
       "      <th>1</th>\n",
       "      <td>EXP-1740-01-29-a</td>\n",
       "      <td>1740</td>\n",
       "      <td>1</td>\n",
       "      <td>29</td>\n",
       "      <td>EXP</td>\n",
       "      <td>L'Express</td>\n",
       "      <td>1740-01-29</td>\n",
       "    </tr>\n",
       "    <tr>\n",
       "      <th>2</th>\n",
       "      <td>EXP-1740-04-04-a</td>\n",
       "      <td>1740</td>\n",
       "      <td>4</td>\n",
       "      <td>4</td>\n",
       "      <td>EXP</td>\n",
       "      <td>L'Express</td>\n",
       "      <td>1740-04-04</td>\n",
       "    </tr>\n",
       "    <tr>\n",
       "      <th>3</th>\n",
       "      <td>EXP-1740-07-14-a</td>\n",
       "      <td>1740</td>\n",
       "      <td>7</td>\n",
       "      <td>14</td>\n",
       "      <td>EXP</td>\n",
       "      <td>L'Express</td>\n",
       "      <td>1740-07-14</td>\n",
       "    </tr>\n",
       "    <tr>\n",
       "      <th>4</th>\n",
       "      <td>NZZ-1780-01-12-a</td>\n",
       "      <td>1780</td>\n",
       "      <td>1</td>\n",
       "      <td>12</td>\n",
       "      <td>NZZ</td>\n",
       "      <td>Neue Zürcher Zeitung</td>\n",
       "      <td>1780-01-12</td>\n",
       "    </tr>\n",
       "  </tbody>\n",
       "</table>\n",
       "</div>"
      ],
      "text/plain": [
       "                 id  year  month  day newspaper_id                 title  \\\n",
       "0  EXP-1740-01-01-a  1740      1    1          EXP             L'Express   \n",
       "1  EXP-1740-01-29-a  1740      1   29          EXP             L'Express   \n",
       "2  EXP-1740-04-04-a  1740      4    4          EXP             L'Express   \n",
       "3  EXP-1740-07-14-a  1740      7   14          EXP             L'Express   \n",
       "4  NZZ-1780-01-12-a  1780      1   12          NZZ  Neue Zürcher Zeitung   \n",
       "\n",
       "    datetime  \n",
       "0 1740-01-01  \n",
       "1 1740-01-29  \n",
       "2 1740-04-04  \n",
       "3 1740-07-14  \n",
       "4 1780-01-12  "
      ]
     },
     "execution_count": 11,
     "metadata": {},
     "output_type": "execute_result"
    }
   ],
   "source": [
    "data.head()"
   ]
  },
  {
   "cell_type": "markdown",
   "metadata": {},
   "source": [
    "### Explorer"
   ]
  },
  {
   "cell_type": "markdown",
   "metadata": {},
   "source": [
    "##### Export to CSV to work in case of connection issue"
   ]
  },
  {
   "cell_type": "code",
   "execution_count": 12,
   "metadata": {},
   "outputs": [],
   "source": [
    "#newspapers_df.to_csv(r'../local-data/newspapers.csv')"
   ]
  },
  {
   "cell_type": "code",
   "execution_count": 13,
   "metadata": {},
   "outputs": [],
   "source": [
    "#recover1 = pd.read_csv('../local-data/newspapers.csv', index_col=0)\n",
    "#recover1.head()"
   ]
  },
  {
   "cell_type": "code",
   "execution_count": 14,
   "metadata": {},
   "outputs": [],
   "source": [
    "#issues_df.to_csv(r'../local-data/issues.csv')"
   ]
  },
  {
   "cell_type": "code",
   "execution_count": 15,
   "metadata": {},
   "outputs": [],
   "source": [
    "#recover2 = pd.read_csv('../local-data/issues.csv', index_col=0)\n",
    "#recover2.head()"
   ]
  },
  {
   "cell_type": "markdown",
   "metadata": {},
   "source": [
    "### Filter newpapers based on properties"
   ]
  },
  {
   "cell_type": "code",
   "execution_count": 30,
   "metadata": {},
   "outputs": [],
   "source": [
    "def np_by_language(language):\n",
    "\n",
    "    assert language in LANGUAGES, \"Can't recognize selected languages. Please chose one among existing languages in db.\"\n",
    "    \n",
    "    # Find ID\n",
    "    lang_id = languages_df.loc[languages_df['code']==language]['id'].item()\n",
    "    return newspapers_languages_df.loc[newspapers_languages_df['language_id']==lang_id]['newspaper_id']"
   ]
  },
  {
   "cell_type": "code",
   "execution_count": 17,
   "metadata": {},
   "outputs": [],
   "source": [
    "def np_by_property(property_name, filter_):\n",
    "\n",
    "    assert property_name in PROPERTIES, \"Can't recognize selected property. \\\n",
    "    Please chose one among existing ones in db meta_properties.\"\n",
    "    \n",
    "    # Find ID\n",
    "    prop_id = meta_properties_df.loc[meta_properties_df['name']==property_name]['id'].item()\n",
    "    \n",
    "    # TODO : check if filter is one of values for given property ?\n",
    "\n",
    "    return newspapers_metadata_df.loc[(newspapers_metadata_df['property_id']==prop_id)\\\n",
    "                                     & (newspapers_metadata_df['value']==filter_)]['newspaper_id']"
   ]
  },
  {
   "cell_type": "markdown",
   "metadata": {},
   "source": [
    "### Number of newspaper issues by year/decade"
   ]
  },
  {
   "cell_type": "code",
   "execution_count": 18,
   "metadata": {},
   "outputs": [],
   "source": [
    "# Create new decade column\n",
    "issues_df['decade'] = issues_df.apply(lambda row: row.year-row.year%10, axis = 1) "
   ]
  },
  {
   "cell_type": "code",
   "execution_count": 72,
   "metadata": {},
   "outputs": [],
   "source": [
    "time_granularity = 'decade' # put 'year' to have statistics per year\n",
    "columns_group = ['newspaper_id', time_granularity]\n",
    "# NP we are interested in : default is all use functions np_by_language / np_by_property to filter np\n",
    "#newspapers_select = newspapers_df['id'].unique() #default : all\n",
    "#newspapers_select = ['actionfem', 'armeteufel'] # for rapid visualization\n",
    "newspapers_select = np_by_property('provinceCode', 'VS')"
   ]
  },
  {
   "cell_type": "code",
   "execution_count": 73,
   "metadata": {},
   "outputs": [
    {
     "data": {
      "text/plain": [
       "array(['archivalHolder', 'countryCode', 'currentPeriodicity',\n",
       "       'deliveredIssueNb', 'deliveredPageNb', 'editor', 'expectedIssueNb',\n",
       "       'expectedPageNb', 'formerPeriodicity', 'founder',\n",
       "       'ingestedIssueNb', 'ingestedPageNb', 'isbn', 'longTitle',\n",
       "       'noteGenealogy', 'notePublicationDates', 'otherTitle',\n",
       "       'periodicity', 'polOrientation', 'pressType', 'provinceCode',\n",
       "       'publicationDates', 'publicationPlace', 'publisher', 'relatedUrl',\n",
       "       'variantTitle', 'provenanceId', 'provenanceSource',\n",
       "       'provenanceUri', 'logoFilename', 'availabilityEta'], dtype=object)"
      ]
     },
     "execution_count": 73,
     "metadata": {},
     "output_type": "execute_result"
    }
   ],
   "source": [
    "PROPERTIES"
   ]
  },
  {
   "cell_type": "code",
   "execution_count": 74,
   "metadata": {},
   "outputs": [],
   "source": [
    "issues_df_select = issues_df.loc[issues_df['newspaper_id'].isin(newspapers_select)]"
   ]
  },
  {
   "cell_type": "code",
   "execution_count": 75,
   "metadata": {},
   "outputs": [],
   "source": [
    "issue_per_np_time = issues_df_select.groupby(columns_group).count()"
   ]
  },
  {
   "cell_type": "code",
   "execution_count": 76,
   "metadata": {},
   "outputs": [],
   "source": [
    "nb_issue_per_np_time_id = issue_per_np_time['id']"
   ]
  },
  {
   "cell_type": "code",
   "execution_count": 77,
   "metadata": {},
   "outputs": [
    {
     "name": "stdout",
     "output_type": "stream",
     "text": [
      "Problem with column last_modified : not the same count number.\n"
     ]
    }
   ],
   "source": [
    "# Check if all columns have the same number of lines\n",
    "for col in issues_df.columns :\n",
    "    if not col in columns_group and not nb_issue_per_np_time_id.equals(issue_per_np_time[col]) :\n",
    "        print(\"Problem with column {} : not the same count number.\".format(col))"
   ]
  },
  {
   "cell_type": "markdown",
   "metadata": {},
   "source": [
    "Column last_modified is often NaT, which is why the count is not the same. For that others we always have the same number so we can take any column (and we take 'id')."
   ]
  },
  {
   "cell_type": "code",
   "execution_count": 78,
   "metadata": {},
   "outputs": [
    {
     "data": {
      "text/html": [
       "<div>\n",
       "<style scoped>\n",
       "    .dataframe tbody tr th:only-of-type {\n",
       "        vertical-align: middle;\n",
       "    }\n",
       "\n",
       "    .dataframe tbody tr th {\n",
       "        vertical-align: top;\n",
       "    }\n",
       "\n",
       "    .dataframe thead th {\n",
       "        text-align: right;\n",
       "    }\n",
       "</style>\n",
       "<table border=\"1\" class=\"dataframe\">\n",
       "  <thead>\n",
       "    <tr style=\"text-align: right;\">\n",
       "      <th></th>\n",
       "      <th>newspaper_id</th>\n",
       "      <th>decade</th>\n",
       "      <th>count</th>\n",
       "    </tr>\n",
       "  </thead>\n",
       "  <tbody>\n",
       "    <tr>\n",
       "      <th>0</th>\n",
       "      <td>CDV</td>\n",
       "      <td>1840</td>\n",
       "      <td>304</td>\n",
       "    </tr>\n",
       "    <tr>\n",
       "      <th>1</th>\n",
       "      <td>CDV</td>\n",
       "      <td>1850</td>\n",
       "      <td>896</td>\n",
       "    </tr>\n",
       "    <tr>\n",
       "      <th>2</th>\n",
       "      <td>LCE</td>\n",
       "      <td>1860</td>\n",
       "      <td>621</td>\n",
       "    </tr>\n",
       "    <tr>\n",
       "      <th>3</th>\n",
       "      <td>LCE</td>\n",
       "      <td>1870</td>\n",
       "      <td>883</td>\n",
       "    </tr>\n",
       "    <tr>\n",
       "      <th>4</th>\n",
       "      <td>LCE</td>\n",
       "      <td>1880</td>\n",
       "      <td>677</td>\n",
       "    </tr>\n",
       "  </tbody>\n",
       "</table>\n",
       "</div>"
      ],
      "text/plain": [
       "  newspaper_id  decade  count\n",
       "0          CDV    1840    304\n",
       "1          CDV    1850    896\n",
       "2          LCE    1860    621\n",
       "3          LCE    1870    883\n",
       "4          LCE    1880    677"
      ]
     },
     "execution_count": 78,
     "metadata": {},
     "output_type": "execute_result"
    }
   ],
   "source": [
    "# convert to df in order to plot\n",
    "nb_issue_per_np_time_id = issue_per_np_time['id']\n",
    "nb_issue_per_np_time_id = nb_issue_per_np_time_id.reset_index(name='count')\n",
    "nb_issue_per_np_time_id.head(5)"
   ]
  },
  {
   "cell_type": "code",
   "execution_count": 79,
   "metadata": {},
   "outputs": [
    {
     "data": {
      "image/png": "[encoded data removed]",
      "text/plain": [
       "<Figure size 792.175x360 with 1 Axes>"
      ]
     },
     "metadata": {},
     "output_type": "display_data"
    }
   ],
   "source": [
    "# Plot\n",
    "sns.catplot(x=time_granularity, y=\"count\", hue=\"newspaper_id\", kind=\"bar\", \\\n",
    "            data=nb_issue_per_np_time_id, height=5, aspect=2);"
   ]
  },
  {
   "cell_type": "code",
   "execution_count": 80,
   "metadata": {},
   "outputs": [
    {
     "data": {
      "image/png": "[encoded data removed]",
      "text/plain": [
       "<Figure size 3672x360 with 17 Axes>"
      ]
     },
     "metadata": {},
     "output_type": "display_data"
    }
   ],
   "source": [
    "g = sns.catplot(x=\"newspaper_id\", y=\"count\", col=time_granularity, data=nb_issue_per_np_time_id,\n",
    "                saturation=.5, kind=\"bar\", ci=None, aspect=.6);"
   ]
  },
  {
   "cell_type": "code",
   "execution_count": null,
   "metadata": {},
   "outputs": [],
   "source": []
  }
 ],
 "metadata": {
  "kernelspec": {
   "display_name": "Python 3",
   "language": "python",
   "name": "python3"
  },
  "language_info": {
   "codemirror_mode": {
    "name": "ipython",
    "version": 3
   },
   "file_extension": ".py",
   "mimetype": "text/x-python",
   "name": "python",
   "nbconvert_exporter": "python",
   "pygments_lexer": "ipython3",
   "version": "3.6.5"
  }
 },
 "nbformat": 4,
 "nbformat_minor": 2
}
