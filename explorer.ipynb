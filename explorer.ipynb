{
 "cells": [
  {
   "cell_type": "markdown",
   "metadata": {},
   "source": [
    "# Explorer notebook"
   ]
  },
  {
   "cell_type": "markdown",
   "metadata": {},
   "source": [
    "### Imports"
   ]
  },
  {
   "cell_type": "code",
   "execution_count": 3,
   "metadata": {},
   "outputs": [],
   "source": [
    "import os\n",
    "from sqlalchemy import create_engine\n",
    "from sqlalchemy.pool import NullPool\n",
    "import pymysql\n"
   ]
  },
  {
   "cell_type": "code",
   "execution_count": 4,
   "metadata": {},
   "outputs": [],
   "source": [
    "import pandas as pd\n",
    "import numpy as np\n",
    "import seaborn as sns\n",
    "import matplotlib.pyplot as plt\n",
    "plt.style.use('classic')\n",
    "%matplotlib inline\n",
    "\n",
    "import seaborn as sns\n",
    "sns.set(style=\"darkgrid\")"
   ]
  },
  {
   "cell_type": "code",
   "execution_count": 5,
   "metadata": {},
   "outputs": [],
   "source": [
    "# Christian's notebook >> not needed for now\n",
    "#import dash\n",
    "#import dash_core_components as dcc\n",
    "#import dash_html_components as html\n",
    "#from dash.dependencies import Input, Output\n",
    "#import plotly.graph_objs as go\n",
    "#import dash_table"
   ]
  },
  {
   "cell_type": "markdown",
   "metadata": {},
   "source": [
    "### Connection to DB"
   ]
  },
  {
   "cell_type": "code",
   "execution_count": 6,
   "metadata": {},
   "outputs": [],
   "source": [
    "# Connexion database\n",
    "db_user = os.getenv('IMPRESSO_MYSQL_USER')\n",
    "db_host = os.getenv('IMPRESSO_MYSQL_HOST')\n",
    "db_name = os.getenv('IMPRESSO_MYSQL_DB')\n",
    "db_password = os.getenv('IMPRESSO_MYSQL_PWD')\n",
    "db_url = f'mysql://{db_user}:{db_password}@{db_host}/{db_name}?charset=utf8'\n",
    "engine = create_engine(db_url, poolclass=NullPool)"
   ]
  },
  {
   "cell_type": "code",
   "execution_count": 7,
   "metadata": {},
   "outputs": [
    {
     "name": "stdout",
     "output_type": "stream",
     "text": [
      "environ({'TERM_PROGRAM': 'Apple_Terminal', 'TERM': 'xterm-color', 'SHELL': '/bin/bash', 'TMPDIR': '/var/folders/k9/xsvz80bn7s9gt7_tkj2ng3h80000gn/T/', 'Apple_PubSub_Socket_Render': '/private/tmp/com.apple.launchd.fVUGp7pE96/Render', 'CONDA_SHLVL': '1', 'TERM_PROGRAM_VERSION': '421.2', 'CONDA_PROMPT_MODIFIER': '(env-impresso) ', 'TERM_SESSION_ID': 'B77D8729-8B5B-4735-989E-3985200F0D15', 'IMPRESSO_MYSQL_HOST': 'dhlabsrv27.epfl.ch', 'USER': 'justineweber', 'CONDA_EXE': '/anaconda3/bin/conda', 'SSH_AUTH_SOCK': '/private/tmp/com.apple.launchd.ZKLo5b0pUR/Listeners', 'IMPRESSO_MYSQL_DB': 'impresso_dev', 'IMPRESSO_MYSQL_PWD': 'Chahsh7einohcecahDeK', 'IMPRESSO_MYSQL_USER': 'impr_lausanne_ro', '_CE_CONDA': '', 'PATH': '/anaconda3/envs/env-impresso/bin:/anaconda3/condabin:/anaconda3/bin:/Library/Frameworks/Python.framework/Versions/3.6/bin:/opt/local/bin:/opt/local/sbin:/usr/bin:/bin:/usr/sbin:/sbin:/usr/local/bin:/Library/TeX/texbin:/opt/X11/bin:/Applications/Wireshark.app/Contents/MacOS', 'CONDA_PREFIX': '/anaconda3/envs/env-impresso', 'PWD': '/Users/justineweber/EPFL/Master/impresso', 'LANG': 'fr_CH.UTF-8', 'XPC_FLAGS': '0x0', 'XPC_SERVICE_NAME': '0', '_CE_M': '', 'HOME': '/Users/justineweber', 'SHLVL': '2', 'LOGNAME': 'justineweber', 'CONDA_PYTHON_EXE': '/anaconda3/bin/python', 'CONDA_DEFAULT_ENV': 'env-impresso', 'DISPLAY': '/private/tmp/com.apple.launchd.VnzpMUaCUv/org.macosforge.xquartz:0', 'SECURITYSESSIONID': '186aa', '_': '/anaconda3/python.app/Contents/MacOS/python', 'JPY_PARENT_PID': '53841', 'CLICOLOR': '1', 'PAGER': 'cat', 'GIT_PAGER': 'cat', 'MPLBACKEND': 'module://ipykernel.pylab.backend_inline'})\n",
      "impr_lausanne_ro\n"
     ]
    }
   ],
   "source": [
    "print(os.environ)\n",
    "print(db_user)"
   ]
  },
  {
   "cell_type": "markdown",
   "metadata": {},
   "source": [
    "### Example from Christian"
   ]
  },
  {
   "cell_type": "code",
   "execution_count": 8,
   "metadata": {},
   "outputs": [],
   "source": [
    "data = pd.read_sql('SELECT impresso.issues.id, impresso.issues.year, impresso.issues.month, impresso.issues.day, impresso.issues.newspaper_id, impresso.newspapers.title FROM impresso.issues, impresso.newspapers WHERE impresso.newspapers.id = impresso.issues.newspaper_id ORDER BY impresso.issues.year ASC, impresso.issues.month ASC, impresso.issues.day ASC', engine)\n"
   ]
  },
  {
   "cell_type": "code",
   "execution_count": 9,
   "metadata": {},
   "outputs": [
    {
     "data": {
      "text/html": [
       "<div>\n",
       "<style scoped>\n",
       "    .dataframe tbody tr th:only-of-type {\n",
       "        vertical-align: middle;\n",
       "    }\n",
       "\n",
       "    .dataframe tbody tr th {\n",
       "        vertical-align: top;\n",
       "    }\n",
       "\n",
       "    .dataframe thead th {\n",
       "        text-align: right;\n",
       "    }\n",
       "</style>\n",
       "<table border=\"1\" class=\"dataframe\">\n",
       "  <thead>\n",
       "    <tr style=\"text-align: right;\">\n",
       "      <th></th>\n",
       "      <th>id</th>\n",
       "      <th>year</th>\n",
       "      <th>month</th>\n",
       "      <th>day</th>\n",
       "      <th>newspaper_id</th>\n",
       "      <th>title</th>\n",
       "    </tr>\n",
       "  </thead>\n",
       "  <tbody>\n",
       "    <tr>\n",
       "      <th>0</th>\n",
       "      <td>EXP-1740-01-01-a</td>\n",
       "      <td>1740</td>\n",
       "      <td>1</td>\n",
       "      <td>1</td>\n",
       "      <td>EXP</td>\n",
       "      <td>L'Express</td>\n",
       "    </tr>\n",
       "    <tr>\n",
       "      <th>1</th>\n",
       "      <td>EXP-1740-01-29-a</td>\n",
       "      <td>1740</td>\n",
       "      <td>1</td>\n",
       "      <td>29</td>\n",
       "      <td>EXP</td>\n",
       "      <td>L'Express</td>\n",
       "    </tr>\n",
       "    <tr>\n",
       "      <th>2</th>\n",
       "      <td>EXP-1740-04-04-a</td>\n",
       "      <td>1740</td>\n",
       "      <td>4</td>\n",
       "      <td>4</td>\n",
       "      <td>EXP</td>\n",
       "      <td>L'Express</td>\n",
       "    </tr>\n",
       "    <tr>\n",
       "      <th>3</th>\n",
       "      <td>EXP-1740-07-14-a</td>\n",
       "      <td>1740</td>\n",
       "      <td>7</td>\n",
       "      <td>14</td>\n",
       "      <td>EXP</td>\n",
       "      <td>L'Express</td>\n",
       "    </tr>\n",
       "    <tr>\n",
       "      <th>4</th>\n",
       "      <td>NZZ-1780-01-12-a</td>\n",
       "      <td>1780</td>\n",
       "      <td>1</td>\n",
       "      <td>12</td>\n",
       "      <td>NZZ</td>\n",
       "      <td>Neue Zürcher Zeitung</td>\n",
       "    </tr>\n",
       "  </tbody>\n",
       "</table>\n",
       "</div>"
      ],
      "text/plain": [
       "                 id  year  month  day newspaper_id                 title\n",
       "0  EXP-1740-01-01-a  1740      1    1          EXP             L'Express\n",
       "1  EXP-1740-01-29-a  1740      1   29          EXP             L'Express\n",
       "2  EXP-1740-04-04-a  1740      4    4          EXP             L'Express\n",
       "3  EXP-1740-07-14-a  1740      7   14          EXP             L'Express\n",
       "4  NZZ-1780-01-12-a  1780      1   12          NZZ  Neue Zürcher Zeitung"
      ]
     },
     "execution_count": 9,
     "metadata": {},
     "output_type": "execute_result"
    }
   ],
   "source": [
    "data.head()"
   ]
  },
  {
   "cell_type": "code",
   "execution_count": 10,
   "metadata": {},
   "outputs": [],
   "source": [
    "data['datetime'] = pd.to_datetime(data.year*10000+data.month*100+data.day,format='%Y%m%d')\n"
   ]
  },
  {
   "cell_type": "code",
   "execution_count": 11,
   "metadata": {},
   "outputs": [
    {
     "data": {
      "text/html": [
       "<div>\n",
       "<style scoped>\n",
       "    .dataframe tbody tr th:only-of-type {\n",
       "        vertical-align: middle;\n",
       "    }\n",
       "\n",
       "    .dataframe tbody tr th {\n",
       "        vertical-align: top;\n",
       "    }\n",
       "\n",
       "    .dataframe thead th {\n",
       "        text-align: right;\n",
       "    }\n",
       "</style>\n",
       "<table border=\"1\" class=\"dataframe\">\n",
       "  <thead>\n",
       "    <tr style=\"text-align: right;\">\n",
       "      <th></th>\n",
       "      <th>id</th>\n",
       "      <th>year</th>\n",
       "      <th>month</th>\n",
       "      <th>day</th>\n",
       "      <th>newspaper_id</th>\n",
       "      <th>title</th>\n",
       "      <th>datetime</th>\n",
       "    </tr>\n",
       "  </thead>\n",
       "  <tbody>\n",
       "    <tr>\n",
       "      <th>0</th>\n",
       "      <td>EXP-1740-01-01-a</td>\n",
       "      <td>1740</td>\n",
       "      <td>1</td>\n",
       "      <td>1</td>\n",
       "      <td>EXP</td>\n",
       "      <td>L'Express</td>\n",
       "      <td>1740-01-01</td>\n",
       "    </tr>\n",
       "    <tr>\n",
       "      <th>1</th>\n",
       "      <td>EXP-1740-01-29-a</td>\n",
       "      <td>1740</td>\n",
       "      <td>1</td>\n",
       "      <td>29</td>\n",
       "      <td>EXP</td>\n",
       "      <td>L'Express</td>\n",
       "      <td>1740-01-29</td>\n",
       "    </tr>\n",
       "    <tr>\n",
       "      <th>2</th>\n",
       "      <td>EXP-1740-04-04-a</td>\n",
       "      <td>1740</td>\n",
       "      <td>4</td>\n",
       "      <td>4</td>\n",
       "      <td>EXP</td>\n",
       "      <td>L'Express</td>\n",
       "      <td>1740-04-04</td>\n",
       "    </tr>\n",
       "    <tr>\n",
       "      <th>3</th>\n",
       "      <td>EXP-1740-07-14-a</td>\n",
       "      <td>1740</td>\n",
       "      <td>7</td>\n",
       "      <td>14</td>\n",
       "      <td>EXP</td>\n",
       "      <td>L'Express</td>\n",
       "      <td>1740-07-14</td>\n",
       "    </tr>\n",
       "    <tr>\n",
       "      <th>4</th>\n",
       "      <td>NZZ-1780-01-12-a</td>\n",
       "      <td>1780</td>\n",
       "      <td>1</td>\n",
       "      <td>12</td>\n",
       "      <td>NZZ</td>\n",
       "      <td>Neue Zürcher Zeitung</td>\n",
       "      <td>1780-01-12</td>\n",
       "    </tr>\n",
       "  </tbody>\n",
       "</table>\n",
       "</div>"
      ],
      "text/plain": [
       "                 id  year  month  day newspaper_id                 title  \\\n",
       "0  EXP-1740-01-01-a  1740      1    1          EXP             L'Express   \n",
       "1  EXP-1740-01-29-a  1740      1   29          EXP             L'Express   \n",
       "2  EXP-1740-04-04-a  1740      4    4          EXP             L'Express   \n",
       "3  EXP-1740-07-14-a  1740      7   14          EXP             L'Express   \n",
       "4  NZZ-1780-01-12-a  1780      1   12          NZZ  Neue Zürcher Zeitung   \n",
       "\n",
       "    datetime  \n",
       "0 1740-01-01  \n",
       "1 1740-01-29  \n",
       "2 1740-04-04  \n",
       "3 1740-07-14  \n",
       "4 1780-01-12  "
      ]
     },
     "execution_count": 11,
     "metadata": {},
     "output_type": "execute_result"
    }
   ],
   "source": [
    "data.head()"
   ]
  },
  {
   "cell_type": "markdown",
   "metadata": {},
   "source": [
    "### Explorer"
   ]
  },
  {
   "cell_type": "code",
   "execution_count": 12,
   "metadata": {},
   "outputs": [],
   "source": [
    "newspapers_df = pd.read_sql('SELECT * FROM impresso.newspapers;', engine)\n",
    "issues_df = pd.read_sql('SELECT * FROM impresso.issues;', engine)"
   ]
  },
  {
   "cell_type": "markdown",
   "metadata": {},
   "source": [
    "##### Export to CSV to work in case of connection issue"
   ]
  },
  {
   "cell_type": "code",
   "execution_count": 13,
   "metadata": {},
   "outputs": [],
   "source": [
    "#newspapers_df.to_csv(r'../local-data/newspapers.csv')"
   ]
  },
  {
   "cell_type": "code",
   "execution_count": 14,
   "metadata": {},
   "outputs": [],
   "source": [
    "#recover1 = pd.read_csv('../local-data/newspapers.csv', index_col=0)\n",
    "#recover1.head()"
   ]
  },
  {
   "cell_type": "code",
   "execution_count": 15,
   "metadata": {},
   "outputs": [],
   "source": [
    "#issues_df.to_csv(r'../local-data/issues.csv')"
   ]
  },
  {
   "cell_type": "code",
   "execution_count": 16,
   "metadata": {},
   "outputs": [],
   "source": [
    "#recover2 = pd.read_csv('../local-data/issues.csv', index_col=0)\n",
    "#recover2.head()"
   ]
  },
  {
   "cell_type": "markdown",
   "metadata": {},
   "source": [
    "##### Explore"
   ]
  },
  {
   "cell_type": "code",
   "execution_count": 17,
   "metadata": {},
   "outputs": [
    {
     "data": {
      "text/html": [
       "<div>\n",
       "<style scoped>\n",
       "    .dataframe tbody tr th:only-of-type {\n",
       "        vertical-align: middle;\n",
       "    }\n",
       "\n",
       "    .dataframe tbody tr th {\n",
       "        vertical-align: top;\n",
       "    }\n",
       "\n",
       "    .dataframe thead th {\n",
       "        text-align: right;\n",
       "    }\n",
       "</style>\n",
       "<table border=\"1\" class=\"dataframe\">\n",
       "  <thead>\n",
       "    <tr style=\"text-align: right;\">\n",
       "      <th></th>\n",
       "      <th>id</th>\n",
       "      <th>title</th>\n",
       "      <th>start_year</th>\n",
       "      <th>end_year</th>\n",
       "      <th>availability_eta</th>\n",
       "    </tr>\n",
       "  </thead>\n",
       "  <tbody>\n",
       "    <tr>\n",
       "      <th>0</th>\n",
       "      <td></td>\n",
       "      <td>La Sentinelle</td>\n",
       "      <td>NaN</td>\n",
       "      <td>NaN</td>\n",
       "      <td>None</td>\n",
       "    </tr>\n",
       "    <tr>\n",
       "      <th>1</th>\n",
       "      <td>24HEURES</td>\n",
       "      <td>24Heures</td>\n",
       "      <td>1762.0</td>\n",
       "      <td>2018.0</td>\n",
       "      <td>None</td>\n",
       "    </tr>\n",
       "    <tr>\n",
       "      <th>2</th>\n",
       "      <td>actionfem</td>\n",
       "      <td>L'Action féminine</td>\n",
       "      <td>1927.0</td>\n",
       "      <td>1940.0</td>\n",
       "      <td>None</td>\n",
       "    </tr>\n",
       "    <tr>\n",
       "      <th>3</th>\n",
       "      <td>AMI</td>\n",
       "      <td>L’ami du peuple</td>\n",
       "      <td>1878.0</td>\n",
       "      <td>1922.0</td>\n",
       "      <td>None</td>\n",
       "    </tr>\n",
       "    <tr>\n",
       "      <th>4</th>\n",
       "      <td>armeteufel</td>\n",
       "      <td>Arme Teufel</td>\n",
       "      <td>1903.0</td>\n",
       "      <td>1929.0</td>\n",
       "      <td>None</td>\n",
       "    </tr>\n",
       "  </tbody>\n",
       "</table>\n",
       "</div>"
      ],
      "text/plain": [
       "           id              title  start_year  end_year availability_eta\n",
       "0                  La Sentinelle         NaN       NaN             None\n",
       "1    24HEURES           24Heures      1762.0    2018.0             None\n",
       "2   actionfem  L'Action féminine      1927.0    1940.0             None\n",
       "3         AMI    L’ami du peuple      1878.0    1922.0             None\n",
       "4  armeteufel        Arme Teufel      1903.0    1929.0             None"
      ]
     },
     "execution_count": 17,
     "metadata": {},
     "output_type": "execute_result"
    }
   ],
   "source": [
    "newspapers_df.head(5)"
   ]
  },
  {
   "cell_type": "code",
   "execution_count": 18,
   "metadata": {},
   "outputs": [
    {
     "data": {
      "text/html": [
       "<div>\n",
       "<style scoped>\n",
       "    .dataframe tbody tr th:only-of-type {\n",
       "        vertical-align: middle;\n",
       "    }\n",
       "\n",
       "    .dataframe tbody tr th {\n",
       "        vertical-align: top;\n",
       "    }\n",
       "\n",
       "    .dataframe thead th {\n",
       "        text-align: right;\n",
       "    }\n",
       "</style>\n",
       "<table border=\"1\" class=\"dataframe\">\n",
       "  <thead>\n",
       "    <tr style=\"text-align: right;\">\n",
       "      <th></th>\n",
       "      <th>id</th>\n",
       "      <th>year</th>\n",
       "      <th>month</th>\n",
       "      <th>day</th>\n",
       "      <th>edition</th>\n",
       "      <th>access_rights</th>\n",
       "      <th>created</th>\n",
       "      <th>last_modified</th>\n",
       "      <th>is_damaged</th>\n",
       "      <th>s3_version</th>\n",
       "      <th>newspaper_id</th>\n",
       "    </tr>\n",
       "  </thead>\n",
       "  <tbody>\n",
       "    <tr>\n",
       "      <th>0</th>\n",
       "      <td>actionfem-1927-10-15-a</td>\n",
       "      <td>1927</td>\n",
       "      <td>10</td>\n",
       "      <td>15</td>\n",
       "      <td>a</td>\n",
       "      <td>Closed</td>\n",
       "      <td>2019-06-15 12:22:38</td>\n",
       "      <td>NaT</td>\n",
       "      <td>0</td>\n",
       "      <td></td>\n",
       "      <td>actionfem</td>\n",
       "    </tr>\n",
       "    <tr>\n",
       "      <th>1</th>\n",
       "      <td>actionfem-1927-11-15-a</td>\n",
       "      <td>1927</td>\n",
       "      <td>11</td>\n",
       "      <td>15</td>\n",
       "      <td>a</td>\n",
       "      <td>Closed</td>\n",
       "      <td>2019-06-15 12:22:38</td>\n",
       "      <td>NaT</td>\n",
       "      <td>0</td>\n",
       "      <td></td>\n",
       "      <td>actionfem</td>\n",
       "    </tr>\n",
       "    <tr>\n",
       "      <th>2</th>\n",
       "      <td>actionfem-1927-12-15-a</td>\n",
       "      <td>1927</td>\n",
       "      <td>12</td>\n",
       "      <td>15</td>\n",
       "      <td>a</td>\n",
       "      <td>Closed</td>\n",
       "      <td>2019-06-15 12:22:38</td>\n",
       "      <td>NaT</td>\n",
       "      <td>0</td>\n",
       "      <td></td>\n",
       "      <td>actionfem</td>\n",
       "    </tr>\n",
       "    <tr>\n",
       "      <th>3</th>\n",
       "      <td>actionfem-1928-01-15-a</td>\n",
       "      <td>1928</td>\n",
       "      <td>1</td>\n",
       "      <td>15</td>\n",
       "      <td>a</td>\n",
       "      <td>Closed</td>\n",
       "      <td>2019-06-15 12:22:41</td>\n",
       "      <td>NaT</td>\n",
       "      <td>0</td>\n",
       "      <td></td>\n",
       "      <td>actionfem</td>\n",
       "    </tr>\n",
       "    <tr>\n",
       "      <th>4</th>\n",
       "      <td>actionfem-1928-02-15-a</td>\n",
       "      <td>1928</td>\n",
       "      <td>2</td>\n",
       "      <td>15</td>\n",
       "      <td>a</td>\n",
       "      <td>Closed</td>\n",
       "      <td>2019-06-15 12:22:41</td>\n",
       "      <td>NaT</td>\n",
       "      <td>0</td>\n",
       "      <td></td>\n",
       "      <td>actionfem</td>\n",
       "    </tr>\n",
       "  </tbody>\n",
       "</table>\n",
       "</div>"
      ],
      "text/plain": [
       "                       id  year  month  day edition access_rights  \\\n",
       "0  actionfem-1927-10-15-a  1927     10   15       a        Closed   \n",
       "1  actionfem-1927-11-15-a  1927     11   15       a        Closed   \n",
       "2  actionfem-1927-12-15-a  1927     12   15       a        Closed   \n",
       "3  actionfem-1928-01-15-a  1928      1   15       a        Closed   \n",
       "4  actionfem-1928-02-15-a  1928      2   15       a        Closed   \n",
       "\n",
       "              created last_modified  is_damaged s3_version newspaper_id  \n",
       "0 2019-06-15 12:22:38           NaT           0               actionfem  \n",
       "1 2019-06-15 12:22:38           NaT           0               actionfem  \n",
       "2 2019-06-15 12:22:38           NaT           0               actionfem  \n",
       "3 2019-06-15 12:22:41           NaT           0               actionfem  \n",
       "4 2019-06-15 12:22:41           NaT           0               actionfem  "
      ]
     },
     "execution_count": 18,
     "metadata": {},
     "output_type": "execute_result"
    }
   ],
   "source": [
    "issues_df.head(5)"
   ]
  },
  {
   "cell_type": "markdown",
   "metadata": {},
   "source": [
    "### Number of newspaper issues by year/decade"
   ]
  },
  {
   "cell_type": "markdown",
   "metadata": {},
   "source": [
    "#### By year"
   ]
  },
  {
   "cell_type": "code",
   "execution_count": 19,
   "metadata": {},
   "outputs": [],
   "source": [
    "columns_group = ['newspaper_id', 'year']"
   ]
  },
  {
   "cell_type": "code",
   "execution_count": 20,
   "metadata": {},
   "outputs": [],
   "source": [
    "issue_per_np_year = issues_df.groupby(columns_group).count()"
   ]
  },
  {
   "cell_type": "code",
   "execution_count": 21,
   "metadata": {},
   "outputs": [],
   "source": [
    "nb_issue_per_np_year_id = issue_per_np_year['id']"
   ]
  },
  {
   "cell_type": "code",
   "execution_count": 22,
   "metadata": {},
   "outputs": [
    {
     "name": "stdout",
     "output_type": "stream",
     "text": [
      "Problem with column last_modified : not the same count number.\n"
     ]
    }
   ],
   "source": [
    "# Check if all columns have the same number of lines\n",
    "for col in issues_df.columns :\n",
    "    if not col in columns_group and not nb_issue_per_np_year_id.equals(issue_per_np_year[col]) :\n",
    "        print(\"Problem with column {} : not the same count number.\".format(col))"
   ]
  },
  {
   "cell_type": "markdown",
   "metadata": {},
   "source": [
    "Column last_modified is often NaT, which is why the count is not the same. For that others we always have the same number so we can take any column (and we take 'id')."
   ]
  },
  {
   "cell_type": "code",
   "execution_count": 31,
   "metadata": {},
   "outputs": [
    {
     "data": {
      "text/html": [
       "<div>\n",
       "<style scoped>\n",
       "    .dataframe tbody tr th:only-of-type {\n",
       "        vertical-align: middle;\n",
       "    }\n",
       "\n",
       "    .dataframe tbody tr th {\n",
       "        vertical-align: top;\n",
       "    }\n",
       "\n",
       "    .dataframe thead th {\n",
       "        text-align: right;\n",
       "    }\n",
       "</style>\n",
       "<table border=\"1\" class=\"dataframe\">\n",
       "  <thead>\n",
       "    <tr style=\"text-align: right;\">\n",
       "      <th></th>\n",
       "      <th>newspaper_id</th>\n",
       "      <th>year</th>\n",
       "      <th>count</th>\n",
       "    </tr>\n",
       "  </thead>\n",
       "  <tbody>\n",
       "    <tr>\n",
       "      <th>0</th>\n",
       "      <td>BDC</td>\n",
       "      <td>1839</td>\n",
       "      <td>23</td>\n",
       "    </tr>\n",
       "    <tr>\n",
       "      <th>1</th>\n",
       "      <td>CDV</td>\n",
       "      <td>1843</td>\n",
       "      <td>104</td>\n",
       "    </tr>\n",
       "    <tr>\n",
       "      <th>2</th>\n",
       "      <td>CDV</td>\n",
       "      <td>1844</td>\n",
       "      <td>98</td>\n",
       "    </tr>\n",
       "    <tr>\n",
       "      <th>3</th>\n",
       "      <td>CDV</td>\n",
       "      <td>1849</td>\n",
       "      <td>102</td>\n",
       "    </tr>\n",
       "    <tr>\n",
       "      <th>4</th>\n",
       "      <td>CDV</td>\n",
       "      <td>1850</td>\n",
       "      <td>105</td>\n",
       "    </tr>\n",
       "  </tbody>\n",
       "</table>\n",
       "</div>"
      ],
      "text/plain": [
       "  newspaper_id  year  count\n",
       "0          BDC  1839     23\n",
       "1          CDV  1843    104\n",
       "2          CDV  1844     98\n",
       "3          CDV  1849    102\n",
       "4          CDV  1850    105"
      ]
     },
     "execution_count": 31,
     "metadata": {},
     "output_type": "execute_result"
    }
   ],
   "source": [
    "# convert to df in order to plot\n",
    "nb_issue_per_np_year_id = nb_issue_per_np_year_id.reset_index(name='count')\n",
    "nb_issue_per_np_year_id.head(5)"
   ]
  },
  {
   "cell_type": "code",
   "execution_count": 32,
   "metadata": {},
   "outputs": [
    {
     "data": {
      "text/plain": [
       "<seaborn.axisgrid.FacetGrid at 0x1a1f12aba8>"
      ]
     },
     "execution_count": 32,
     "metadata": {},
     "output_type": "execute_result"
    },
    {
     "data": {
      "image/png": "[encoded data removed]",
      "text/plain": [
       "<Figure size 481.975x360 with 1 Axes>"
      ]
     },
     "metadata": {},
     "output_type": "display_data"
    }
   ],
   "source": [
    "# TEST >> modify\n",
    "sns.catplot(x=\"year\", y=\"count\", hue=\"newspaper_id\", data=nb_issue_per_np_year_id)"
   ]
  },
  {
   "cell_type": "markdown",
   "metadata": {},
   "source": [
    "#### By decade"
   ]
  },
  {
   "cell_type": "code",
   "execution_count": 19,
   "metadata": {},
   "outputs": [],
   "source": [
    "# Create new decade column\n",
    "issues_df['decade'] = issues_df.apply(lambda row: row.year-row.year%10, axis = 1) "
   ]
  },
  {
   "cell_type": "code",
   "execution_count": 20,
   "metadata": {},
   "outputs": [],
   "source": [
    "issue_per_np_decade = issues_df.groupby(['newspaper_id', 'decade']).count()"
   ]
  },
  {
   "cell_type": "code",
   "execution_count": 21,
   "metadata": {},
   "outputs": [
    {
     "data": {
      "text/html": [
       "<div>\n",
       "<style scoped>\n",
       "    .dataframe tbody tr th:only-of-type {\n",
       "        vertical-align: middle;\n",
       "    }\n",
       "\n",
       "    .dataframe tbody tr th {\n",
       "        vertical-align: top;\n",
       "    }\n",
       "\n",
       "    .dataframe thead th {\n",
       "        text-align: right;\n",
       "    }\n",
       "</style>\n",
       "<table border=\"1\" class=\"dataframe\">\n",
       "  <thead>\n",
       "    <tr style=\"text-align: right;\">\n",
       "      <th></th>\n",
       "      <th>newspaper_id</th>\n",
       "      <th>decade</th>\n",
       "      <th>count</th>\n",
       "    </tr>\n",
       "  </thead>\n",
       "  <tbody>\n",
       "    <tr>\n",
       "      <th>0</th>\n",
       "      <td>BDC</td>\n",
       "      <td>1830</td>\n",
       "      <td>23</td>\n",
       "    </tr>\n",
       "    <tr>\n",
       "      <th>1</th>\n",
       "      <td>CDV</td>\n",
       "      <td>1840</td>\n",
       "      <td>304</td>\n",
       "    </tr>\n",
       "    <tr>\n",
       "      <th>2</th>\n",
       "      <td>CDV</td>\n",
       "      <td>1850</td>\n",
       "      <td>896</td>\n",
       "    </tr>\n",
       "    <tr>\n",
       "      <th>3</th>\n",
       "      <td>DLE</td>\n",
       "      <td>1900</td>\n",
       "      <td>4</td>\n",
       "    </tr>\n",
       "    <tr>\n",
       "      <th>4</th>\n",
       "      <td>DLE</td>\n",
       "      <td>1910</td>\n",
       "      <td>398</td>\n",
       "    </tr>\n",
       "  </tbody>\n",
       "</table>\n",
       "</div>"
      ],
      "text/plain": [
       "  newspaper_id  decade  count\n",
       "0          BDC    1830     23\n",
       "1          CDV    1840    304\n",
       "2          CDV    1850    896\n",
       "3          DLE    1900      4\n",
       "4          DLE    1910    398"
      ]
     },
     "execution_count": 21,
     "metadata": {},
     "output_type": "execute_result"
    }
   ],
   "source": [
    "# convert to df in order to plot\n",
    "nb_issue_per_np_decade_id = issue_per_np_decade['id']\n",
    "nb_issue_per_np_decade_id = nb_issue_per_np_decade_id.reset_index(name='count')\n",
    "nb_issue_per_np_decade_id.head(5)"
   ]
  },
  {
   "cell_type": "markdown",
   "metadata": {},
   "source": [
    "Remark : same check as above > only difference is with column last_modified"
   ]
  },
  {
   "cell_type": "code",
   "execution_count": 22,
   "metadata": {},
   "outputs": [
    {
     "ename": "TypeError",
     "evalue": "'NoneType' object is not iterable",
     "output_type": "error",
     "traceback": [
      "\u001b[0;31m---------------------------------------------------------------------------\u001b[0m",
      "\u001b[0;31mTypeError\u001b[0m                                 Traceback (most recent call last)",
      "\u001b[0;32m<ipython-input-22-beda08dbcf80>\u001b[0m in \u001b[0;36m<module>\u001b[0;34m()\u001b[0m\n\u001b[1;32m      1\u001b[0m \u001b[0;31m#TODO : plot >> fix\u001b[0m\u001b[0;34m\u001b[0m\u001b[0;34m\u001b[0m\u001b[0m\n\u001b[1;32m      2\u001b[0m \u001b[0;32mwith\u001b[0m \u001b[0msns\u001b[0m\u001b[0;34m.\u001b[0m\u001b[0maxes_style\u001b[0m\u001b[0;34m(\u001b[0m\u001b[0;34m'white'\u001b[0m\u001b[0;34m)\u001b[0m\u001b[0;34m:\u001b[0m\u001b[0;34m\u001b[0m\u001b[0m\n\u001b[0;32m----> 3\u001b[0;31m     \u001b[0mg\u001b[0m \u001b[0;34m=\u001b[0m \u001b[0msns\u001b[0m\u001b[0;34m.\u001b[0m\u001b[0mfactorplot\u001b[0m\u001b[0;34m(\u001b[0m\u001b[0;34m\"decade\"\u001b[0m\u001b[0;34m,\u001b[0m \u001b[0mdata\u001b[0m\u001b[0;34m=\u001b[0m\u001b[0mnb_issue_per_np_decade_id\u001b[0m\u001b[0;34m,\u001b[0m \u001b[0maspect\u001b[0m\u001b[0;34m=\u001b[0m\u001b[0;36m4.0\u001b[0m\u001b[0;34m,\u001b[0m\u001b[0mhue\u001b[0m\u001b[0;34m=\u001b[0m\u001b[0;34m'newspaper_id'\u001b[0m\u001b[0;34m)\u001b[0m\u001b[0;34m\u001b[0m\u001b[0m\n\u001b[0m\u001b[1;32m      4\u001b[0m     \u001b[0mg\u001b[0m\u001b[0;34m.\u001b[0m\u001b[0mset_ylabels\u001b[0m\u001b[0;34m(\u001b[0m\u001b[0;34m'Number of Planets Discovered'\u001b[0m\u001b[0;34m)\u001b[0m\u001b[0;34m\u001b[0m\u001b[0m\n",
      "\u001b[0;32m/anaconda3/lib/python3.6/site-packages/seaborn/categorical.py\u001b[0m in \u001b[0;36mfactorplot\u001b[0;34m(x, y, hue, data, row, col, col_wrap, estimator, ci, n_boot, units, order, hue_order, row_order, col_order, kind, size, aspect, orient, color, palette, legend, legend_out, sharex, sharey, margin_titles, facet_kws, **kwargs)\u001b[0m\n\u001b[1;32m   3538\u001b[0m \u001b[0;34m\u001b[0m\u001b[0m\n\u001b[1;32m   3539\u001b[0m     \u001b[0;32mif\u001b[0m \u001b[0mlegend\u001b[0m \u001b[0;32mand\u001b[0m \u001b[0;34m(\u001b[0m\u001b[0mhue\u001b[0m \u001b[0;32mis\u001b[0m \u001b[0;32mnot\u001b[0m \u001b[0;32mNone\u001b[0m\u001b[0;34m)\u001b[0m \u001b[0;32mand\u001b[0m \u001b[0;34m(\u001b[0m\u001b[0mhue\u001b[0m \u001b[0;32mnot\u001b[0m \u001b[0;32min\u001b[0m \u001b[0;34m[\u001b[0m\u001b[0mx\u001b[0m\u001b[0;34m,\u001b[0m \u001b[0mrow\u001b[0m\u001b[0;34m,\u001b[0m \u001b[0mcol\u001b[0m\u001b[0;34m]\u001b[0m\u001b[0;34m)\u001b[0m\u001b[0;34m:\u001b[0m\u001b[0;34m\u001b[0m\u001b[0m\n\u001b[0;32m-> 3540\u001b[0;31m         \u001b[0mhue_order\u001b[0m \u001b[0;34m=\u001b[0m \u001b[0mlist\u001b[0m\u001b[0;34m(\u001b[0m\u001b[0mmap\u001b[0m\u001b[0;34m(\u001b[0m\u001b[0mutils\u001b[0m\u001b[0;34m.\u001b[0m\u001b[0mto_utf8\u001b[0m\u001b[0;34m,\u001b[0m \u001b[0mhue_order\u001b[0m\u001b[0;34m)\u001b[0m\u001b[0;34m)\u001b[0m\u001b[0;34m\u001b[0m\u001b[0m\n\u001b[0m\u001b[1;32m   3541\u001b[0m         \u001b[0mg\u001b[0m\u001b[0;34m.\u001b[0m\u001b[0madd_legend\u001b[0m\u001b[0;34m(\u001b[0m\u001b[0mtitle\u001b[0m\u001b[0;34m=\u001b[0m\u001b[0mhue\u001b[0m\u001b[0;34m,\u001b[0m \u001b[0mlabel_order\u001b[0m\u001b[0;34m=\u001b[0m\u001b[0mhue_order\u001b[0m\u001b[0;34m)\u001b[0m\u001b[0;34m\u001b[0m\u001b[0m\n\u001b[1;32m   3542\u001b[0m \u001b[0;34m\u001b[0m\u001b[0m\n",
      "\u001b[0;31mTypeError\u001b[0m: 'NoneType' object is not iterable"
     ]
    },
    {
     "data": {
      "image/png": "[encoded data removed]",
      "text/plain": [
       "<Figure size 1152x288 with 1 Axes>"
      ]
     },
     "metadata": {},
     "output_type": "display_data"
    }
   ],
   "source": [
    "#TODO : plot >> fix\n",
    "with sns.axes_style('white'):\n",
    "    g = sns.factorplot(\"decade\", data=nb_issue_per_np_decade_id, aspect=4.0,hue='newspaper_id')\n",
    "    g.set_ylabels('Number of Planets Discovered')"
   ]
  },
  {
   "cell_type": "markdown",
   "metadata": {},
   "source": [
    "#### By provenance (CH/Lux)"
   ]
  },
  {
   "cell_type": "markdown",
   "metadata": {},
   "source": [
    "By language (de, fr)"
   ]
  },
  {
   "cell_type": "code",
   "execution_count": null,
   "metadata": {},
   "outputs": [],
   "source": []
  }
 ],
 "metadata": {
  "kernelspec": {
   "display_name": "Python 3",
   "language": "python",
   "name": "python3"
  },
  "language_info": {
   "codemirror_mode": {
    "name": "ipython",
    "version": 3
   },
   "file_extension": ".py",
   "mimetype": "text/x-python",
   "name": "python",
   "nbconvert_exporter": "python",
   "pygments_lexer": "ipython3",
   "version": "3.6.5"
  }
 },
 "nbformat": 4,
 "nbformat_minor": 2
}
