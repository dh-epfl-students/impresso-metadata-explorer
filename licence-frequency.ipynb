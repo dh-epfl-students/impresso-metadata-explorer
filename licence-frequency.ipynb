{
 "cells": [
  {
   "cell_type": "markdown",
   "metadata": {},
   "source": [
    "# Licence and access rights notebook"
   ]
  },
  {
   "cell_type": "markdown",
   "metadata": {},
   "source": [
    "## Imports"
   ]
  },
  {
   "cell_type": "code",
   "execution_count": 1,
   "metadata": {},
   "outputs": [],
   "source": [
    "%load_ext autoreload\n",
    "%autoreload 2"
   ]
  },
  {
   "cell_type": "code",
   "execution_count": 2,
   "metadata": {},
   "outputs": [],
   "source": [
    "# %load imports.py\n",
    "# Basic imports\n",
    "import os\n",
    "import sys\n",
    "\n",
    "import matplotlib\n",
    "\n",
    "sys.path.append('./')\n",
    "\n",
    "# SQL database\n",
    "import pymysql\n",
    "\n",
    "# Classical external libraries\n",
    "import pandas as pd\n",
    "import numpy as np\n",
    "import seaborn as sns\n",
    "import matplotlib.pyplot as plt\n",
    "plt.style.use('classic')\n",
    "%matplotlib inline\n",
    "\n",
    "import seaborn as sns\n",
    "sns.set(style=\"darkgrid\")\n",
    "\n",
    "# Import py files for generic functions\n",
    "from sql import *\n",
    "from helpers import *\n"
   ]
  },
  {
   "cell_type": "markdown",
   "metadata": {},
   "source": [
    "## Connection to DB"
   ]
  },
  {
   "cell_type": "code",
   "execution_count": 3,
   "metadata": {},
   "outputs": [],
   "source": [
    "# Connexion database\n",
    "engine = db_engine()"
   ]
  },
  {
   "cell_type": "markdown",
   "metadata": {},
   "source": [
    "## Load Useful Data"
   ]
  },
  {
   "cell_type": "code",
   "execution_count": 4,
   "metadata": {},
   "outputs": [],
   "source": [
    "newspapers_df = read_table('impresso.newspapers', engine)\n",
    "issues_df = read_table('impresso.issues', engine)\n",
    "# Create new decade column\n",
    "issues_df['decade'] = issues_df.apply(lambda row: row.year-row.year%10, axis = 1) "
   ]
  },
  {
   "cell_type": "code",
   "execution_count": 27,
   "metadata": {},
   "outputs": [],
   "source": [
    "newspapers_metadata_df = read_table('newspapers_metadata', engine)\n",
    "meta_properties_df = read_table('meta_properties', engine)\n",
    "PROPERTIES = meta_properties_df.name.unique()"
   ]
  },
  {
   "cell_type": "markdown",
   "metadata": {},
   "source": [
    "## Number of issues by access right policy"
   ]
  },
  {
   "cell_type": "code",
   "execution_count": 18,
   "metadata": {},
   "outputs": [
    {
     "data": {
      "text/plain": [
       "array(['Closed', 'OpenPublic', 'OpenPrivate'], dtype=object)"
      ]
     },
     "execution_count": 18,
     "metadata": {},
     "output_type": "execute_result"
    }
   ],
   "source": [
    "issues_df.access_rights.unique()"
   ]
  },
  {
   "cell_type": "code",
   "execution_count": 12,
   "metadata": {},
   "outputs": [
    {
     "data": {
      "text/html": [
       "<div>\n",
       "<style scoped>\n",
       "    .dataframe tbody tr th:only-of-type {\n",
       "        vertical-align: middle;\n",
       "    }\n",
       "\n",
       "    .dataframe tbody tr th {\n",
       "        vertical-align: top;\n",
       "    }\n",
       "\n",
       "    .dataframe thead th {\n",
       "        text-align: right;\n",
       "    }\n",
       "</style>\n",
       "<table border=\"1\" class=\"dataframe\">\n",
       "  <thead>\n",
       "    <tr style=\"text-align: right;\">\n",
       "      <th></th>\n",
       "      <th>id</th>\n",
       "      <th>year</th>\n",
       "      <th>month</th>\n",
       "      <th>day</th>\n",
       "      <th>edition</th>\n",
       "      <th>access_rights</th>\n",
       "      <th>created</th>\n",
       "      <th>last_modified</th>\n",
       "      <th>is_damaged</th>\n",
       "      <th>s3_version</th>\n",
       "      <th>newspaper_id</th>\n",
       "      <th>decade</th>\n",
       "    </tr>\n",
       "  </thead>\n",
       "  <tbody>\n",
       "    <tr>\n",
       "      <td>0</td>\n",
       "      <td>actionfem-1927-10-15-a</td>\n",
       "      <td>1927</td>\n",
       "      <td>10</td>\n",
       "      <td>15</td>\n",
       "      <td>a</td>\n",
       "      <td>Closed</td>\n",
       "      <td>2019-06-15 12:22:38</td>\n",
       "      <td>NaT</td>\n",
       "      <td>0</td>\n",
       "      <td></td>\n",
       "      <td>actionfem</td>\n",
       "      <td>1920</td>\n",
       "    </tr>\n",
       "    <tr>\n",
       "      <td>1</td>\n",
       "      <td>actionfem-1927-11-15-a</td>\n",
       "      <td>1927</td>\n",
       "      <td>11</td>\n",
       "      <td>15</td>\n",
       "      <td>a</td>\n",
       "      <td>Closed</td>\n",
       "      <td>2019-06-15 12:22:38</td>\n",
       "      <td>NaT</td>\n",
       "      <td>0</td>\n",
       "      <td></td>\n",
       "      <td>actionfem</td>\n",
       "      <td>1920</td>\n",
       "    </tr>\n",
       "    <tr>\n",
       "      <td>2</td>\n",
       "      <td>actionfem-1927-12-15-a</td>\n",
       "      <td>1927</td>\n",
       "      <td>12</td>\n",
       "      <td>15</td>\n",
       "      <td>a</td>\n",
       "      <td>Closed</td>\n",
       "      <td>2019-06-15 12:22:38</td>\n",
       "      <td>NaT</td>\n",
       "      <td>0</td>\n",
       "      <td></td>\n",
       "      <td>actionfem</td>\n",
       "      <td>1920</td>\n",
       "    </tr>\n",
       "  </tbody>\n",
       "</table>\n",
       "</div>"
      ],
      "text/plain": [
       "                       id  year  month  day edition access_rights  \\\n",
       "0  actionfem-1927-10-15-a  1927     10   15       a        Closed   \n",
       "1  actionfem-1927-11-15-a  1927     11   15       a        Closed   \n",
       "2  actionfem-1927-12-15-a  1927     12   15       a        Closed   \n",
       "\n",
       "              created last_modified  is_damaged s3_version newspaper_id  \\\n",
       "0 2019-06-15 12:22:38           NaT           0               actionfem   \n",
       "1 2019-06-15 12:22:38           NaT           0               actionfem   \n",
       "2 2019-06-15 12:22:38           NaT           0               actionfem   \n",
       "\n",
       "   decade  \n",
       "0    1920  \n",
       "1    1920  \n",
       "2    1920  "
      ]
     },
     "execution_count": 12,
     "metadata": {},
     "output_type": "execute_result"
    }
   ],
   "source": [
    "issues_df.head(3)"
   ]
  },
  {
   "cell_type": "code",
   "execution_count": 23,
   "metadata": {},
   "outputs": [],
   "source": [
    "count_issue_ar_df, _, _ = group_and_count(issues_df, ['access_rights'], 'id', False)"
   ]
  },
  {
   "cell_type": "code",
   "execution_count": 32,
   "metadata": {},
   "outputs": [],
   "source": [
    "total_nb_issues = count_issue_ar_df['count'].sum()\n",
    "count_issue_ar_df['rate'] = count_issue_ar_df['count']/total_nb_issues"
   ]
  },
  {
   "cell_type": "code",
   "execution_count": 33,
   "metadata": {},
   "outputs": [
    {
     "data": {
      "text/html": [
       "<div>\n",
       "<style scoped>\n",
       "    .dataframe tbody tr th:only-of-type {\n",
       "        vertical-align: middle;\n",
       "    }\n",
       "\n",
       "    .dataframe tbody tr th {\n",
       "        vertical-align: top;\n",
       "    }\n",
       "\n",
       "    .dataframe thead th {\n",
       "        text-align: right;\n",
       "    }\n",
       "</style>\n",
       "<table border=\"1\" class=\"dataframe\">\n",
       "  <thead>\n",
       "    <tr style=\"text-align: right;\">\n",
       "      <th></th>\n",
       "      <th>access_rights</th>\n",
       "      <th>count</th>\n",
       "      <th>rate</th>\n",
       "    </tr>\n",
       "  </thead>\n",
       "  <tbody>\n",
       "    <tr>\n",
       "      <td>0</td>\n",
       "      <td>Closed</td>\n",
       "      <td>168685</td>\n",
       "      <td>0.381760</td>\n",
       "    </tr>\n",
       "    <tr>\n",
       "      <td>1</td>\n",
       "      <td>OpenPrivate</td>\n",
       "      <td>225703</td>\n",
       "      <td>0.510801</td>\n",
       "    </tr>\n",
       "    <tr>\n",
       "      <td>2</td>\n",
       "      <td>OpenPublic</td>\n",
       "      <td>47473</td>\n",
       "      <td>0.107439</td>\n",
       "    </tr>\n",
       "  </tbody>\n",
       "</table>\n",
       "</div>"
      ],
      "text/plain": [
       "  access_rights   count      rate\n",
       "0        Closed  168685  0.381760\n",
       "1   OpenPrivate  225703  0.510801\n",
       "2    OpenPublic   47473  0.107439"
      ]
     },
     "execution_count": 33,
     "metadata": {},
     "output_type": "execute_result"
    }
   ],
   "source": [
    "count_issue_ar_df"
   ]
  },
  {
   "cell_type": "markdown",
   "metadata": {},
   "source": [
    "On Oct. 15th 2019 : there are 225'703 open-private issues, 168'685 closed issues, and 47'473 open-public issues in the impresso db. <br/>\n",
    "In other words, half issues (~51%) are open-private, around 38% are closed and finally only almost 11% of issues are open-public."
   ]
  },
  {
   "cell_type": "markdown",
   "metadata": {},
   "source": [
    "### Filter on property"
   ]
  },
  {
   "cell_type": "markdown",
   "metadata": {},
   "source": [
    "#### By country"
   ]
  },
  {
   "cell_type": "code",
   "execution_count": 34,
   "metadata": {},
   "outputs": [],
   "source": [
    "newspapers_select_ch = np_by_property(newspapers_metadata_df, meta_properties_df, 'countryCode', 'CH')\n",
    "issues_df_select_ch = filter_df_by_np_id(issues_df, newspapers_select_ch)\n",
    "\n",
    "newspapers_select_lux = np_by_property(newspapers_metadata_df, meta_properties_df, 'countryCode', 'LU')\n",
    "issues_df_select_lux = filter_df_by_np_id(issues_df, newspapers_select_lux)"
   ]
  },
  {
   "cell_type": "code",
   "execution_count": 50,
   "metadata": {},
   "outputs": [],
   "source": [
    "count_issue_ar_ch_df, _, _ = group_and_count(issues_df_select_ch, ['access_rights'], 'id', False)\n",
    "count_issue_ar_lux_df, _, _ = group_and_count(issues_df_select_lux, ['access_rights'], 'id', False)"
   ]
  },
  {
   "cell_type": "code",
   "execution_count": 52,
   "metadata": {},
   "outputs": [],
   "source": [
    "total_nb_issues_ch = count_issue_ar_ch_df['count'].sum()\n",
    "total_nb_issues_lux = count_issue_ar_lux_df['count'].sum()"
   ]
  },
  {
   "cell_type": "code",
   "execution_count": 53,
   "metadata": {},
   "outputs": [],
   "source": [
    "total_nb_issues_ch_lux = total_nb_issues_ch+total_nb_issues_lux"
   ]
  },
  {
   "cell_type": "code",
   "execution_count": 54,
   "metadata": {},
   "outputs": [],
   "source": [
    "count_issue_ar_ch_df['ch_rate'] = count_issue_ar_ch_df['count']/total_nb_issues_ch"
   ]
  },
  {
   "cell_type": "code",
   "execution_count": 55,
   "metadata": {},
   "outputs": [],
   "source": [
    "count_issue_ar_lux_df['lux_rate'] = count_issue_ar_lux_df['count']/total_nb_issues_lux"
   ]
  },
  {
   "cell_type": "code",
   "execution_count": 56,
   "metadata": {},
   "outputs": [
    {
     "data": {
      "text/html": [
       "<div>\n",
       "<style scoped>\n",
       "    .dataframe tbody tr th:only-of-type {\n",
       "        vertical-align: middle;\n",
       "    }\n",
       "\n",
       "    .dataframe tbody tr th {\n",
       "        vertical-align: top;\n",
       "    }\n",
       "\n",
       "    .dataframe thead th {\n",
       "        text-align: right;\n",
       "    }\n",
       "</style>\n",
       "<table border=\"1\" class=\"dataframe\">\n",
       "  <thead>\n",
       "    <tr style=\"text-align: right;\">\n",
       "      <th></th>\n",
       "      <th>access_rights</th>\n",
       "      <th>count</th>\n",
       "      <th>ch_rate</th>\n",
       "    </tr>\n",
       "  </thead>\n",
       "  <tbody>\n",
       "    <tr>\n",
       "      <td>0</td>\n",
       "      <td>Closed</td>\n",
       "      <td>112676</td>\n",
       "      <td>0.316981</td>\n",
       "    </tr>\n",
       "    <tr>\n",
       "      <td>1</td>\n",
       "      <td>OpenPrivate</td>\n",
       "      <td>225611</td>\n",
       "      <td>0.634691</td>\n",
       "    </tr>\n",
       "    <tr>\n",
       "      <td>2</td>\n",
       "      <td>OpenPublic</td>\n",
       "      <td>17179</td>\n",
       "      <td>0.048328</td>\n",
       "    </tr>\n",
       "  </tbody>\n",
       "</table>\n",
       "</div>"
      ],
      "text/plain": [
       "  access_rights   count   ch_rate\n",
       "0        Closed  112676  0.316981\n",
       "1   OpenPrivate  225611  0.634691\n",
       "2    OpenPublic   17179  0.048328"
      ]
     },
     "execution_count": 56,
     "metadata": {},
     "output_type": "execute_result"
    }
   ],
   "source": [
    "count_issue_ar_ch_df"
   ]
  },
  {
   "cell_type": "code",
   "execution_count": 57,
   "metadata": {},
   "outputs": [
    {
     "data": {
      "text/html": [
       "<div>\n",
       "<style scoped>\n",
       "    .dataframe tbody tr th:only-of-type {\n",
       "        vertical-align: middle;\n",
       "    }\n",
       "\n",
       "    .dataframe tbody tr th {\n",
       "        vertical-align: top;\n",
       "    }\n",
       "\n",
       "    .dataframe thead th {\n",
       "        text-align: right;\n",
       "    }\n",
       "</style>\n",
       "<table border=\"1\" class=\"dataframe\">\n",
       "  <thead>\n",
       "    <tr style=\"text-align: right;\">\n",
       "      <th></th>\n",
       "      <th>access_rights</th>\n",
       "      <th>count</th>\n",
       "      <th>lux_rate</th>\n",
       "    </tr>\n",
       "  </thead>\n",
       "  <tbody>\n",
       "    <tr>\n",
       "      <td>0</td>\n",
       "      <td>Closed</td>\n",
       "      <td>56009</td>\n",
       "      <td>0.653814</td>\n",
       "    </tr>\n",
       "    <tr>\n",
       "      <td>1</td>\n",
       "      <td>OpenPublic</td>\n",
       "      <td>29656</td>\n",
       "      <td>0.346186</td>\n",
       "    </tr>\n",
       "  </tbody>\n",
       "</table>\n",
       "</div>"
      ],
      "text/plain": [
       "  access_rights  count  lux_rate\n",
       "0        Closed  56009  0.653814\n",
       "1    OpenPublic  29656  0.346186"
      ]
     },
     "execution_count": 57,
     "metadata": {},
     "output_type": "execute_result"
    }
   ],
   "source": [
    "count_issue_ar_lux_df"
   ]
  },
  {
   "cell_type": "markdown",
   "metadata": {},
   "source": [
    "Looking at the country level is very interesting because we see that the access right of issues in both countries are very different.\n",
    "- Switzerland : The percentage of open public issues is very low. Most issued (~63%) are open-private and the large majority of the rest (~32%) has closed access rights.\n",
    "- Luxembourg : On the contrary, there are no open-private access right on issues. Approximately two thirds (65%) of the issues has closed access rights, and the last third has open-public access."
   ]
  },
  {
   "cell_type": "markdown",
   "metadata": {},
   "source": [
    "## by newspaper"
   ]
  },
  {
   "cell_type": "markdown",
   "metadata": {},
   "source": [
    "## Number of content items by access right policy, filtered by property"
   ]
  },
  {
   "cell_type": "code",
   "execution_count": null,
   "metadata": {},
   "outputs": [],
   "source": []
  }
 ],
 "metadata": {
  "kernelspec": {
   "display_name": "Python 3",
   "language": "python",
   "name": "python3"
  },
  "language_info": {
   "codemirror_mode": {
    "name": "ipython",
    "version": 3
   },
   "file_extension": ".py",
   "mimetype": "text/x-python",
   "name": "python",
   "nbconvert_exporter": "python",
   "pygments_lexer": "ipython3",
   "version": "3.6.5"
  }
 },
 "nbformat": 4,
 "nbformat_minor": 2
}
