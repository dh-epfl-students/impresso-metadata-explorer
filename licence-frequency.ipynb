{
 "cells": [
  {
   "cell_type": "markdown",
   "metadata": {},
   "source": [
    "# Licence and access rights notebook"
   ]
  },
  {
   "cell_type": "markdown",
   "metadata": {},
   "source": [
    "## Imports"
   ]
  },
  {
   "cell_type": "code",
   "execution_count": 1,
   "metadata": {},
   "outputs": [],
   "source": [
    "%load_ext autoreload\n",
    "%autoreload 2"
   ]
  },
  {
   "cell_type": "code",
   "execution_count": 2,
   "metadata": {},
   "outputs": [],
   "source": [
    "# %load imports.py\n",
    "# Basic imports\n",
    "import os\n",
    "import sys\n",
    "\n",
    "import matplotlib\n",
    "\n",
    "sys.path.append('./')\n",
    "\n",
    "# SQL database\n",
    "import pymysql\n",
    "\n",
    "# Classical external libraries\n",
    "import pandas as pd\n",
    "import numpy as np\n",
    "import seaborn as sns\n",
    "import matplotlib.pyplot as plt\n",
    "plt.style.use('classic')\n",
    "\n",
    "import seaborn as sns\n",
    "sns.set(style=\"darkgrid\")\n",
    "\n",
    "import typing\n",
    "from datetime import date"
   ]
  },
  {
   "cell_type": "code",
   "execution_count": 3,
   "metadata": {},
   "outputs": [],
   "source": [
    "from helpers import group_and_count, read_table, decade_from_year_df, multiple_ar_np, license_stats_table, \\\n",
    "np_by_property, filter_df_by_np_id, np_country, filter_df\n",
    "from visualization import plot_licences\n",
    "from sql import db_engine\n",
    "from typing import Iterable"
   ]
  },
  {
   "cell_type": "markdown",
   "metadata": {},
   "source": [
    "## Connection to DB"
   ]
  },
  {
   "cell_type": "code",
   "execution_count": 4,
   "metadata": {},
   "outputs": [],
   "source": [
    "# Connexion database\n",
    "engine = db_engine()"
   ]
  },
  {
   "cell_type": "markdown",
   "metadata": {},
   "source": [
    "## Load Useful Data"
   ]
  },
  {
   "cell_type": "code",
   "execution_count": 5,
   "metadata": {},
   "outputs": [],
   "source": [
    "newspapers_df = read_table('impresso.newspapers', engine)\n",
    "issues_df = read_table('impresso.issues', engine)\n",
    "# Create new decade column\n",
    "issues_df = decade_from_year_df(issues_df)"
   ]
  },
  {
   "cell_type": "code",
   "execution_count": 6,
   "metadata": {},
   "outputs": [],
   "source": [
    "newspapers_metadata_df = read_table('newspapers_metadata', engine)\n",
    "meta_properties_df = read_table('meta_properties', engine)\n",
    "PROPERTIES = meta_properties_df.name.unique()"
   ]
  },
  {
   "cell_type": "markdown",
   "metadata": {},
   "source": [
    "## Number of issues by access right policy"
   ]
  },
  {
   "cell_type": "code",
   "execution_count": 27,
   "metadata": {},
   "outputs": [
    {
     "data": {
      "text/plain": [
       "array(['Closed', 'OpenPublic', 'OpenPrivate'], dtype=object)"
      ]
     },
     "execution_count": 27,
     "metadata": {},
     "output_type": "execute_result"
    }
   ],
   "source": [
    "issues_df.access_rights.unique()"
   ]
  },
  {
   "cell_type": "code",
   "execution_count": 28,
   "metadata": {},
   "outputs": [
    {
     "data": {
      "text/html": [
       "<div>\n",
       "<style scoped>\n",
       "    .dataframe tbody tr th:only-of-type {\n",
       "        vertical-align: middle;\n",
       "    }\n",
       "\n",
       "    .dataframe tbody tr th {\n",
       "        vertical-align: top;\n",
       "    }\n",
       "\n",
       "    .dataframe thead th {\n",
       "        text-align: right;\n",
       "    }\n",
       "</style>\n",
       "<table border=\"1\" class=\"dataframe\">\n",
       "  <thead>\n",
       "    <tr style=\"text-align: right;\">\n",
       "      <th></th>\n",
       "      <th>id</th>\n",
       "      <th>year</th>\n",
       "      <th>month</th>\n",
       "      <th>day</th>\n",
       "      <th>edition</th>\n",
       "      <th>access_rights</th>\n",
       "      <th>created</th>\n",
       "      <th>last_modified</th>\n",
       "      <th>is_damaged</th>\n",
       "      <th>s3_version</th>\n",
       "      <th>newspaper_id</th>\n",
       "      <th>decade</th>\n",
       "    </tr>\n",
       "  </thead>\n",
       "  <tbody>\n",
       "    <tr>\n",
       "      <td>0</td>\n",
       "      <td>actionfem-1927-10-15-a</td>\n",
       "      <td>1927</td>\n",
       "      <td>10</td>\n",
       "      <td>15</td>\n",
       "      <td>a</td>\n",
       "      <td>Closed</td>\n",
       "      <td>2019-06-15 12:22:38</td>\n",
       "      <td>NaT</td>\n",
       "      <td>0</td>\n",
       "      <td></td>\n",
       "      <td>actionfem</td>\n",
       "      <td>1920</td>\n",
       "    </tr>\n",
       "    <tr>\n",
       "      <td>1</td>\n",
       "      <td>actionfem-1927-11-15-a</td>\n",
       "      <td>1927</td>\n",
       "      <td>11</td>\n",
       "      <td>15</td>\n",
       "      <td>a</td>\n",
       "      <td>Closed</td>\n",
       "      <td>2019-06-15 12:22:38</td>\n",
       "      <td>NaT</td>\n",
       "      <td>0</td>\n",
       "      <td></td>\n",
       "      <td>actionfem</td>\n",
       "      <td>1920</td>\n",
       "    </tr>\n",
       "    <tr>\n",
       "      <td>2</td>\n",
       "      <td>actionfem-1927-12-15-a</td>\n",
       "      <td>1927</td>\n",
       "      <td>12</td>\n",
       "      <td>15</td>\n",
       "      <td>a</td>\n",
       "      <td>Closed</td>\n",
       "      <td>2019-06-15 12:22:38</td>\n",
       "      <td>NaT</td>\n",
       "      <td>0</td>\n",
       "      <td></td>\n",
       "      <td>actionfem</td>\n",
       "      <td>1920</td>\n",
       "    </tr>\n",
       "  </tbody>\n",
       "</table>\n",
       "</div>"
      ],
      "text/plain": [
       "                       id  year  month  day edition access_rights  \\\n",
       "0  actionfem-1927-10-15-a  1927     10   15       a        Closed   \n",
       "1  actionfem-1927-11-15-a  1927     11   15       a        Closed   \n",
       "2  actionfem-1927-12-15-a  1927     12   15       a        Closed   \n",
       "\n",
       "              created last_modified  is_damaged s3_version newspaper_id  \\\n",
       "0 2019-06-15 12:22:38           NaT           0               actionfem   \n",
       "1 2019-06-15 12:22:38           NaT           0               actionfem   \n",
       "2 2019-06-15 12:22:38           NaT           0               actionfem   \n",
       "\n",
       "   decade  \n",
       "0    1920  \n",
       "1    1920  \n",
       "2    1920  "
      ]
     },
     "execution_count": 28,
     "metadata": {},
     "output_type": "execute_result"
    }
   ],
   "source": [
    "issues_df.head(3)"
   ]
  },
  {
   "cell_type": "code",
   "execution_count": 48,
   "metadata": {},
   "outputs": [],
   "source": [
    "count_issue_ar_df, _, _ = group_and_count(issues_df, ['access_rights'], 'id')"
   ]
  },
  {
   "cell_type": "code",
   "execution_count": 49,
   "metadata": {},
   "outputs": [],
   "source": [
    "total_nb_issues = count_issue_ar_df['count'].sum()\n",
    "count_issue_ar_df['rate'] = count_issue_ar_df['count']/total_nb_issues"
   ]
  },
  {
   "cell_type": "code",
   "execution_count": 50,
   "metadata": {},
   "outputs": [
    {
     "data": {
      "text/html": [
       "<div>\n",
       "<style scoped>\n",
       "    .dataframe tbody tr th:only-of-type {\n",
       "        vertical-align: middle;\n",
       "    }\n",
       "\n",
       "    .dataframe tbody tr th {\n",
       "        vertical-align: top;\n",
       "    }\n",
       "\n",
       "    .dataframe thead th {\n",
       "        text-align: right;\n",
       "    }\n",
       "</style>\n",
       "<table border=\"1\" class=\"dataframe\">\n",
       "  <thead>\n",
       "    <tr style=\"text-align: right;\">\n",
       "      <th></th>\n",
       "      <th>access_rights</th>\n",
       "      <th>count</th>\n",
       "      <th>rate</th>\n",
       "    </tr>\n",
       "  </thead>\n",
       "  <tbody>\n",
       "    <tr>\n",
       "      <td>0</td>\n",
       "      <td>Closed</td>\n",
       "      <td>168685</td>\n",
       "      <td>0.381760</td>\n",
       "    </tr>\n",
       "    <tr>\n",
       "      <td>1</td>\n",
       "      <td>OpenPrivate</td>\n",
       "      <td>225703</td>\n",
       "      <td>0.510801</td>\n",
       "    </tr>\n",
       "    <tr>\n",
       "      <td>2</td>\n",
       "      <td>OpenPublic</td>\n",
       "      <td>47473</td>\n",
       "      <td>0.107439</td>\n",
       "    </tr>\n",
       "  </tbody>\n",
       "</table>\n",
       "</div>"
      ],
      "text/plain": [
       "  access_rights   count      rate\n",
       "0        Closed  168685  0.381760\n",
       "1   OpenPrivate  225703  0.510801\n",
       "2    OpenPublic   47473  0.107439"
      ]
     },
     "execution_count": 50,
     "metadata": {},
     "output_type": "execute_result"
    }
   ],
   "source": [
    "count_issue_ar_df"
   ]
  },
  {
   "cell_type": "markdown",
   "metadata": {},
   "source": [
    "On Oct. 15th 2019 : there are 225'703 open-private issues, 168'685 closed issues, and 47'473 open-public issues in the impresso db. <br/>\n",
    "In other words, half issues (~51%) are open-private, around 38% are closed and finally only almost 11% of issues are open-public."
   ]
  },
  {
   "cell_type": "markdown",
   "metadata": {},
   "source": [
    "### Filter on property"
   ]
  },
  {
   "cell_type": "markdown",
   "metadata": {},
   "source": [
    "#### By country"
   ]
  },
  {
   "cell_type": "code",
   "execution_count": 46,
   "metadata": {},
   "outputs": [],
   "source": [
    "issues_df_select_ch = filter_df_by_np_id(issues_df, np_country('CH'))\n",
    "issues_df_select_lux = filter_df_by_np_id(issues_df, np_country('LU'))"
   ]
  },
  {
   "cell_type": "code",
   "execution_count": 35,
   "metadata": {},
   "outputs": [],
   "source": [
    "count_issue_ar_ch_df, _, _ = group_and_count(issues_df_select_ch, ['access_rights'], 'id')\n",
    "count_issue_ar_lux_df, _, _ = group_and_count(issues_df_select_lux, ['access_rights'], 'id')"
   ]
  },
  {
   "cell_type": "code",
   "execution_count": 36,
   "metadata": {},
   "outputs": [],
   "source": [
    "total_nb_issues_ch = count_issue_ar_ch_df['count'].sum()\n",
    "total_nb_issues_lux = count_issue_ar_lux_df['count'].sum()"
   ]
  },
  {
   "cell_type": "code",
   "execution_count": 37,
   "metadata": {},
   "outputs": [],
   "source": [
    "total_nb_issues_ch_lux = total_nb_issues_ch+total_nb_issues_lux"
   ]
  },
  {
   "cell_type": "code",
   "execution_count": 38,
   "metadata": {},
   "outputs": [],
   "source": [
    "count_issue_ar_ch_df['ch_rate'] = count_issue_ar_ch_df['count']/total_nb_issues_ch"
   ]
  },
  {
   "cell_type": "code",
   "execution_count": 39,
   "metadata": {},
   "outputs": [],
   "source": [
    "count_issue_ar_lux_df['lux_rate'] = count_issue_ar_lux_df['count']/total_nb_issues_lux"
   ]
  },
  {
   "cell_type": "code",
   "execution_count": 40,
   "metadata": {},
   "outputs": [
    {
     "data": {
      "text/html": [
       "<div>\n",
       "<style scoped>\n",
       "    .dataframe tbody tr th:only-of-type {\n",
       "        vertical-align: middle;\n",
       "    }\n",
       "\n",
       "    .dataframe tbody tr th {\n",
       "        vertical-align: top;\n",
       "    }\n",
       "\n",
       "    .dataframe thead th {\n",
       "        text-align: right;\n",
       "    }\n",
       "</style>\n",
       "<table border=\"1\" class=\"dataframe\">\n",
       "  <thead>\n",
       "    <tr style=\"text-align: right;\">\n",
       "      <th></th>\n",
       "      <th>access_rights</th>\n",
       "      <th>count</th>\n",
       "      <th>ch_rate</th>\n",
       "    </tr>\n",
       "  </thead>\n",
       "  <tbody>\n",
       "    <tr>\n",
       "      <td>0</td>\n",
       "      <td>Closed</td>\n",
       "      <td>112676</td>\n",
       "      <td>0.316981</td>\n",
       "    </tr>\n",
       "    <tr>\n",
       "      <td>1</td>\n",
       "      <td>OpenPrivate</td>\n",
       "      <td>225611</td>\n",
       "      <td>0.634691</td>\n",
       "    </tr>\n",
       "    <tr>\n",
       "      <td>2</td>\n",
       "      <td>OpenPublic</td>\n",
       "      <td>17179</td>\n",
       "      <td>0.048328</td>\n",
       "    </tr>\n",
       "  </tbody>\n",
       "</table>\n",
       "</div>"
      ],
      "text/plain": [
       "  access_rights   count   ch_rate\n",
       "0        Closed  112676  0.316981\n",
       "1   OpenPrivate  225611  0.634691\n",
       "2    OpenPublic   17179  0.048328"
      ]
     },
     "execution_count": 40,
     "metadata": {},
     "output_type": "execute_result"
    }
   ],
   "source": [
    "count_issue_ar_ch_df"
   ]
  },
  {
   "cell_type": "code",
   "execution_count": 26,
   "metadata": {},
   "outputs": [
    {
     "data": {
      "text/html": [
       "<div>\n",
       "<style scoped>\n",
       "    .dataframe tbody tr th:only-of-type {\n",
       "        vertical-align: middle;\n",
       "    }\n",
       "\n",
       "    .dataframe tbody tr th {\n",
       "        vertical-align: top;\n",
       "    }\n",
       "\n",
       "    .dataframe thead th {\n",
       "        text-align: right;\n",
       "    }\n",
       "</style>\n",
       "<table border=\"1\" class=\"dataframe\">\n",
       "  <thead>\n",
       "    <tr style=\"text-align: right;\">\n",
       "      <th></th>\n",
       "      <th>access_rights</th>\n",
       "      <th>count</th>\n",
       "      <th>lux_rate</th>\n",
       "    </tr>\n",
       "  </thead>\n",
       "  <tbody>\n",
       "    <tr>\n",
       "      <td>0</td>\n",
       "      <td>Closed</td>\n",
       "      <td>56009</td>\n",
       "      <td>0.653814</td>\n",
       "    </tr>\n",
       "    <tr>\n",
       "      <td>1</td>\n",
       "      <td>OpenPublic</td>\n",
       "      <td>29656</td>\n",
       "      <td>0.346186</td>\n",
       "    </tr>\n",
       "  </tbody>\n",
       "</table>\n",
       "</div>"
      ],
      "text/plain": [
       "  access_rights  count  lux_rate\n",
       "0        Closed  56009  0.653814\n",
       "1    OpenPublic  29656  0.346186"
      ]
     },
     "execution_count": 26,
     "metadata": {},
     "output_type": "execute_result"
    }
   ],
   "source": [
    "count_issue_ar_lux_df"
   ]
  },
  {
   "cell_type": "markdown",
   "metadata": {},
   "source": [
    "Looking at the country level is very interesting because we see that the access right of issues in both countries are very different.\n",
    "- Switzerland : The percentage of open public issues is very low. Most issued (~63%) are open-private and the large majority of the rest (~32%) has closed access rights.\n",
    "- Luxembourg : On the contrary, there are no open-private access right on issues. Approximately two thirds (65%) of the issues has closed access rights, and the last third has open-public access."
   ]
  },
  {
   "cell_type": "markdown",
   "metadata": {},
   "source": [
    "### Issues access rights at the level of newspapers"
   ]
  },
  {
   "cell_type": "markdown",
   "metadata": {},
   "source": [
    "#### Insights on the newspapers which have several access right levels"
   ]
  },
  {
   "cell_type": "code",
   "execution_count": 22,
   "metadata": {},
   "outputs": [],
   "source": [
    "np_multiple_ar = multiple_ar_np(issues_df)"
   ]
  },
  {
   "cell_type": "code",
   "execution_count": 23,
   "metadata": {},
   "outputs": [
    {
     "name": "stdout",
     "output_type": "stream",
     "text": [
      "The following papers have issues with different access rights : \n"
     ]
    },
    {
     "data": {
      "text/plain": [
       "array(['EXP', 'GDL', 'IMP', 'LCE', 'LSE', 'indeplux', 'luxwort',\n",
       "       'waeschfra'], dtype=object)"
      ]
     },
     "execution_count": 23,
     "metadata": {},
     "output_type": "execute_result"
    }
   ],
   "source": [
    "print(\"The following papers have issues with different access rights : \")\n",
    "np_multiple_ar"
   ]
  },
  {
   "cell_type": "code",
   "execution_count": 24,
   "metadata": {},
   "outputs": [],
   "source": [
    "count_issues_np_ar,_,_ = group_and_count(issues_df, ['newspaper_id', 'access_rights'], 'id')"
   ]
  },
  {
   "cell_type": "code",
   "execution_count": 25,
   "metadata": {},
   "outputs": [
    {
     "data": {
      "text/html": [
       "<div>\n",
       "<style scoped>\n",
       "    .dataframe tbody tr th:only-of-type {\n",
       "        vertical-align: middle;\n",
       "    }\n",
       "\n",
       "    .dataframe tbody tr th {\n",
       "        vertical-align: top;\n",
       "    }\n",
       "\n",
       "    .dataframe thead th {\n",
       "        text-align: right;\n",
       "    }\n",
       "</style>\n",
       "<table border=\"1\" class=\"dataframe\">\n",
       "  <thead>\n",
       "    <tr style=\"text-align: right;\">\n",
       "      <th></th>\n",
       "      <th>newspaper_id</th>\n",
       "      <th>access_rights</th>\n",
       "      <th>count</th>\n",
       "    </tr>\n",
       "  </thead>\n",
       "  <tbody>\n",
       "    <tr>\n",
       "      <td>0</td>\n",
       "      <td>BDC</td>\n",
       "      <td>OpenPublic</td>\n",
       "      <td>23</td>\n",
       "    </tr>\n",
       "    <tr>\n",
       "      <td>1</td>\n",
       "      <td>CDV</td>\n",
       "      <td>OpenPublic</td>\n",
       "      <td>1200</td>\n",
       "    </tr>\n",
       "    <tr>\n",
       "      <td>2</td>\n",
       "      <td>DLE</td>\n",
       "      <td>OpenPrivate</td>\n",
       "      <td>402</td>\n",
       "    </tr>\n",
       "    <tr>\n",
       "      <td>3</td>\n",
       "      <td>EDA</td>\n",
       "      <td>OpenPublic</td>\n",
       "      <td>544</td>\n",
       "    </tr>\n",
       "    <tr>\n",
       "      <td>4</td>\n",
       "      <td>EXP</td>\n",
       "      <td>OpenPrivate</td>\n",
       "      <td>46196</td>\n",
       "    </tr>\n",
       "  </tbody>\n",
       "</table>\n",
       "</div>"
      ],
      "text/plain": [
       "  newspaper_id access_rights  count\n",
       "0          BDC    OpenPublic     23\n",
       "1          CDV    OpenPublic   1200\n",
       "2          DLE   OpenPrivate    402\n",
       "3          EDA    OpenPublic    544\n",
       "4          EXP   OpenPrivate  46196"
      ]
     },
     "execution_count": 25,
     "metadata": {},
     "output_type": "execute_result"
    }
   ],
   "source": [
    "count_issues_np_ar.head()"
   ]
  },
  {
   "cell_type": "code",
   "execution_count": 26,
   "metadata": {},
   "outputs": [],
   "source": [
    "ar_df = filter_df_by_np_id(count_issues_np_ar, np_multiple_ar)"
   ]
  },
  {
   "cell_type": "code",
   "execution_count": 27,
   "metadata": {},
   "outputs": [
    {
     "data": {
      "text/html": [
       "<div>\n",
       "<style scoped>\n",
       "    .dataframe tbody tr th:only-of-type {\n",
       "        vertical-align: middle;\n",
       "    }\n",
       "\n",
       "    .dataframe tbody tr th {\n",
       "        vertical-align: top;\n",
       "    }\n",
       "\n",
       "    .dataframe thead th {\n",
       "        text-align: right;\n",
       "    }\n",
       "</style>\n",
       "<table border=\"1\" class=\"dataframe\">\n",
       "  <thead>\n",
       "    <tr style=\"text-align: right;\">\n",
       "      <th>access_rights</th>\n",
       "      <th>newspaper_id</th>\n",
       "      <th>Closed</th>\n",
       "      <th>OpenPrivate</th>\n",
       "      <th>OpenPublic</th>\n",
       "      <th>Total</th>\n",
       "      <th>rate_Closed</th>\n",
       "      <th>rate_OpenPrivate</th>\n",
       "      <th>rate_OpenPublic</th>\n",
       "    </tr>\n",
       "  </thead>\n",
       "  <tbody>\n",
       "    <tr>\n",
       "      <td>0</td>\n",
       "      <td>EXP</td>\n",
       "      <td>0.0</td>\n",
       "      <td>46196.0</td>\n",
       "      <td>8.0</td>\n",
       "      <td>46204.0</td>\n",
       "      <td>0.000000</td>\n",
       "      <td>0.999827</td>\n",
       "      <td>0.000173</td>\n",
       "    </tr>\n",
       "    <tr>\n",
       "      <td>1</td>\n",
       "      <td>GDL</td>\n",
       "      <td>0.0</td>\n",
       "      <td>51062.0</td>\n",
       "      <td>8.0</td>\n",
       "      <td>51070.0</td>\n",
       "      <td>0.000000</td>\n",
       "      <td>0.999843</td>\n",
       "      <td>0.000157</td>\n",
       "    </tr>\n",
       "    <tr>\n",
       "      <td>2</td>\n",
       "      <td>IMP</td>\n",
       "      <td>0.0</td>\n",
       "      <td>40227.0</td>\n",
       "      <td>1.0</td>\n",
       "      <td>40228.0</td>\n",
       "      <td>0.000000</td>\n",
       "      <td>0.999975</td>\n",
       "      <td>0.000025</td>\n",
       "    </tr>\n",
       "    <tr>\n",
       "      <td>3</td>\n",
       "      <td>LCE</td>\n",
       "      <td>0.0</td>\n",
       "      <td>16291.0</td>\n",
       "      <td>1.0</td>\n",
       "      <td>16292.0</td>\n",
       "      <td>0.000000</td>\n",
       "      <td>0.999939</td>\n",
       "      <td>0.000061</td>\n",
       "    </tr>\n",
       "    <tr>\n",
       "      <td>4</td>\n",
       "      <td>LSE</td>\n",
       "      <td>0.0</td>\n",
       "      <td>20182.0</td>\n",
       "      <td>1.0</td>\n",
       "      <td>20183.0</td>\n",
       "      <td>0.000000</td>\n",
       "      <td>0.999950</td>\n",
       "      <td>0.000050</td>\n",
       "    </tr>\n",
       "    <tr>\n",
       "      <td>5</td>\n",
       "      <td>indeplux</td>\n",
       "      <td>16447.0</td>\n",
       "      <td>0.0</td>\n",
       "      <td>1903.0</td>\n",
       "      <td>18350.0</td>\n",
       "      <td>0.896294</td>\n",
       "      <td>0.000000</td>\n",
       "      <td>0.103706</td>\n",
       "    </tr>\n",
       "    <tr>\n",
       "      <td>6</td>\n",
       "      <td>luxwort</td>\n",
       "      <td>16027.0</td>\n",
       "      <td>0.0</td>\n",
       "      <td>14328.0</td>\n",
       "      <td>30355.0</td>\n",
       "      <td>0.527986</td>\n",
       "      <td>0.000000</td>\n",
       "      <td>0.472014</td>\n",
       "    </tr>\n",
       "    <tr>\n",
       "      <td>7</td>\n",
       "      <td>waeschfra</td>\n",
       "      <td>224.0</td>\n",
       "      <td>0.0</td>\n",
       "      <td>436.0</td>\n",
       "      <td>660.0</td>\n",
       "      <td>0.339394</td>\n",
       "      <td>0.000000</td>\n",
       "      <td>0.660606</td>\n",
       "    </tr>\n",
       "  </tbody>\n",
       "</table>\n",
       "</div>"
      ],
      "text/plain": [
       "access_rights newspaper_id   Closed  OpenPrivate  OpenPublic    Total  \\\n",
       "0                      EXP      0.0      46196.0         8.0  46204.0   \n",
       "1                      GDL      0.0      51062.0         8.0  51070.0   \n",
       "2                      IMP      0.0      40227.0         1.0  40228.0   \n",
       "3                      LCE      0.0      16291.0         1.0  16292.0   \n",
       "4                      LSE      0.0      20182.0         1.0  20183.0   \n",
       "5                 indeplux  16447.0          0.0      1903.0  18350.0   \n",
       "6                  luxwort  16027.0          0.0     14328.0  30355.0   \n",
       "7                waeschfra    224.0          0.0       436.0    660.0   \n",
       "\n",
       "access_rights  rate_Closed  rate_OpenPrivate  rate_OpenPublic  \n",
       "0                 0.000000          0.999827         0.000173  \n",
       "1                 0.000000          0.999843         0.000157  \n",
       "2                 0.000000          0.999975         0.000025  \n",
       "3                 0.000000          0.999939         0.000061  \n",
       "4                 0.000000          0.999950         0.000050  \n",
       "5                 0.896294          0.000000         0.103706  \n",
       "6                 0.527986          0.000000         0.472014  \n",
       "7                 0.339394          0.000000         0.660606  "
      ]
     },
     "execution_count": 27,
     "metadata": {},
     "output_type": "execute_result"
    }
   ],
   "source": [
    "license_stats_table(ar_df)"
   ]
  },
  {
   "cell_type": "markdown",
   "metadata": {},
   "source": [
    "Papers which have issues with several access rights can be grouped into three groups :\n",
    "- Group 1 : Those for which almost 100% of their issues have the same access right level and for which other access right permissions are very rare. It is actually the case for all swiss newspapers which have several access rights : EXP, GDL, IMP, LCE and LSE. For the last three, only one issue among all has a different access right. We could investigate on whether this is an outlier and what it is due to. Note also that they all have the same access right majority : OpenPrivate (and minority : OpenPublic).\n",
    "- Group 2 : Those for which most of their issues have the same access right level. It is the case for indeplux : almost 90% of its issues have access right Closed, whereas the left 10% are OpenPublic.\n",
    "- Group 3 : Those for which the difference between the two access right levels is more balanced. It is the case for luxwort (53% closed vs 47% open public) and waeschfra (34% closed vs 66% open public). \n",
    "\n",
    "Based on these observations, we can investigate on the following questions :\n",
    "- Where do the rare values in group 1 come from ? Errors from the dataset ? Particular issue-s ?\n",
    "- Are the access right levels in group 2 and 3 linked to some other property of the issues or to the date in time ?"
   ]
  },
  {
   "cell_type": "code",
   "execution_count": 17,
   "metadata": {},
   "outputs": [],
   "source": [
    "# TODO next : answer thw two questions above (and illustrate second one with plot in time if relevant)"
   ]
  },
  {
   "cell_type": "markdown",
   "metadata": {},
   "source": [
    "### Plot"
   ]
  },
  {
   "cell_type": "markdown",
   "metadata": {},
   "source": [
    "You can try a lot of things with this function and in particular add filters to focus on specific newspapers (by property, language, country, specific newspaper_ids). It is also possible to add a parameter 'batch_size' to limit the number of decades / np per plot."
   ]
  },
  {
   "cell_type": "code",
   "execution_count": 30,
   "metadata": {},
   "outputs": [
    {
     "data": {
      "image/png": "[encoded data removed]",
      "text/plain": [
       "<Figure size 820.975x360 with 1 Axes>"
      ]
     },
     "metadata": {},
     "output_type": "display_data"
    }
   ],
   "source": [
    "# newspaper_id dimension\n",
    "plot_licences(facet='newspapers', df=issues_df, country='CH')"
   ]
  },
  {
   "cell_type": "code",
   "execution_count": 31,
   "metadata": {},
   "outputs": [
    {
     "data": {
      "image/png": "[encoded data removed]",
      "text/plain": [
       "<Figure size 816.725x360 with 1 Axes>"
      ]
     },
     "metadata": {},
     "output_type": "display_data"
    }
   ],
   "source": [
    "# time (decade) dimension\n",
    "plot_licences(facet='time', df=issues_df, country='LU')"
   ]
  },
  {
   "cell_type": "code",
   "execution_count": null,
   "metadata": {},
   "outputs": [],
   "source": []
  }
 ],
 "metadata": {
  "kernelspec": {
   "display_name": "Python 3",
   "language": "python",
   "name": "python3"
  },
  "language_info": {
   "codemirror_mode": {
    "name": "ipython",
    "version": 3
   },
   "file_extension": ".py",
   "mimetype": "text/x-python",
   "name": "python",
   "nbconvert_exporter": "python",
   "pygments_lexer": "ipython3",
   "version": "3.6.5"
  }
 },
 "nbformat": 4,
 "nbformat_minor": 2
}
